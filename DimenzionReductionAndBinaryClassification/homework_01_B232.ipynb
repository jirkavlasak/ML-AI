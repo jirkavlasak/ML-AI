{
 "cells": [
  {
   "cell_type": "markdown",
   "metadata": {},
   "source": [
    "# Úkol č. 1 - redukce dimenzionality a binární klasifikace\n",
    "\n",
    "  * **Deadline je 22. 4. 2024, 23:59:59**, pokud odevzdáte úkol do 29. 4. 2024, 23:59:59, budete penalizování -12 body, pozdější odevzdání je bez bodu.\n",
    "  * V rámci tohoto úkolu se musíte vypořádat s vysokou dimenzí problému a poté úspěšně aplikovat vhodný klasfikační model.\n",
    "    \n",
    "> **Úkoly jsou zadány tak, aby Vám daly prostor pro invenci. Vymyslet _jak přesně_ budete úkol řešit, je důležitou součástí zadání a originalita či nápaditost bude také hodnocena!**\n",
    "\n",
    "Využívejte buňky typu `Markdown` k vysvětlování Vašeho postupu. Za nepřehlednost budou strhávány body.\n",
    "\n",
    "## Zdroj dat\n",
    "\n",
    " * Zdrojem dat jsou soubory `train.csv` a `evaluate.csv`.\n",
    " * Jedná se o obrázky 28x28 pixelů ve stupních šedi, které byly získány z [Fashion Mnist datasetu](https://www.kaggle.com/datasets/zalando-research/fashionmnist).\n",
    " * Soubor `train.csv` obsahuje trénovací data.\n",
    " * Cílová (vysvětlovaná) proměnná se jmenuje **label**.\n",
    " * Soubor `evaluate.csv` obsahuje testovací data bez hodnot skutečných labelů.\n",
    "\n",
    "## Pokyny k vypracování\n",
    "\n",
    "**Body zadání**, za jejichž (poctivé) vypracování získáte **25 bodů**:\n",
    "  * V notebooku načtěte data ze souboru `train.csv`. Vhodným způsobem si je rozdělte na podmnožiny, které Vám poslouží pro trénování, porovnávání modelů a následnou predikci výkonnosti finálního modelu.\n",
    "  * Proveďte základní průzkum dat a svá pozorování diskutujte. Některé obrázky také zobrazte.\n",
    "  * Postupně aplikujte modely **SVM**, **naivní Bayesův klasifikátor** a **LDA**, přičemž pro každý z nich:\n",
    "      * Okomentujte vhodnost daného modelu pro daný typ úlohy.\n",
    "      * Vyberte si hlavní hyperparametry k ladění (pokud model má hyperparametry) a najděte jejich nejlepší hodnoty.\n",
    "      * Experimentujte se standardizací/normalizací dat.\n",
    "      * U SVM vyzkoušejte alespoň dvě různé jádrové funkce.\n",
    "      * Získané výsledky vždy řádně okomentujte.\n",
    "\n",
    "\n",
    "  * Postupně aplikujte metody redukce dimenzionality PCA a LLE, přičemž pro každou z nich: \n",
    "      * Zopakujte předchozí kroky a pokuste modely vylepšit\n",
    "      * Zkoumejte jaká dimenze je z hlediska výkonnosti finálního modelu nejlepší.\n",
    "      * Získané výsledky vždy řádně okomentujte.\n",
    "    \n",
    "  * Ze všech zkoušených možností vyberte finální model a odhadněte, jakou přesnost můžete očekávat na nových datech, která jste doposud neměli k dispozici.\n",
    "  \n",
    "  * Nakonec načtěte vyhodnocovací data ze souboru`evaluate.csv`. Pomocí finálního modelu napočítejte predikce pro tyto data (vysvětlovaná proměnná v nich již není). Vytvořte soubor `results.csv`, ve kterém získané predikce uložíte do sloupce **label** a identifikátory do sloupce **ID**. Tento soubor též odevzdejte (uložte do projektu vedle notebooku).\n",
    "   \n",
    "   * Ukázka prvních řádků souboru `results.csv`:\n",
    "  \n",
    "```\n",
    "ID,label\n",
    "0,0\n",
    "1,1\n",
    "...\n",
    "```\n",
    "\n",
    "## Poznámky k odevzdání\n",
    "\n",
    "  * Řiďte se pokyny ze stránky https://courses.fit.cvut.cz/BI-ML2/homeworks/index.html.\n",
    "  * Vytvořte i csv soubor `results.csv` s predikcemi a uložte ho v rámci projektu vedle ipython notebooku."
   ]
  },
  {
   "cell_type": "markdown",
   "metadata": {
    "collapsed": false
   },
   "source": [
    "# Nacteni dat a nahlednuti na data\n",
    "### Nejprve si data nactu a vhodne pojmenuji data set. Pote so podivam jestli jsou data plne vyplnene a jake hodnoty obsahuji. Podivam se jak jsou vyplnene, vykreslim  si je a budu zkoumat jejich ruzne aspekty."
   ]
  },
  {
   "cell_type": "code",
   "execution_count": 77,
   "metadata": {
    "collapsed": false,
    "ExecuteTime": {
     "end_time": "2024-04-22T19:00:08.568789500Z",
     "start_time": "2024-04-22T19:00:08.314588800Z"
    }
   },
   "outputs": [],
   "source": [
    "import pandas as pd\n",
    "data_frame = pd.read_csv('train.csv')"
   ]
  },
  {
   "cell_type": "code",
   "execution_count": 78,
   "metadata": {
    "collapsed": false,
    "ExecuteTime": {
     "end_time": "2024-04-22T19:00:08.569791500Z",
     "start_time": "2024-04-22T19:00:08.404658300Z"
    }
   },
   "outputs": [
    {
     "data": {
      "text/plain": "   label  pixel1  pixel2  pixel3  pixel4  pixel5  pixel6  pixel7  pixel8  \\\n0      1       0       0       0       0       0       0       0       0   \n1      0       0       0       0       0       0       0       0       0   \n2      1       0       0       0       0       0       0       0       0   \n3      0       0       0       0       0       0       0       0       0   \n4      1       0       0       0       0       0       0       0       0   \n\n   pixel9  ...  pixel775  pixel776  pixel777  pixel778  pixel779  pixel780  \\\n0       0  ...       208       122         0         0         0         0   \n1       0  ...         0         0         0         0         0         0   \n2       1  ...        75        11         0         1         0         0   \n3       0  ...       106       103        76         0         0         0   \n4       0  ...         0         0         0         0         0         0   \n\n   pixel781  pixel782  pixel783  pixel784  \n0         0         0         0         0  \n1         0         0         0         0  \n2         0         0         0         0  \n3         0         0         0         0  \n4         0         0         0         0  \n\n[5 rows x 785 columns]",
      "text/html": "<div>\n<style scoped>\n    .dataframe tbody tr th:only-of-type {\n        vertical-align: middle;\n    }\n\n    .dataframe tbody tr th {\n        vertical-align: top;\n    }\n\n    .dataframe thead th {\n        text-align: right;\n    }\n</style>\n<table border=\"1\" class=\"dataframe\">\n  <thead>\n    <tr style=\"text-align: right;\">\n      <th></th>\n      <th>label</th>\n      <th>pixel1</th>\n      <th>pixel2</th>\n      <th>pixel3</th>\n      <th>pixel4</th>\n      <th>pixel5</th>\n      <th>pixel6</th>\n      <th>pixel7</th>\n      <th>pixel8</th>\n      <th>pixel9</th>\n      <th>...</th>\n      <th>pixel775</th>\n      <th>pixel776</th>\n      <th>pixel777</th>\n      <th>pixel778</th>\n      <th>pixel779</th>\n      <th>pixel780</th>\n      <th>pixel781</th>\n      <th>pixel782</th>\n      <th>pixel783</th>\n      <th>pixel784</th>\n    </tr>\n  </thead>\n  <tbody>\n    <tr>\n      <th>0</th>\n      <td>1</td>\n      <td>0</td>\n      <td>0</td>\n      <td>0</td>\n      <td>0</td>\n      <td>0</td>\n      <td>0</td>\n      <td>0</td>\n      <td>0</td>\n      <td>0</td>\n      <td>...</td>\n      <td>208</td>\n      <td>122</td>\n      <td>0</td>\n      <td>0</td>\n      <td>0</td>\n      <td>0</td>\n      <td>0</td>\n      <td>0</td>\n      <td>0</td>\n      <td>0</td>\n    </tr>\n    <tr>\n      <th>1</th>\n      <td>0</td>\n      <td>0</td>\n      <td>0</td>\n      <td>0</td>\n      <td>0</td>\n      <td>0</td>\n      <td>0</td>\n      <td>0</td>\n      <td>0</td>\n      <td>0</td>\n      <td>...</td>\n      <td>0</td>\n      <td>0</td>\n      <td>0</td>\n      <td>0</td>\n      <td>0</td>\n      <td>0</td>\n      <td>0</td>\n      <td>0</td>\n      <td>0</td>\n      <td>0</td>\n    </tr>\n    <tr>\n      <th>2</th>\n      <td>1</td>\n      <td>0</td>\n      <td>0</td>\n      <td>0</td>\n      <td>0</td>\n      <td>0</td>\n      <td>0</td>\n      <td>0</td>\n      <td>0</td>\n      <td>1</td>\n      <td>...</td>\n      <td>75</td>\n      <td>11</td>\n      <td>0</td>\n      <td>1</td>\n      <td>0</td>\n      <td>0</td>\n      <td>0</td>\n      <td>0</td>\n      <td>0</td>\n      <td>0</td>\n    </tr>\n    <tr>\n      <th>3</th>\n      <td>0</td>\n      <td>0</td>\n      <td>0</td>\n      <td>0</td>\n      <td>0</td>\n      <td>0</td>\n      <td>0</td>\n      <td>0</td>\n      <td>0</td>\n      <td>0</td>\n      <td>...</td>\n      <td>106</td>\n      <td>103</td>\n      <td>76</td>\n      <td>0</td>\n      <td>0</td>\n      <td>0</td>\n      <td>0</td>\n      <td>0</td>\n      <td>0</td>\n      <td>0</td>\n    </tr>\n    <tr>\n      <th>4</th>\n      <td>1</td>\n      <td>0</td>\n      <td>0</td>\n      <td>0</td>\n      <td>0</td>\n      <td>0</td>\n      <td>0</td>\n      <td>0</td>\n      <td>0</td>\n      <td>0</td>\n      <td>...</td>\n      <td>0</td>\n      <td>0</td>\n      <td>0</td>\n      <td>0</td>\n      <td>0</td>\n      <td>0</td>\n      <td>0</td>\n      <td>0</td>\n      <td>0</td>\n      <td>0</td>\n    </tr>\n  </tbody>\n</table>\n<p>5 rows × 785 columns</p>\n</div>"
     },
     "execution_count": 78,
     "metadata": {},
     "output_type": "execute_result"
    }
   ],
   "source": [
    "data_frame.head()"
   ]
  },
  {
   "cell_type": "code",
   "execution_count": 79,
   "metadata": {
    "collapsed": false,
    "ExecuteTime": {
     "end_time": "2024-04-22T19:00:08.571792800Z",
     "start_time": "2024-04-22T19:00:08.414766500Z"
    }
   },
   "outputs": [
    {
     "name": "stdout",
     "output_type": "stream",
     "text": [
      "<class 'pandas.core.frame.DataFrame'>\n",
      "RangeIndex: 2400 entries, 0 to 2399\n",
      "Columns: 785 entries, label to pixel784\n",
      "dtypes: int64(785)\n",
      "memory usage: 14.4 MB\n"
     ]
    }
   ],
   "source": [
    "data_frame.info()"
   ]
  },
  {
   "cell_type": "code",
   "execution_count": 80,
   "metadata": {
    "ExecuteTime": {
     "end_time": "2024-04-22T19:00:08.571792800Z",
     "start_time": "2024-04-22T19:00:08.433394400Z"
    }
   },
   "outputs": [
    {
     "name": "stdout",
     "output_type": "stream",
     "text": [
      "Pocet unikatnich label:  2\n",
      "Pocet prvku pro kazdy unikatni:  label\n",
      "0    1238\n",
      "1    1162\n",
      "Name: count, dtype: int64\n"
     ]
    }
   ],
   "source": [
    "#Spocitame kolik mame unikatnich labeles a jejich pocet\n",
    "count_uniq = len(data_frame['label'].unique())\n",
    "sum_uniq = data_frame['label'].value_counts()\n",
    "print('Pocet unikatnich label: ',count_uniq)\n",
    "print('Pocet prvku pro kazdy unikatni: ',sum_uniq)"
   ]
  },
  {
   "cell_type": "code",
   "execution_count": 81,
   "metadata": {
    "collapsed": false,
    "ExecuteTime": {
     "end_time": "2024-04-22T19:00:08.572794100Z",
     "start_time": "2024-04-22T19:00:08.439435100Z"
    }
   },
   "outputs": [
    {
     "name": "stdout",
     "output_type": "stream",
     "text": [
      "0\n"
     ]
    }
   ],
   "source": [
    "is_null_sum = data_frame.isnull().values.any().sum()\n",
    "print(is_null_sum)"
   ]
  },
  {
   "cell_type": "code",
   "execution_count": 82,
   "metadata": {
    "collapsed": false,
    "ExecuteTime": {
     "end_time": "2024-04-22T19:00:09.134521800Z",
     "start_time": "2024-04-22T19:00:08.443847400Z"
    }
   },
   "outputs": [
    {
     "data": {
      "text/plain": "             label  pixel1  pixel2  pixel3       pixel4       pixel5  \\\ncount  2400.000000  2400.0  2400.0  2400.0  2400.000000  2400.000000   \nmean      0.484167     0.0     0.0     0.0     0.002083     0.098333   \nstd       0.499853     0.0     0.0     0.0     0.067682     1.895871   \nmin       0.000000     0.0     0.0     0.0     0.000000     0.000000   \n25%       0.000000     0.0     0.0     0.0     0.000000     0.000000   \n50%       0.000000     0.0     0.0     0.0     0.000000     0.000000   \n75%       1.000000     0.0     0.0     0.0     0.000000     0.000000   \nmax       1.000000     0.0     0.0     0.0     3.000000    69.000000   \n\n            pixel6       pixel7       pixel8       pixel9  ...     pixel775  \\\ncount  2400.000000  2400.000000  2400.000000  2400.000000  ...  2400.000000   \nmean      0.302500     0.846250     2.256250     6.025000  ...    65.379583   \nstd       5.014792     9.262155    15.491603    25.358871  ...    66.874570   \nmin       0.000000     0.000000     0.000000     0.000000  ...     0.000000   \n25%       0.000000     0.000000     0.000000     0.000000  ...     0.000000   \n50%       0.000000     0.000000     0.000000     0.000000  ...    48.000000   \n75%       0.000000     0.000000     0.000000     0.000000  ...   114.250000   \nmax     188.000000   189.000000   219.000000   243.000000  ...   248.000000   \n\n          pixel776     pixel777     pixel778     pixel779     pixel780  \\\ncount  2400.000000  2400.000000  2400.000000  2400.000000  2400.000000   \nmean     26.975417     9.651667     3.307500     1.249167     0.460417   \nstd      49.060424    30.540885    18.067668    11.443957     6.363199   \nmin       0.000000     0.000000     0.000000     0.000000     0.000000   \n25%       0.000000     0.000000     0.000000     0.000000     0.000000   \n50%       0.000000     0.000000     0.000000     0.000000     0.000000   \n75%      35.000000     0.000000     0.000000     0.000000     0.000000   \nmax     252.000000   246.000000   212.000000   179.000000   176.000000   \n\n         pixel781     pixel782     pixel783  pixel784  \ncount  2400.00000  2400.000000  2400.000000    2400.0  \nmean      0.11250     0.038750     0.010833       0.0  \nstd       2.82043     1.742655     0.530723       0.0  \nmin       0.00000     0.000000     0.000000       0.0  \n25%       0.00000     0.000000     0.000000       0.0  \n50%       0.00000     0.000000     0.000000       0.0  \n75%       0.00000     0.000000     0.000000       0.0  \nmax      88.00000    85.000000    26.000000       0.0  \n\n[8 rows x 785 columns]",
      "text/html": "<div>\n<style scoped>\n    .dataframe tbody tr th:only-of-type {\n        vertical-align: middle;\n    }\n\n    .dataframe tbody tr th {\n        vertical-align: top;\n    }\n\n    .dataframe thead th {\n        text-align: right;\n    }\n</style>\n<table border=\"1\" class=\"dataframe\">\n  <thead>\n    <tr style=\"text-align: right;\">\n      <th></th>\n      <th>label</th>\n      <th>pixel1</th>\n      <th>pixel2</th>\n      <th>pixel3</th>\n      <th>pixel4</th>\n      <th>pixel5</th>\n      <th>pixel6</th>\n      <th>pixel7</th>\n      <th>pixel8</th>\n      <th>pixel9</th>\n      <th>...</th>\n      <th>pixel775</th>\n      <th>pixel776</th>\n      <th>pixel777</th>\n      <th>pixel778</th>\n      <th>pixel779</th>\n      <th>pixel780</th>\n      <th>pixel781</th>\n      <th>pixel782</th>\n      <th>pixel783</th>\n      <th>pixel784</th>\n    </tr>\n  </thead>\n  <tbody>\n    <tr>\n      <th>count</th>\n      <td>2400.000000</td>\n      <td>2400.0</td>\n      <td>2400.0</td>\n      <td>2400.0</td>\n      <td>2400.000000</td>\n      <td>2400.000000</td>\n      <td>2400.000000</td>\n      <td>2400.000000</td>\n      <td>2400.000000</td>\n      <td>2400.000000</td>\n      <td>...</td>\n      <td>2400.000000</td>\n      <td>2400.000000</td>\n      <td>2400.000000</td>\n      <td>2400.000000</td>\n      <td>2400.000000</td>\n      <td>2400.000000</td>\n      <td>2400.00000</td>\n      <td>2400.000000</td>\n      <td>2400.000000</td>\n      <td>2400.0</td>\n    </tr>\n    <tr>\n      <th>mean</th>\n      <td>0.484167</td>\n      <td>0.0</td>\n      <td>0.0</td>\n      <td>0.0</td>\n      <td>0.002083</td>\n      <td>0.098333</td>\n      <td>0.302500</td>\n      <td>0.846250</td>\n      <td>2.256250</td>\n      <td>6.025000</td>\n      <td>...</td>\n      <td>65.379583</td>\n      <td>26.975417</td>\n      <td>9.651667</td>\n      <td>3.307500</td>\n      <td>1.249167</td>\n      <td>0.460417</td>\n      <td>0.11250</td>\n      <td>0.038750</td>\n      <td>0.010833</td>\n      <td>0.0</td>\n    </tr>\n    <tr>\n      <th>std</th>\n      <td>0.499853</td>\n      <td>0.0</td>\n      <td>0.0</td>\n      <td>0.0</td>\n      <td>0.067682</td>\n      <td>1.895871</td>\n      <td>5.014792</td>\n      <td>9.262155</td>\n      <td>15.491603</td>\n      <td>25.358871</td>\n      <td>...</td>\n      <td>66.874570</td>\n      <td>49.060424</td>\n      <td>30.540885</td>\n      <td>18.067668</td>\n      <td>11.443957</td>\n      <td>6.363199</td>\n      <td>2.82043</td>\n      <td>1.742655</td>\n      <td>0.530723</td>\n      <td>0.0</td>\n    </tr>\n    <tr>\n      <th>min</th>\n      <td>0.000000</td>\n      <td>0.0</td>\n      <td>0.0</td>\n      <td>0.0</td>\n      <td>0.000000</td>\n      <td>0.000000</td>\n      <td>0.000000</td>\n      <td>0.000000</td>\n      <td>0.000000</td>\n      <td>0.000000</td>\n      <td>...</td>\n      <td>0.000000</td>\n      <td>0.000000</td>\n      <td>0.000000</td>\n      <td>0.000000</td>\n      <td>0.000000</td>\n      <td>0.000000</td>\n      <td>0.00000</td>\n      <td>0.000000</td>\n      <td>0.000000</td>\n      <td>0.0</td>\n    </tr>\n    <tr>\n      <th>25%</th>\n      <td>0.000000</td>\n      <td>0.0</td>\n      <td>0.0</td>\n      <td>0.0</td>\n      <td>0.000000</td>\n      <td>0.000000</td>\n      <td>0.000000</td>\n      <td>0.000000</td>\n      <td>0.000000</td>\n      <td>0.000000</td>\n      <td>...</td>\n      <td>0.000000</td>\n      <td>0.000000</td>\n      <td>0.000000</td>\n      <td>0.000000</td>\n      <td>0.000000</td>\n      <td>0.000000</td>\n      <td>0.00000</td>\n      <td>0.000000</td>\n      <td>0.000000</td>\n      <td>0.0</td>\n    </tr>\n    <tr>\n      <th>50%</th>\n      <td>0.000000</td>\n      <td>0.0</td>\n      <td>0.0</td>\n      <td>0.0</td>\n      <td>0.000000</td>\n      <td>0.000000</td>\n      <td>0.000000</td>\n      <td>0.000000</td>\n      <td>0.000000</td>\n      <td>0.000000</td>\n      <td>...</td>\n      <td>48.000000</td>\n      <td>0.000000</td>\n      <td>0.000000</td>\n      <td>0.000000</td>\n      <td>0.000000</td>\n      <td>0.000000</td>\n      <td>0.00000</td>\n      <td>0.000000</td>\n      <td>0.000000</td>\n      <td>0.0</td>\n    </tr>\n    <tr>\n      <th>75%</th>\n      <td>1.000000</td>\n      <td>0.0</td>\n      <td>0.0</td>\n      <td>0.0</td>\n      <td>0.000000</td>\n      <td>0.000000</td>\n      <td>0.000000</td>\n      <td>0.000000</td>\n      <td>0.000000</td>\n      <td>0.000000</td>\n      <td>...</td>\n      <td>114.250000</td>\n      <td>35.000000</td>\n      <td>0.000000</td>\n      <td>0.000000</td>\n      <td>0.000000</td>\n      <td>0.000000</td>\n      <td>0.00000</td>\n      <td>0.000000</td>\n      <td>0.000000</td>\n      <td>0.0</td>\n    </tr>\n    <tr>\n      <th>max</th>\n      <td>1.000000</td>\n      <td>0.0</td>\n      <td>0.0</td>\n      <td>0.0</td>\n      <td>3.000000</td>\n      <td>69.000000</td>\n      <td>188.000000</td>\n      <td>189.000000</td>\n      <td>219.000000</td>\n      <td>243.000000</td>\n      <td>...</td>\n      <td>248.000000</td>\n      <td>252.000000</td>\n      <td>246.000000</td>\n      <td>212.000000</td>\n      <td>179.000000</td>\n      <td>176.000000</td>\n      <td>88.00000</td>\n      <td>85.000000</td>\n      <td>26.000000</td>\n      <td>0.0</td>\n    </tr>\n  </tbody>\n</table>\n<p>8 rows × 785 columns</p>\n</div>"
     },
     "execution_count": 82,
     "metadata": {},
     "output_type": "execute_result"
    }
   ],
   "source": [
    "data_frame.describe(include='all')"
   ]
  },
  {
   "cell_type": "markdown",
   "metadata": {},
   "source": [
    "# Rozdeleni dat\n",
    "### Rozdelim data na trenovaci, validacni a testovaci obdobne jako jsme to delali na cviceni. "
   ]
  },
  {
   "cell_type": "code",
   "execution_count": 83,
   "metadata": {
    "collapsed": false,
    "ExecuteTime": {
     "end_time": "2024-04-22T19:00:09.918984200Z",
     "start_time": "2024-04-22T19:00:09.137529100Z"
    }
   },
   "outputs": [
    {
     "data": {
      "text/plain": "<Figure size 1200x600 with 10 Axes>",
      "image/png": "[encoded data removed]"
     },
     "metadata": {},
     "output_type": "display_data"
    }
   ],
   "source": [
    "from sklearn.model_selection import train_test_split\n",
    "\n",
    "Xtrain, Xrest, ytrain, yrest = train_test_split(data_frame.drop(columns=['label']), data_frame.label, test_size=0.4, random_state = 42)\n",
    "\n",
    "Xtest, Xval, ytest, yval = train_test_split(Xrest, yrest, test_size=0.6, random_state = 42)\n",
    "\n",
    "import matplotlib.pyplot as plt\n",
    "plt.figure(figsize=(12, 6))\n",
    "for i in range(10):\n",
    "    plt.subplot(2, 5, i+1)\n",
    "    plt.imshow(Xtrain.iloc[i].values.reshape(28, 28), cmap=\"gray\")\n",
    "    plt.title(f\"Label: {ytrain.iloc[i]}\")\n",
    "    plt.axis(\"off\")\n",
    "plt.tight_layout()\n",
    "plt.show()"
   ]
  },
  {
   "cell_type": "markdown",
   "source": [
    "Podivame se na zakladni normalizaci, muzeme hodnty pixelu (0 do 255) vydelit 255"
   ],
   "metadata": {
    "collapsed": false
   }
  },
  {
   "cell_type": "code",
   "execution_count": 84,
   "outputs": [
    {
     "name": "stdout",
     "output_type": "stream",
     "text": [
      "Trenovaci rozměry, X: (1440, 784), y: (1440,)\n",
      "Validacni rozměry, X: (576, 784), y: (576,)\n",
      "Testovaci rozměry, X: (384, 784), y: (384,)\n"
     ]
    }
   ],
   "source": [
    "Xtrain_simple_norm = Xtrain.astype('float32')\n",
    "Xtrain_simple_norm /= 255.0\n",
    "\n",
    "\n",
    "Xval_simple_norm = Xval.astype('float32')\n",
    "Xval_simple_norm /= 255.0\n",
    "\n",
    "\n",
    "Xtest_simple_norm = Xtest.astype('float32')\n",
    "Xtest_simple_norm /= 255.0\n",
    "\n",
    "ytrain_simple_norm = ytrain.astype('float32')\n",
    "ytrain_simple_norm /= 255.0\n",
    "\n",
    "yval_simple_norm = yval.astype('float32')\n",
    "yval_simple_norm /= 255.0\n",
    "\n",
    "ytest_simple_norm = ytest.astype('float32')\n",
    "ytest_simple_norm /= 255.0\n",
    "\n",
    "\n",
    "print(f\"Trenovaci rozměry, X: {Xtrain_simple_norm.shape}, y: {ytrain_simple_norm.shape}\")\n",
    "print(f\"Validacni rozměry, X: {Xval_simple_norm.shape}, y: {yval_simple_norm.shape}\")\n",
    "print(f\"Testovaci rozměry, X: {Xtest_simple_norm.shape}, y: {ytest_simple_norm.shape}\")\n"
   ],
   "metadata": {
    "collapsed": false,
    "ExecuteTime": {
     "end_time": "2024-04-22T19:00:09.934316400Z",
     "start_time": "2024-04-22T19:00:09.920985900Z"
    }
   }
  },
  {
   "cell_type": "code",
   "execution_count": 85,
   "metadata": {
    "ExecuteTime": {
     "end_time": "2024-04-22T19:00:10.009807600Z",
     "start_time": "2024-04-22T19:00:09.936319100Z"
    }
   },
   "outputs": [
    {
     "name": "stdout",
     "output_type": "stream",
     "text": [
      "Trenovaci rozměry, X: (1440, 784), y: (1440,)\n",
      "Validacni rozměry, X: (576, 784), y: (576,)\n",
      "Testovaci rozměry, X: (384, 784), y: (384,)\n"
     ]
    }
   ],
   "source": [
    "from sklearn.preprocessing import StandardScaler\n",
    "scaler = StandardScaler().fit(Xtrain)\n",
    "\n",
    "Xtrain_scaled = scaler.transform(Xtrain)\n",
    "Xval_scaled = scaler.transform(Xval)\n",
    "Xtest_scaled = scaler.transform(Xtest)\n",
    "\n",
    "print(f\"Trenovaci rozměry, X: {Xtrain_scaled.shape}, y: {ytrain.shape}\")\n",
    "print(f\"Validacni rozměry, X: {Xval_scaled.shape}, y: {yval.shape}\")\n",
    "print(f\"Testovaci rozměry, X: {Xtest_scaled.shape}, y: {ytest.shape}\")\n"
   ]
  },
  {
   "cell_type": "markdown",
   "source": [
    "Zacneme se SVM. SVM spustim na neupravene data, pak na data co jsem si pomoci StandardScaler upravil tak jak bylo na cviceni, kdzy jsme delali SVM a pote na datech, ktere jsem normalizoval do hodnot 0 az 1 z puvodnich 0 az 255, ale tato normalizace je podle me zbytecna na techto datech, uvidime jak se vysledek bude list od neupravenych datech, pote budu moct vyvodit vysledky."
   ],
   "metadata": {
    "collapsed": false
   }
  },
  {
   "cell_type": "code",
   "execution_count": 86,
   "metadata": {
    "ExecuteTime": {
     "end_time": "2024-04-22T19:04:13.363729700Z",
     "start_time": "2024-04-22T19:00:09.966537Z"
    }
   },
   "outputs": [
    {
     "name": "stdout",
     "output_type": "stream",
     "text": [
      "SVM - natrénován za  101.833s\n",
      "Accuracy score (train): 0.999306\n",
      "Accuracy score (validation): 0.970486\n",
      "Evaluace trvala  0.055s\n",
      "Nejlepší kombinace parametrů:  {'C': 20, 'degree': 2, 'gamma': 'scale', 'kernel': 'poly'}\n",
      "SVM scaled data - natrénován za  64.963s\n",
      "Accuracy score (train): 0.999306\n",
      "Accuracy score (validation): 0.977431\n",
      "Evaluace trvala  0.106s\n",
      "Nejlepší kombinace parametrů:  {'C': 20, 'degree': 3, 'gamma': 'scale', 'kernel': 'poly'}\n",
      "SVM - natrénován za  76.375s\n",
      "Accuracy score (train): 0.999306\n",
      "Accuracy score (validation): 0.970486\n",
      "Evaluace trvala  0.059s\n",
      "Nejlepší kombinace parametrů:  {'C': 20, 'degree': 2, 'gamma': 'scale', 'kernel': 'poly'}\n"
     ]
    }
   ],
   "source": [
    "import time  \n",
    "from sklearn.svm import SVC  \n",
    "from sklearn.model_selection import GridSearchCV  \n",
    "from sklearn import metrics  \n",
    "  \n",
    "parameters = {'C': [0.1, 1, 10,20], 'kernel': ['linear', 'rbf','poly','sigmoid'], 'degree':[1,2,3,4,5],'gamma':['scale','auto']}  \n",
    "  \n",
    "# Vytvoření instance SVC  \n",
    "clf = SVC()  \n",
    "  \n",
    "grid_search = GridSearchCV(clf, parameters)  \n",
    "  \n",
    "st = time.time()  \n",
    "grid_search.fit(Xtrain, ytrain)  \n",
    "et = time.time()  \n",
    "print(f\"SVM - natrénován za {et - st : .03f}s\")  \n",
    "  \n",
    "best_clf_SVM_data = grid_search.best_estimator_  \n",
    "best_params_SVM_data = grid_search.best_params_  \n",
    "  \n",
    "st = time.time()  \n",
    "train_accuracy = metrics.accuracy_score(ytrain, best_clf_SVM_data.predict(Xtrain))  \n",
    "val_accuracy = metrics.accuracy_score(yval, best_clf_SVM_data.predict(Xval))  \n",
    "et = time.time()  \n",
    "print('Accuracy score (train): {0:.6f}'.format(train_accuracy))  \n",
    "print('Accuracy score (validation): {0:.6f}'.format(val_accuracy))  \n",
    "print(f\"Evaluace trvala {et - st : .03f}s\")  \n",
    "print(\"Nejlepší kombinace parametrů: \", best_params_SVM_data)\n",
    "\n",
    "\n",
    "\n",
    "st = time.time()\n",
    "grid_search.fit(Xtrain_scaled, ytrain)\n",
    "et = time.time()\n",
    "print(f\"SVM scaled data - natrénován za {et - st : .03f}s\")\n",
    "\n",
    "\n",
    "best_clf_SVM_scaled = grid_search.best_estimator_\n",
    "best_params_SVM_scaled = grid_search.best_params_\n",
    "\n",
    "\n",
    "st = time.time()\n",
    "train_accuracy = metrics.accuracy_score(ytrain, best_clf_SVM_scaled.predict(Xtrain_scaled))\n",
    "val_accuracy = metrics.accuracy_score(yval, best_clf_SVM_scaled.predict(Xval_scaled))\n",
    "et = time.time()\n",
    "print('Accuracy score (train): {0:.6f}'.format(train_accuracy))\n",
    "print('Accuracy score (validation): {0:.6f}'.format(val_accuracy))\n",
    "print(f\"Evaluace trvala {et - st : .03f}s\")\n",
    "print(\"Nejlepší kombinace parametrů: \", best_params_SVM_scaled)\n",
    "\n",
    "\n",
    "st = time.time()\n",
    "grid_search.fit(Xtrain_simple_norm, ytrain)\n",
    "et = time.time()\n",
    "print(f\"SVM - natrénován za {et - st : .03f}s\")\n",
    "\n",
    "best_clf_SVM_norm = grid_search.best_estimator_\n",
    "best_params_SVM_norm = grid_search.best_params_\n",
    "\n",
    "st = time.time()\n",
    "train_accuracy = metrics.accuracy_score(ytrain, best_clf_SVM_norm.predict(Xtrain_simple_norm))\n",
    "val_accuracy = metrics.accuracy_score(yval, best_clf_SVM_norm.predict(Xval_simple_norm))\n",
    "et = time.time()\n",
    "print('Accuracy score (train): {0:.6f}'.format(train_accuracy))\n",
    "print('Accuracy score (validation): {0:.6f}'.format(val_accuracy))\n",
    "print(f\"Evaluace trvala {et - st : .03f}s\")\n",
    "print(\"Nejlepší kombinace parametrů: \", best_params_SVM_norm)\n"
   ]
  },
  {
   "cell_type": "markdown",
   "source": [
    "Vidime, ze muj predpoklad, ze normalizace dat v tomto pripade nepomohla vysledky jsou stejne. Niceme vidime ze data upravena pomoci StandardScaler nam pri pouziti SVM davaji nejlepsi vysledek, zaroven jsme si ulozili i parametry a nejlepsi model.\n",
    "\n",
    "Dale se podivame na Naivniho Bayese. Vyzkousim nejprve na nasich vsech datech GaussianNB a pote na \"nejlepsich\" datech provedu Bernouli"
   ],
   "metadata": {
    "collapsed": false
   }
  },
  {
   "cell_type": "code",
   "execution_count": 87,
   "metadata": {
    "ExecuteTime": {
     "end_time": "2024-04-22T19:04:15.441533Z",
     "start_time": "2024-04-22T19:04:13.366731700Z"
    }
   },
   "outputs": [
    {
     "name": "stdout",
     "output_type": "stream",
     "text": [
      "Naivní Bayes - natrénován za  0.789s\n",
      "Accuracy score (train): 0.933333\n",
      "Accuracy score (validation): 0.927083\n",
      "Evaluace trvala  0.021s\n",
      "Nejlepší kombinace parametrů:  {'var_smoothing': 0.01}\n",
      "Naivní Bayes - natrénován za  0.439s\n",
      "Accuracy score (train): 0.941667\n",
      "Accuracy score (validation): 0.939236\n",
      "Evaluace trvala  0.015s\n",
      "Nejlepší kombinace parametrů:  {'var_smoothing': 0.01}\n",
      "Naivní Bayes - natrénován za  0.784s\n",
      "Accuracy score (train): 0.933333\n",
      "Accuracy score (validation): 0.927083\n",
      "Evaluace trvala  0.021s\n",
      "Nejlepší kombinace parametrů:  {'var_smoothing': 0.01}\n"
     ]
    }
   ],
   "source": [
    "import time  \n",
    "from sklearn.naive_bayes import GaussianNB\n",
    "from sklearn.naive_bayes import BernoulliNB\n",
    "from sklearn.naive_bayes import MultinomialNB\n",
    "from sklearn.model_selection import GridSearchCV  \n",
    "from sklearn import metrics  \n",
    "  \n",
    "parameters = {'var_smoothing': [1e-9, 1e-8, 1e-7,1e-6,1e-5,1e-4,1e-3,1e-2]}\n",
    "\n",
    "clf = GaussianNB()\n",
    "\n",
    "grid_search = GridSearchCV(clf, parameters)\n",
    "\n",
    "st = time.time()\n",
    "grid_search.fit(Xtrain, ytrain)\n",
    "et = time.time()\n",
    "print(f\"Naivní Bayes - natrénován za {et - st : .03f}s\")\n",
    "\n",
    "best_clf_NB_data = grid_search.best_estimator_\n",
    "best_params_NB_data = grid_search.best_params_\n",
    "\n",
    "st = time.time()\n",
    "train_accuracy = metrics.accuracy_score(ytrain, best_clf_NB_data.predict(Xtrain))\n",
    "val_accuracy = metrics.accuracy_score(yval, best_clf_NB_data.predict(Xval))\n",
    "et = time.time()\n",
    "print('Accuracy score (train): {0:.6f}'.format(train_accuracy))\n",
    "print('Accuracy score (validation): {0:.6f}'.format(val_accuracy))\n",
    "print(f\"Evaluace trvala {et - st : .03f}s\")\n",
    "print(\"Nejlepší kombinace parametrů: \", best_params_NB_data)\n",
    "\n",
    "\n",
    "\n",
    "st = time.time()\n",
    "grid_search.fit(Xtrain_scaled, ytrain)\n",
    "et = time.time()\n",
    "print(f\"Naivní Bayes - natrénován za {et - st : .03f}s\")\n",
    "\n",
    "best_clf_NB_scaled = grid_search.best_estimator_\n",
    "best_params_NB_scaled = grid_search.best_params_\n",
    "\n",
    "st = time.time()\n",
    "train_accuracy = metrics.accuracy_score(ytrain, best_clf_NB_scaled.predict(Xtrain_scaled))\n",
    "val_accuracy = metrics.accuracy_score(yval, best_clf_NB_scaled.predict(Xval_scaled))\n",
    "et = time.time()\n",
    "print('Accuracy score (train): {0:.6f}'.format(train_accuracy))\n",
    "print('Accuracy score (validation): {0:.6f}'.format(val_accuracy))\n",
    "print(f\"Evaluace trvala {et - st : .03f}s\")\n",
    "print(\"Nejlepší kombinace parametrů: \", best_params_NB_scaled)\n",
    "\n",
    "\n",
    "st = time.time()\n",
    "grid_search.fit(Xtrain_simple_norm, ytrain)\n",
    "et = time.time()\n",
    "print(f\"Naivní Bayes - natrénován za {et - st : .03f}s\")\n",
    "\n",
    "best_clf_NB_norm = grid_search.best_estimator_\n",
    "best_params_NB_norm = grid_search.best_params_\n",
    "\n",
    "st = time.time()\n",
    "train_accuracy = metrics.accuracy_score(ytrain, best_clf_NB_norm.predict(Xtrain_simple_norm))\n",
    "val_accuracy = metrics.accuracy_score(yval, best_clf_NB_norm.predict(Xval_simple_norm))\n",
    "et = time.time()\n",
    "print('Accuracy score (train): {0:.6f}'.format(train_accuracy))\n",
    "print('Accuracy score (validation): {0:.6f}'.format(val_accuracy))\n",
    "print(f\"Evaluace trvala {et - st : .03f}s\")\n",
    "print(\"Nejlepší kombinace parametrů: \", best_params_NB_norm)"
   ]
  },
  {
   "cell_type": "markdown",
   "source": [
    "Vidime, ze opet normalizace nemela vliv na vysledek. Opet nam data upravena pomoci StandardScaler dala lepsi vysledek a my ho mame dopredu ulozeny.\n",
    "Dale a prozkoumam dalsi moznost u Bayese... Vyuziji MultinomilNB a BernouliNB. Budu ted pouze pracovat na datech upravene pres StandardScaler."
   ],
   "metadata": {
    "collapsed": false
   }
  },
  {
   "cell_type": "code",
   "execution_count": 88,
   "outputs": [
    {
     "name": "stdout",
     "output_type": "stream",
     "text": [
      "Naivní Bayes - natrénován za  0.189s\n",
      "Accuracy score (train): 0.913194\n",
      "Accuracy score (validation): 0.918403\n",
      "Evaluace trvala  0.013s\n",
      "Nejlepší kombinace parametrů:  {'alpha': 1e-06}\n"
     ]
    }
   ],
   "source": [
    "clf = BernoulliNB( force_alpha = True)\n",
    "parameters = {'alpha': [0.000001,0.0001,1]}\n",
    "\n",
    "grid_search = GridSearchCV(clf, parameters)\n",
    "\n",
    "st = time.time()\n",
    "grid_search.fit(Xtrain_scaled, ytrain)\n",
    "et = time.time()\n",
    "print(f\"Naivní Bayes - natrénován za {et - st : .03f}s\")\n",
    "\n",
    "best_clf_NB_Bernouli_scaled = grid_search.best_estimator_\n",
    "best_params_NB_Bernouli_scaled = grid_search.best_params_\n",
    "\n",
    "st = time.time()\n",
    "train_accuracy = metrics.accuracy_score(ytrain, best_clf_NB_Bernouli_scaled.predict(Xtrain_scaled))\n",
    "val_accuracy = metrics.accuracy_score(yval, best_clf_NB_Bernouli_scaled.predict(Xval_scaled))\n",
    "et = time.time()\n",
    "print('Accuracy score (train): {0:.6f}'.format(train_accuracy))\n",
    "print('Accuracy score (validation): {0:.6f}'.format(val_accuracy))\n",
    "print(f\"Evaluace trvala {et - st : .03f}s\")\n",
    "print(\"Nejlepší kombinace parametrů: \", best_params_NB_Bernouli_scaled)"
   ],
   "metadata": {
    "collapsed": false,
    "ExecuteTime": {
     "end_time": "2024-04-22T19:04:15.647930500Z",
     "start_time": "2024-04-22T19:04:15.441533Z"
    }
   }
  },
  {
   "cell_type": "markdown",
   "source": [
    "Vysledek je takovy, ze pouziti BernoulliNB nam dalo horsi vysledek nez GaussianNB, jeste vyzkousim MultinomialNB a vyvedu zaver."
   ],
   "metadata": {
    "collapsed": false
   }
  },
  {
   "cell_type": "markdown",
   "source": [
    "Podivame se na Confusion matrix na nejlepsich modelech pouzitych pri delani naivniho bayese."
   ],
   "metadata": {
    "collapsed": false
   }
  },
  {
   "cell_type": "markdown",
   "source": [],
   "metadata": {
    "collapsed": false
   }
  },
  {
   "cell_type": "code",
   "execution_count": 89,
   "outputs": [
    {
     "name": "stdout",
     "output_type": "stream",
     "text": [
      "[[266  31]\n",
      " [ 16 263]]\n",
      "[[272  25]\n",
      " [ 10 269]]\n"
     ]
    }
   ],
   "source": [
    "from sklearn.metrics import confusion_matrix\n",
    "yval_pred_Bernouli = best_clf_NB_Bernouli_scaled.predict(Xval_scaled)\n",
    "\n",
    "cm = confusion_matrix(yval,yval_pred_Bernouli)\n",
    "print(cm)\n",
    "\n",
    "yval_pred_Gaussian = best_clf_NB_scaled.predict(Xval_scaled)\n",
    "\n",
    "cm = confusion_matrix(yval,yval_pred_Gaussian)\n",
    "print(cm)\n",
    "\n"
   ],
   "metadata": {
    "collapsed": false,
    "ExecuteTime": {
     "end_time": "2024-04-22T19:04:15.693132400Z",
     "start_time": "2024-04-22T19:04:15.647930500Z"
    }
   }
  },
  {
   "cell_type": "markdown",
   "source": [
    "Dale se podivame na praci s LDA, ocekvama podobne vysledky jako u NB. Budu uz pouze pracovat s datama upravenyma pomoci StandardScaler"
   ],
   "metadata": {
    "collapsed": false
   }
  },
  {
   "cell_type": "code",
   "execution_count": 90,
   "metadata": {
    "ExecuteTime": {
     "end_time": "2024-04-22T19:04:17.658796400Z",
     "start_time": "2024-04-22T19:04:15.665593500Z"
    }
   },
   "outputs": [
    {
     "name": "stdout",
     "output_type": "stream",
     "text": [
      "LDA - natrénován za  1.982s\n",
      "Accuracy score (train): 0.995833\n",
      "Accuracy score (validation): 0.946181\n",
      "Evaluace trvala  0.005s\n",
      "Nejlepší kombinace parametrů:  {'solver': 'svd'}\n"
     ]
    }
   ],
   "source": [
    "from sklearn.discriminant_analysis import LinearDiscriminantAnalysis\n",
    "\n",
    "import warnings\n",
    "warnings.filterwarnings('ignore')\n",
    "\n",
    "\n",
    "parameters = {'solver': ['svd', 'lsqr', 'eigen']}\n",
    "\n",
    "clf = LinearDiscriminantAnalysis()\n",
    "\n",
    "grid_search = GridSearchCV(clf, parameters)\n",
    "\n",
    "st = time.time()\n",
    "grid_search.fit(Xtrain_scaled, ytrain)\n",
    "et = time.time()\n",
    "print(f\"LDA - natrénován za {et - st : .03f}s\")\n",
    "\n",
    "best_clf_LDA_scaled = grid_search.best_estimator_\n",
    "best_params_LDA_scaled = grid_search.best_params_\n",
    "\n",
    "st = time.time()\n",
    "train_accuracy = metrics.accuracy_score(ytrain, best_clf_LDA_scaled.predict(Xtrain_scaled))\n",
    "val_accuracy = metrics.accuracy_score(yval, best_clf_LDA_scaled.predict(Xval_scaled))\n",
    "et = time.time()\n",
    "print('Accuracy score (train): {0:.6f}'.format(train_accuracy))\n",
    "print('Accuracy score (validation): {0:.6f}'.format(val_accuracy))\n",
    "print(f\"Evaluace trvala {et - st : .03f}s\")\n",
    "print(\"Nejlepší kombinace parametrů: \", best_params_LDA_scaled)\n"
   ]
  },
  {
   "cell_type": "markdown",
   "source": [
    "Vidime, ze zatim model na Scaled datech pomoci SVM byl nejvice uspesny. LDA se mu nejvice priblizila ale mene."
   ],
   "metadata": {
    "collapsed": false
   }
  },
  {
   "cell_type": "markdown",
   "source": [
    "Ted se presouvame na druhou polovinu ukolu, vice prace s daty.\n"
   ],
   "metadata": {
    "collapsed": false
   }
  },
  {
   "cell_type": "markdown",
   "source": [
    "Nejprve pouzijieme PCA. U SVM modelu vyzkousim opet na Scaled datech a na vice jadrovych funkci.\n"
   ],
   "metadata": {
    "collapsed": false
   }
  },
  {
   "cell_type": "code",
   "execution_count": 91,
   "outputs": [
    {
     "name": "stdout",
     "output_type": "stream",
     "text": [
      "SVM PCA - natrénován za  27.749s\n",
      "Accuracy score (train): 0.999306\n",
      "Accuracy score (validation): 0.979167\n",
      "Evaluace trvala  0.030s\n",
      "Nejlepší kombinace parametrů:  {'C': 0.1, 'degree': 3, 'gamma': 'auto', 'kernel': 'poly'}\n"
     ]
    }
   ],
   "source": [
    "from sklearn.decomposition import PCA\n",
    "pca = PCA(n_components=0.95)\n",
    "x_pca_train = pca.fit_transform(Xtrain_scaled)\n",
    "x_pca_val = pca.transform(Xval_scaled)\n",
    "\n",
    "parameters = {'C': [0.1, 1, 10,20], 'kernel': ['linear', 'rbf','poly','sigmoid'], 'degree':[1,2,3,4,5],'gamma':['scale','auto']}\n",
    "\n",
    "clf = SVC()\n",
    "\n",
    "grid_search = GridSearchCV(clf, parameters)\n",
    "\n",
    "st = time.time()\n",
    "grid_search.fit(x_pca_train, ytrain)\n",
    "et = time.time()\n",
    "print(f\"SVM PCA - natrénován za {et - st : .03f}s\")\n",
    "\n",
    "best_clf_SVM_data_pca = grid_search.best_estimator_\n",
    "best_params_SVM_data_pca = grid_search.best_params_\n",
    "\n",
    "st = time.time()\n",
    "train_accuracy = metrics.accuracy_score(ytrain, best_clf_SVM_data_pca.predict(x_pca_train))\n",
    "val_accuracy = metrics.accuracy_score(yval, best_clf_SVM_data_pca.predict(x_pca_val))\n",
    "et = time.time()\n",
    "print('Accuracy score (train): {0:.6f}'.format(train_accuracy))\n",
    "print('Accuracy score (validation): {0:.6f}'.format(val_accuracy))\n",
    "print(f\"Evaluace trvala {et - st : .03f}s\")\n",
    "print(\"Nejlepší kombinace parametrů: \", best_params_SVM_data_pca)"
   ],
   "metadata": {
    "collapsed": false,
    "ExecuteTime": {
     "end_time": "2024-04-22T19:04:45.557926700Z",
     "start_time": "2024-04-22T19:04:17.658796400Z"
    }
   }
  },
  {
   "cell_type": "markdown",
   "source": [
    "Vidime, ze PCA lehce pomohlo, ale nezvysilo to o moc vysledek. Dale aplikujeme podobny postup in na nase nejlepsi LDA a Bayese"
   ],
   "metadata": {
    "collapsed": false
   }
  },
  {
   "cell_type": "code",
   "execution_count": 92,
   "outputs": [
    {
     "name": "stdout",
     "output_type": "stream",
     "text": [
      "LDA PCA - natrénován za  0.156s\n",
      "Accuracy score (train): 0.983333\n",
      "Accuracy score (validation): 0.967014\n",
      "Evaluace trvala  0.002s\n",
      "Nejlepší kombinace parametrů:  {'solver': 'svd'}\n"
     ]
    }
   ],
   "source": [
    "clf = LinearDiscriminantAnalysis()\n",
    "parameters = {'solver': ['svd', 'lsqr', 'eigen']}\n",
    "\n",
    "grid_search = GridSearchCV(clf, parameters)\n",
    "\n",
    "st = time.time()\n",
    "grid_search.fit(x_pca_train, ytrain)\n",
    "et = time.time()\n",
    "print(f\"LDA PCA - natrénován za {et - st : .03f}s\")\n",
    "\n",
    "best_clf_LDA_scaled_pca = grid_search.best_estimator_\n",
    "best_params_LDA_scaled_pca = grid_search.best_params_\n",
    "\n",
    "st = time.time()\n",
    "train_accuracy = metrics.accuracy_score(ytrain, best_clf_LDA_scaled_pca.predict(x_pca_train))\n",
    "val_accuracy = metrics.accuracy_score(yval, best_clf_LDA_scaled_pca.predict(x_pca_val))\n",
    "et = time.time()\n",
    "print('Accuracy score (train): {0:.6f}'.format(train_accuracy))\n",
    "print('Accuracy score (validation): {0:.6f}'.format(val_accuracy))\n",
    "print(f\"Evaluace trvala {et - st : .03f}s\")\n",
    "print(\"Nejlepší kombinace parametrů: \", best_params_LDA_scaled_pca)"
   ],
   "metadata": {
    "collapsed": false,
    "ExecuteTime": {
     "end_time": "2024-04-22T19:04:45.720870900Z",
     "start_time": "2024-04-22T19:04:45.557926700Z"
    }
   }
  },
  {
   "cell_type": "code",
   "execution_count": 93,
   "outputs": [
    {
     "name": "stdout",
     "output_type": "stream",
     "text": [
      "Naivní Bayes Gaussian PCA - natrénován za  0.088s\n",
      "Accuracy score (train): 0.727778\n",
      "Accuracy score (validation): 0.722222\n",
      "Evaluace trvala  0.002s\n",
      "Nejlepší kombinace parametrů:  {'var_smoothing': 1e-09}\n"
     ]
    }
   ],
   "source": [
    "parameters = {'var_smoothing': [1e-9, 1e-8, 1e-7,1e-6,1e-5,1e-4,1e-3,1e-2]}\n",
    "\n",
    "clf = GaussianNB()\n",
    "\n",
    "grid_search = GridSearchCV(clf, parameters)\n",
    "\n",
    "st = time.time()\n",
    "grid_search.fit(x_pca_train, ytrain)\n",
    "et = time.time()\n",
    "print(f\"Naivní Bayes Gaussian PCA - natrénován za {et - st : .03f}s\")\n",
    "\n",
    "best_clf_NB_data_pca = grid_search.best_estimator_\n",
    "best_params_NB_data_pca = grid_search.best_params_\n",
    "\n",
    "st = time.time()\n",
    "train_accuracy = metrics.accuracy_score(ytrain, best_clf_NB_data_pca.predict(x_pca_train))\n",
    "val_accuracy = metrics.accuracy_score(yval, best_clf_NB_data_pca.predict(x_pca_val))\n",
    "et = time.time()\n",
    "print('Accuracy score (train): {0:.6f}'.format(train_accuracy))\n",
    "print('Accuracy score (validation): {0:.6f}'.format(val_accuracy))\n",
    "print(f\"Evaluace trvala {et - st : .03f}s\")\n",
    "print(\"Nejlepší kombinace parametrů: \", best_params_NB_data_pca)"
   ],
   "metadata": {
    "collapsed": false,
    "ExecuteTime": {
     "end_time": "2024-04-22T19:04:45.816796700Z",
     "start_time": "2024-04-22T19:04:45.720870900Z"
    }
   }
  },
  {
   "cell_type": "markdown",
   "source": [
    "Vidime, ze PCA nejvice pomohla u SVM. Ted se podivame na vysledky s pouzitim LLE. Pro zkraceni prace pouzyiji podobny postup."
   ],
   "metadata": {
    "collapsed": false
   }
  },
  {
   "cell_type": "code",
   "execution_count": 94,
   "outputs": [
    {
     "name": "stdout",
     "output_type": "stream",
     "text": [
      "SVM LLE - natrénován za  24.222s\n",
      "Accuracy score (train): 0.975000\n",
      "Accuracy score (validation): 0.967014\n",
      "Evaluace trvala  0.024s\n",
      "Nejlepší kombinace parametrů:  {'C': 10, 'degree': 1, 'gamma': 'scale', 'kernel': 'rbf'}\n",
      "LDA LLE - natrénován za  0.042s\n",
      "Accuracy score (train): 0.954167\n",
      "Accuracy score (validation): 0.963542\n",
      "Evaluace trvala  0.002s\n",
      "Nejlepší kombinace parametrů:  {'solver': 'svd'}\n",
      "Naivní Bayes Gaussian LLE - natrénován za  0.062s\n",
      "Accuracy score (train): 0.945833\n",
      "Accuracy score (validation): 0.954861\n",
      "Evaluace trvala  0.001s\n",
      "Nejlepší kombinace parametrů:  {'var_smoothing': 1e-09}\n"
     ]
    }
   ],
   "source": [
    "from sklearn.manifold import LocallyLinearEmbedding\n",
    "\n",
    "LLE = LocallyLinearEmbedding(n_components=15, n_neighbors=10)\n",
    "x_lle_train = LLE.fit_transform(Xtrain_scaled)\n",
    "x_lle_val = LLE.transform(Xval_scaled)\n",
    "\n",
    "parameters = {'C': [0.1, 1, 10,20], 'kernel': ['linear', 'rbf','poly','sigmoid'], 'degree':[1,2,3,4,5],'gamma':['scale','auto']}\n",
    "\n",
    "clf = SVC()\n",
    "\n",
    "grid_search = GridSearchCV(clf, parameters)\n",
    "\n",
    "st = time.time()\n",
    "grid_search.fit(x_lle_train, ytrain)\n",
    "et = time.time()\n",
    "print(f\"SVM LLE - natrénován za {et - st : .03f}s\")\n",
    "\n",
    "best_clf_SVM_data_lle = grid_search.best_estimator_\n",
    "best_params_SVM_data_lle = grid_search.best_params_\n",
    "\n",
    "st = time.time()\n",
    "train_accuracy = metrics.accuracy_score(ytrain, best_clf_SVM_data_lle.predict(x_lle_train))\n",
    "val_accuracy = metrics.accuracy_score(yval, best_clf_SVM_data_lle.predict(x_lle_val))\n",
    "et = time.time()\n",
    "print('Accuracy score (train): {0:.6f}'.format(train_accuracy))\n",
    "print('Accuracy score (validation): {0:.6f}'.format(val_accuracy))\n",
    "print(f\"Evaluace trvala {et - st : .03f}s\")\n",
    "print(\"Nejlepší kombinace parametrů: \", best_params_SVM_data_lle)\n",
    "\n",
    "clf = LinearDiscriminantAnalysis()\n",
    "parameters = {'solver': ['svd', 'lsqr', 'eigen']}\n",
    "\n",
    "grid_search = GridSearchCV(clf, parameters)\n",
    "\n",
    "st = time.time()\n",
    "grid_search.fit(x_lle_train, ytrain)\n",
    "et = time.time()\n",
    "print(f\"LDA LLE - natrénován za {et - st : .03f}s\")\n",
    "\n",
    "best_clf_LDA_scaled_lle = grid_search.best_estimator_\n",
    "best_params_LDA_scaled_lle = grid_search.best_params_\n",
    "\n",
    "st = time.time()\n",
    "train_accuracy = metrics.accuracy_score(ytrain, best_clf_LDA_scaled_lle.predict(x_lle_train))\n",
    "val_accuracy = metrics.accuracy_score(yval, best_clf_LDA_scaled_lle.predict(x_lle_val))\n",
    "et = time.time()\n",
    "print('Accuracy score (train): {0:.6f}'.format(train_accuracy))\n",
    "print('Accuracy score (validation): {0:.6f}'.format(val_accuracy))\n",
    "print(f\"Evaluace trvala {et - st : .03f}s\")\n",
    "print(\"Nejlepší kombinace parametrů: \", best_params_LDA_scaled_lle)\n",
    "\n",
    "\n",
    "\n",
    "parameters = {'var_smoothing': [1e-9, 1e-8, 1e-7,1e-6,1e-5,1e-4,1e-3,1e-2]}\n",
    "\n",
    "clf = GaussianNB()\n",
    "\n",
    "grid_search = GridSearchCV(clf, parameters)\n",
    "\n",
    "st = time.time()\n",
    "grid_search.fit(x_lle_train, ytrain)\n",
    "et = time.time()\n",
    "print(f\"Naivní Bayes Gaussian LLE - natrénován za {et - st : .03f}s\")\n",
    "\n",
    "best_clf_NB_data_lle = grid_search.best_estimator_\n",
    "best_params_NB_data_lle = grid_search.best_params_\n",
    "\n",
    "st = time.time()\n",
    "train_accuracy = metrics.accuracy_score(ytrain, best_clf_NB_data_lle.predict(x_lle_train))\n",
    "val_accuracy = metrics.accuracy_score(yval, best_clf_NB_data_lle.predict(x_lle_val))\n",
    "et = time.time()\n",
    "print('Accuracy score (train): {0:.6f}'.format(train_accuracy))\n",
    "print('Accuracy score (validation): {0:.6f}'.format(val_accuracy))\n",
    "print(f\"Evaluace trvala {et - st : .03f}s\")\n",
    "print(\"Nejlepší kombinace parametrů: \", best_params_NB_data_lle)"
   ],
   "metadata": {
    "collapsed": false,
    "ExecuteTime": {
     "end_time": "2024-04-22T19:05:10.612014800Z",
     "start_time": "2024-04-22T19:04:45.819799Z"
    }
   }
  },
  {
   "cell_type": "markdown",
   "source": [
    "Diskuse\n",
    "Nejlepsich vysledku jsem doshal na SVM na datech, ktera byla jeste upravena pres StandardScaler, proto muj finalni model jsem vybrla jako \"best_clf_SVM_data_pca\", pro ktery mam ulozenou i nejlpesi kombinaci parametru.\n",
    " "
   ],
   "metadata": {
    "collapsed": false
   }
  },
  {
   "cell_type": "code",
   "execution_count": 95,
   "outputs": [
    {
     "data": {
      "text/plain": "{'C': 20, 'degree': 3, 'gamma': 'scale', 'kernel': 'poly'}"
     },
     "execution_count": 95,
     "metadata": {},
     "output_type": "execute_result"
    }
   ],
   "source": [
    "best_params_SVM_scaled"
   ],
   "metadata": {
    "collapsed": false,
    "ExecuteTime": {
     "end_time": "2024-04-22T19:05:10.617541300Z",
     "start_time": "2024-04-22T19:05:10.609509600Z"
    }
   }
  },
  {
   "cell_type": "markdown",
   "source": [
    "Ocekavana predikce na novych datech mam okolo 0.977, ocekvama podobnych vysledku. Pro zopakovani se podivame co jsem se o nasem finalnim modelu dozvedeli.\n",
    "\n",
    "SVM scaled data - natrénován za  65.641s\n",
    "Accuracy score (train): 0.999306\n",
    "Accuracy score (validation): 0.977431\n",
    "Evaluace trvala  0.095s\n",
    "Nejlepší kombinace parametrů:  {'C': 20, 'degree': 3, 'gamma': 'scale', 'kernel': 'poly'}\n",
    "\n"
   ],
   "metadata": {
    "collapsed": false
   }
  },
  {
   "cell_type": "code",
   "execution_count": 96,
   "outputs": [
    {
     "name": "stdout",
     "output_type": "stream",
     "text": [
      "Data nactena\n"
     ]
    }
   ],
   "source": [
    "eval_data = pd.read_csv(\"evaluate.csv\")\n",
    "eval_feat = eval_data.drop(columns=[\"ID\"])\n",
    "eval_scale = scaler.transform(eval_feat)\n",
    "\n",
    "\n",
    "data_pred = best_clf_SVM_scaled.predict(eval_scale)\n",
    "result_inspect = pd.DataFrame({\"ID\":eval_data['ID'],\n",
    "                               \"label\":data_pred})\n",
    "\n",
    "result_inspect.to_csv(\"results.csv\",index='False')\n",
    "\n",
    "print(\"Data nactena\")"
   ],
   "metadata": {
    "collapsed": false,
    "ExecuteTime": {
     "end_time": "2024-04-22T19:05:11.447915400Z",
     "start_time": "2024-04-22T19:05:10.613534100Z"
    }
   }
  },
  {
   "cell_type": "markdown",
   "source": [],
   "metadata": {
    "collapsed": false
   }
  },
  {
   "cell_type": "markdown",
   "source": [],
   "metadata": {
    "collapsed": false
   }
  }
 ],
 "metadata": {
  "kernelspec": {
   "display_name": "Python 3 (ipykernel)",
   "language": "python",
   "name": "python3"
  },
  "language_info": {
   "codemirror_mode": {
    "name": "ipython",
    "version": 3
   },
   "file_extension": ".py",
   "mimetype": "text/x-python",
   "name": "python",
   "nbconvert_exporter": "python",
   "pygments_lexer": "ipython3",
   "version": "3.12.2"
  }
 },
 "nbformat": 4,
 "nbformat_minor": 4
}
