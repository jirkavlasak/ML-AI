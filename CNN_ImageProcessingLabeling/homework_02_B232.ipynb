{
 "cells": [
  {
   "cell_type": "markdown",
   "metadata": {},
   "source": [
    "# Úkol č. 2 - Využití neuronových sítí\n",
    "\n",
    "  * **Deadline je 13. 5. 2024, 23:59:59**, pokud odevzdáte úkol do 20. 5. 2024, 23:59:59, budete penalizování -12 body, pozdější odevzdání je bez bodu.\n",
    "  * V rámci tohoto úkolu musíte sestrojit vhodný model neuronové sítě pro vícetřídou klasifikaci.\n",
    "  * Část bodů získáte za správné vypracování a část bodů získáte za výslednou přesnost Vašeho modelu na evaluačních datech.\n",
    "    \n",
    "> **Úkoly jsou zadány tak, aby Vám daly prostor pro invenci. Vymyslet _jak přesně_ budete úkol řešit, je důležitou součástí zadání a originalita či nápaditost bude také hodnocena!**\n",
    "\n",
    "Využívejte buňky typu `Markdown` k vysvětlování Vašeho postupu. Za nepřehlednost budou strhávány body.\n",
    "\n",
    "## Zdroj dat\n",
    "\n",
    " * Zdrojem dat jsou soubory `train.csv` a `evaluate.csv`.\n",
    " * Jedná se o obrázky 32x32 pixelů ve stupních šedi, které byly nějakým způsobem vyrobeny z [Fashion Mnist datasetu](https://www.kaggle.com/datasets/zalando-research/fashionmnist).\n",
    " * Soubor `train.csv` obsahuje trénovací data.\n",
    " * Cílová (vysvětlovaná) proměnná se jmenuje **label**.\n",
    " * Soubor `evaluate.csv` obsahuje testovací data bez hodnot skutečných labelů.\n",
    "\n",
    "## Pokyny k vypracování (max 18 bodů)\n",
    "\n",
    "**Body zadání**, za jejichž (poctivé) vypracování získáte **18 bodů**:\n",
    "  * V notebooku načtěte data ze souboru `train.csv`. Vhodným způsobem si je rozdělte na podmnožiny, které Vám poslouží pro trénování, porovnávání modelů a následnou predikci výkonnosti finálního modelu.\n",
    "  * Proveďte základní průzkum dat a svá pozorování diskutujte. Některé obrázky také zobrazte.\n",
    "  * Sestrojte a natrénujte několik variant modelu dopředné neuronové sítě. Přitom v rámci výpočetních možností:\n",
    "      * Okomentujte vhodnost daného modelu pro daný typ úlohy.\n",
    "      * Experimentujte s různými hloubkami a velikosmi vrstev.\n",
    "      * Experimentujte se standardizací/normalizací dat.\n",
    "      * Experimentujte s různými optimalizačními metodami.\n",
    "      * Experimentujte s různými regularizačními technikami.\n",
    "      * Získané výsledky vždy řádně okomentujte.\n",
    "\n",
    "  * Sestrojte model konvoluční neuronové sítě. Přitom v rámci výpočetních možností:\n",
    "      * Okomentujte vhodnost daného modelu pro daný typ úlohy.\n",
    "      * Experimentujte s různými hloubkami a velikosmi vrstev.\n",
    "      * Experimentujte se standardizací/normalizací dat.\n",
    "      * Experimentujte s různými optimalizačními metodami.\n",
    "      * Experimentujte s různými regularizačními technikami.\n",
    "      * Získané výsledky vždy řádně okomentujte.\n",
    "    \n",
    "  * Ze všech zkoušených možností vyberte finální model a odhadněte, jakou přesnost můžete očekávat na nových datech, která jste doposud neměli k dispozici.\n",
    "  \n",
    "  * Nakonec načtěte vyhodnocovací data ze souboru`evaluate.csv`. Pomocí finálního modelu napočítejte predikce pro tyto data (vysvětlovaná proměnná v nich již není). Vytvořte soubor `results.csv`, ve kterém získané predikce uložíte do sloupce **label** a identifikátory do sloupce **ID**. Tento soubor též odevzdejte (uložte do projektu vedle notebooku).\n",
    "   \n",
    "   * Ukázka prvních řádků souboru `results.csv`:\n",
    "  \n",
    "```\n",
    "ID,label\n",
    "0,0\n",
    "1,1\n",
    "...\n",
    "```\n",
    "\n",
    "## Vyhodnocovací část (max 7 bodů)\n",
    "Za přesnost (accuraccy) na odevzdaných predikcích pro vyhodnocovací množnu získáte dalších max **7 bodů**.\n",
    "\n",
    "Označíme-li $A$ přesnost, které jste dosáhli, zaokrouhlenou na 2 desetinná místa, akumulují se výsledné body podle následujících pravidel:\n",
    "* pokud $A \\geq 0.80$ obdržíte +1 bod\n",
    "* pokud $A \\geq 0.83$ obdržíte +1 bod\n",
    "* pokud $A \\geq 0.86$ obdržíte +1 bod\n",
    "* pokud $A \\geq 0.87$ obdržíte +1 bod\n",
    "* pokud $A \\geq 0.88$ obdržíte +1 bod\n",
    "* pokud $A \\geq 0.89$ obdržíte +1 bod\n",
    "* pokud $A \\geq 0.90$ obdržíte +1 bod\n",
    "\n",
    "**Příklad:** Pokud bude Vaše přesnost 0.856, vyjde A = 0.86 a vy získáte 3 body.\n",
    "\n",
    "\n",
    "## Poznámky k odevzdání\n",
    "\n",
    "  * Řiďte se pokyny ze stránky https://courses.fit.cvut.cz/BI-ML2/homeworks/index.html.\n",
    "  * Vytvořte i csv soubor `results.csv` s predikcemi a uložte ho v rámci projektu vedle ipython notebooku."
   ]
  },
  {
   "cell_type": "markdown",
   "source": [
    "### Odtud uz je to vase\n",
    "Nejprve si nactu data a udelam zakladni prehled, abych vedel vlastne s jakymi daty budu pracovat.\n"
   ],
   "metadata": {
    "collapsed": false
   }
  },
  {
   "cell_type": "code",
   "outputs": [],
   "source": [
    "import numpy as np\n",
    "import pandas as pd"
   ],
   "metadata": {
    "collapsed": false,
    "ExecuteTime": {
     "end_time": "2024-05-13T21:49:09.120108200Z",
     "start_time": "2024-05-13T21:49:08.987229500Z"
    }
   },
   "execution_count": 169
  },
  {
   "cell_type": "code",
   "outputs": [],
   "source": [
    "data_frame = pd.read_csv('train.csv')"
   ],
   "metadata": {
    "collapsed": false,
    "ExecuteTime": {
     "end_time": "2024-05-13T21:49:11.312995Z",
     "start_time": "2024-05-13T21:49:08.991410200Z"
    }
   },
   "execution_count": 170
  },
  {
   "cell_type": "code",
   "outputs": [
    {
     "name": "stdout",
     "output_type": "stream",
     "text": [
      "<class 'pandas.core.frame.DataFrame'>\n",
      "RangeIndex: 52500 entries, 0 to 52499\n",
      "Columns: 1025 entries, pix1 to label\n",
      "dtypes: int64(1025)\n",
      "memory usage: 410.6 MB\n"
     ]
    }
   ],
   "source": [
    "data_frame.info()"
   ],
   "metadata": {
    "collapsed": false,
    "ExecuteTime": {
     "end_time": "2024-05-13T21:49:11.339455500Z",
     "start_time": "2024-05-13T21:49:11.314996200Z"
    }
   },
   "execution_count": 171
  },
  {
   "cell_type": "code",
   "outputs": [
    {
     "data": {
      "text/plain": "   pix1  pix2  pix3  pix4  pix5  pix6  pix7  pix8  pix9  pix10  ...  pix1016  \\\n0     0     0     0     0     0     0     0     0     0      0  ...        0   \n1     1     1     1     1     1     1     1     1     1      1  ...        1   \n2     1     1     1     1     1     1     1     1     1      1  ...        1   \n3     0     0     0     0     0     0     0     0     0      0  ...        0   \n4     1     1     1     1     1     1     1     1     1      1  ...        1   \n\n   pix1017  pix1018  pix1019  pix1020  pix1021  pix1022  pix1023  pix1024  \\\n0        0        0        0        0        0        0        0        0   \n1        1        1        1        1        1        1        1        1   \n2        1        1        1        1        1        1        1        1   \n3        0        0        0        0        0        0        0        0   \n4        1        1        1        1        1        1        1        1   \n\n   label  \n0      3  \n1      3  \n2      7  \n3      9  \n4      5  \n\n[5 rows x 1025 columns]",
      "text/html": "<div>\n<style scoped>\n    .dataframe tbody tr th:only-of-type {\n        vertical-align: middle;\n    }\n\n    .dataframe tbody tr th {\n        vertical-align: top;\n    }\n\n    .dataframe thead th {\n        text-align: right;\n    }\n</style>\n<table border=\"1\" class=\"dataframe\">\n  <thead>\n    <tr style=\"text-align: right;\">\n      <th></th>\n      <th>pix1</th>\n      <th>pix2</th>\n      <th>pix3</th>\n      <th>pix4</th>\n      <th>pix5</th>\n      <th>pix6</th>\n      <th>pix7</th>\n      <th>pix8</th>\n      <th>pix9</th>\n      <th>pix10</th>\n      <th>...</th>\n      <th>pix1016</th>\n      <th>pix1017</th>\n      <th>pix1018</th>\n      <th>pix1019</th>\n      <th>pix1020</th>\n      <th>pix1021</th>\n      <th>pix1022</th>\n      <th>pix1023</th>\n      <th>pix1024</th>\n      <th>label</th>\n    </tr>\n  </thead>\n  <tbody>\n    <tr>\n      <th>0</th>\n      <td>0</td>\n      <td>0</td>\n      <td>0</td>\n      <td>0</td>\n      <td>0</td>\n      <td>0</td>\n      <td>0</td>\n      <td>0</td>\n      <td>0</td>\n      <td>0</td>\n      <td>...</td>\n      <td>0</td>\n      <td>0</td>\n      <td>0</td>\n      <td>0</td>\n      <td>0</td>\n      <td>0</td>\n      <td>0</td>\n      <td>0</td>\n      <td>0</td>\n      <td>3</td>\n    </tr>\n    <tr>\n      <th>1</th>\n      <td>1</td>\n      <td>1</td>\n      <td>1</td>\n      <td>1</td>\n      <td>1</td>\n      <td>1</td>\n      <td>1</td>\n      <td>1</td>\n      <td>1</td>\n      <td>1</td>\n      <td>...</td>\n      <td>1</td>\n      <td>1</td>\n      <td>1</td>\n      <td>1</td>\n      <td>1</td>\n      <td>1</td>\n      <td>1</td>\n      <td>1</td>\n      <td>1</td>\n      <td>3</td>\n    </tr>\n    <tr>\n      <th>2</th>\n      <td>1</td>\n      <td>1</td>\n      <td>1</td>\n      <td>1</td>\n      <td>1</td>\n      <td>1</td>\n      <td>1</td>\n      <td>1</td>\n      <td>1</td>\n      <td>1</td>\n      <td>...</td>\n      <td>1</td>\n      <td>1</td>\n      <td>1</td>\n      <td>1</td>\n      <td>1</td>\n      <td>1</td>\n      <td>1</td>\n      <td>1</td>\n      <td>1</td>\n      <td>7</td>\n    </tr>\n    <tr>\n      <th>3</th>\n      <td>0</td>\n      <td>0</td>\n      <td>0</td>\n      <td>0</td>\n      <td>0</td>\n      <td>0</td>\n      <td>0</td>\n      <td>0</td>\n      <td>0</td>\n      <td>0</td>\n      <td>...</td>\n      <td>0</td>\n      <td>0</td>\n      <td>0</td>\n      <td>0</td>\n      <td>0</td>\n      <td>0</td>\n      <td>0</td>\n      <td>0</td>\n      <td>0</td>\n      <td>9</td>\n    </tr>\n    <tr>\n      <th>4</th>\n      <td>1</td>\n      <td>1</td>\n      <td>1</td>\n      <td>1</td>\n      <td>1</td>\n      <td>1</td>\n      <td>1</td>\n      <td>1</td>\n      <td>1</td>\n      <td>1</td>\n      <td>...</td>\n      <td>1</td>\n      <td>1</td>\n      <td>1</td>\n      <td>1</td>\n      <td>1</td>\n      <td>1</td>\n      <td>1</td>\n      <td>1</td>\n      <td>1</td>\n      <td>5</td>\n    </tr>\n  </tbody>\n</table>\n<p>5 rows × 1025 columns</p>\n</div>"
     },
     "execution_count": 172,
     "metadata": {},
     "output_type": "execute_result"
    }
   ],
   "source": [
    "data_frame.head()"
   ],
   "metadata": {
    "collapsed": false,
    "ExecuteTime": {
     "end_time": "2024-05-13T21:49:11.381743200Z",
     "start_time": "2024-05-13T21:49:11.338264500Z"
    }
   },
   "execution_count": 172
  },
  {
   "cell_type": "code",
   "outputs": [
    {
     "data": {
      "text/plain": "[3, 7, 9, 5, 1, 6, 0, 4, 8, 2]"
     },
     "execution_count": 173,
     "metadata": {},
     "output_type": "execute_result"
    }
   ],
   "source": [
    "uniq_label =data_frame['label'].unique().tolist()\n",
    "uniq_label\n"
   ],
   "metadata": {
    "collapsed": false,
    "ExecuteTime": {
     "end_time": "2024-05-13T21:49:11.382744700Z",
     "start_time": "2024-05-13T21:49:11.353808300Z"
    }
   },
   "execution_count": 173
  },
  {
   "cell_type": "code",
   "outputs": [
    {
     "name": "stdout",
     "output_type": "stream",
     "text": [
      "52500\n",
      "(52500, 1025)\n",
      "pix1       0.877390\n",
      "pix2       0.877390\n",
      "pix3       0.877390\n",
      "pix4       0.877390\n",
      "pix5       0.877410\n",
      "             ...   \n",
      "pix1021    0.877467\n",
      "pix1022    0.877410\n",
      "pix1023    0.877390\n",
      "pix1024    0.877390\n",
      "label      4.509752\n",
      "Length: 1025, dtype: float64\n"
     ]
    }
   ],
   "source": [
    "print(len(data_frame))\n",
    "print(data_frame.shape)\n",
    "print(data_frame.mean())"
   ],
   "metadata": {
    "collapsed": false,
    "ExecuteTime": {
     "end_time": "2024-05-13T21:49:11.399132300Z",
     "start_time": "2024-05-13T21:49:11.357522300Z"
    }
   },
   "execution_count": 174
  },
  {
   "cell_type": "code",
   "outputs": [],
   "source": [
    "import matplotlib.pyplot as plt"
   ],
   "metadata": {
    "collapsed": false,
    "ExecuteTime": {
     "end_time": "2024-05-13T21:49:11.402363500Z",
     "start_time": "2024-05-13T21:49:11.398629200Z"
    }
   },
   "execution_count": 175
  },
  {
   "cell_type": "code",
   "outputs": [
    {
     "data": {
      "text/plain": "<Figure size 640x480 with 1 Axes>",
      "image/png": "[encoded data removed]"
     },
     "metadata": {},
     "output_type": "display_data"
    }
   ],
   "source": [
    "data_frame['label'].hist()\n",
    "plt.xlabel('Label')\n",
    "plt.ylabel('Count')\n",
    "plt.title('Histogram label')\n",
    "plt.show()"
   ],
   "metadata": {
    "collapsed": false,
    "ExecuteTime": {
     "end_time": "2024-05-13T21:49:11.523590400Z",
     "start_time": "2024-05-13T21:49:11.401362900Z"
    }
   },
   "execution_count": 176
  },
  {
   "cell_type": "markdown",
   "source": [
    "Provedl jsem zakladni praci pro prehled dat, dale jsem si vykreslil zastoupeni jednotlivych \"labels\" a  muzeme usoudit, ze zastoupeni jednotlivych labels je dosti stejne."
   ],
   "metadata": {
    "collapsed": false
   }
  },
  {
   "cell_type": "markdown",
   "source": [
    "Ted si vykreslime nekolik obrazku, abychom valstne vedeli s cim pracujeme."
   ],
   "metadata": {
    "collapsed": false
   }
  },
  {
   "cell_type": "code",
   "execution_count": 177,
   "outputs": [
    {
     "data": {
      "text/plain": "<Figure size 1200x600 with 20 Axes>",
      "image/png": "[encoded data removed]"
     },
     "metadata": {},
     "output_type": "display_data"
    }
   ],
   "source": [
    "data_frame_np = data_frame.drop(columns=['label']).to_numpy()\n",
    "\n",
    "import random\n",
    "\n",
    "num_img = 20\n",
    "random_index = random.sample(range(len(data_frame_np)), num_img)\n",
    "\n",
    "plt.figure(figsize=(12, 6))\n",
    "for i, idx in enumerate(random_index):\n",
    "    plt.subplot(4, 5, i+1)\n",
    "    plt.imshow(data_frame_np[idx].reshape((32, 32)), cmap='gray')\n",
    "    plt.axis('off')\n",
    "    original_label = data_frame.loc[idx, 'label']\n",
    "    plt.title(f'Image {idx}\\nLabel: {original_label}')\n",
    "\n",
    "plt.tight_layout()\n",
    "plt.show()"
   ],
   "metadata": {
    "collapsed": false,
    "ExecuteTime": {
     "end_time": "2024-05-13T21:49:12.483931300Z",
     "start_time": "2024-05-13T21:49:11.523590400Z"
    }
   }
  },
  {
   "cell_type": "markdown",
   "source": [
    "Zacneme s doprednou neuronovou siti. Jsou casto pouzivane pro klasifikaci a a regresi, jsou velmi dobre schopne zachytit slozite vztahy mezi vstupnimi a vystupnimi daty."
   ],
   "metadata": {
    "collapsed": false
   }
  },
  {
   "cell_type": "markdown",
   "source": [
    "Rozdelime si data se kterymi budeme dale pracovat"
   ],
   "metadata": {
    "collapsed": false
   }
  },
  {
   "cell_type": "code",
   "execution_count": 178,
   "outputs": [],
   "source": [
    "import torch\n",
    "import torch.nn as nn\n",
    "import torch.optim as optim\n",
    "from torch.utils.data import DataLoader, Dataset, random_split\n",
    "from torchvision import transforms\n"
   ],
   "metadata": {
    "collapsed": false,
    "ExecuteTime": {
     "end_time": "2024-05-13T21:49:12.504810600Z",
     "start_time": "2024-05-13T21:49:12.483931300Z"
    }
   }
  },
  {
   "cell_type": "code",
   "execution_count": 179,
   "outputs": [
    {
     "name": "stdout",
     "output_type": "stream",
     "text": [
      "Velikost trénovací množiny: 31500\n",
      "Velikost validační množiny: 10500\n",
      "Velikost testovací množiny: 10500\n"
     ]
    }
   ],
   "source": [
    "data_frame_numpy = data_frame.to_numpy()\n",
    "\n",
    "generator1 = torch.Generator().manual_seed(42)\n",
    "train_size = int(0.6*len(data_frame_numpy))\n",
    "val_size = int(0.2*len(data_frame_numpy))\n",
    "test_size = len(data_frame_numpy) - train_size - val_size\n",
    "\n",
    "train_data, val_data, test_data = torch.utils.data.random_split(data_frame_numpy, [train_size, val_size, test_size],generator1)\n",
    "\n",
    "print(\"Velikost trénovací množiny:\", len(train_data))\n",
    "print(\"Velikost validační množiny:\", len(val_data))\n",
    "print(\"Velikost testovací množiny:\", len(test_data))\n"
   ],
   "metadata": {
    "collapsed": false,
    "ExecuteTime": {
     "end_time": "2024-05-13T21:49:12.505811500Z",
     "start_time": "2024-05-13T21:49:12.485442400Z"
    }
   }
  },
  {
   "cell_type": "markdown",
   "source": [
    "Dale si pripravim \"davky\" pro davkove uceni"
   ],
   "metadata": {
    "collapsed": false
   }
  },
  {
   "cell_type": "code",
   "execution_count": 180,
   "outputs": [],
   "source": [
    "class CustomDataset(Dataset):\n",
    "    def __init__(self, dataset, indices):\n",
    "        self.data = torch.from_numpy(dataset[indices, :-1]).float()  # Features\n",
    "        self.labels = torch.from_numpy(dataset[indices, -1]).long()  # Labels\n",
    "\n",
    "    def __len__(self):\n",
    "        return len(self.data)\n",
    "\n",
    "    def __getitem__(self, idx):\n",
    "        return self.data[idx], self.labels[idx]"
   ],
   "metadata": {
    "collapsed": false,
    "ExecuteTime": {
     "end_time": "2024-05-13T21:49:12.505811500Z",
     "start_time": "2024-05-13T21:49:12.492187800Z"
    }
   }
  },
  {
   "cell_type": "code",
   "execution_count": 181,
   "outputs": [],
   "source": [
    "train_dataset = CustomDataset(data_frame_numpy, train_data.indices)\n",
    "val_dataset = CustomDataset(data_frame_numpy, val_data.indices)\n",
    "test_dataset = CustomDataset(data_frame_numpy, test_data.indices)\n",
    "\n",
    "batch_size = 64\n",
    "train_loader = DataLoader(train_dataset, batch_size=batch_size, shuffle=True)\n",
    "val_loader = DataLoader(val_dataset, batch_size=batch_size, shuffle=False)\n",
    "test_loader = DataLoader(test_dataset, batch_size=batch_size, shuffle=False)"
   ],
   "metadata": {
    "collapsed": false,
    "ExecuteTime": {
     "end_time": "2024-05-13T21:49:12.961217400Z",
     "start_time": "2024-05-13T21:49:12.498804800Z"
    }
   }
  },
  {
   "cell_type": "markdown",
   "source": [
    "Ted si pripravime nejprve jednoduchy model dopredne neuronove site "
   ],
   "metadata": {
    "collapsed": false
   }
  },
  {
   "cell_type": "code",
   "execution_count": 182,
   "outputs": [],
   "source": [
    "class firstNN(nn.Module):\n",
    "    def __init__(self, input_size, hidden_size, output_size):\n",
    "        super(firstNN, self).__init__()\n",
    "        self.fc1 = nn.Linear(input_size, hidden_size)\n",
    "        self.relu = nn.ReLU()\n",
    "        self.fc2 = nn.Linear(hidden_size, output_size)\n",
    "\n",
    "    def forward(self, x):\n",
    "        x = x.view(x.size(0), -1)  \n",
    "        x = self.fc1(x)\n",
    "        x = self.relu(x)\n",
    "        x = self.fc2(x)\n",
    "        return x"
   ],
   "metadata": {
    "collapsed": false,
    "ExecuteTime": {
     "end_time": "2024-05-13T21:49:12.971348700Z",
     "start_time": "2024-05-13T21:49:12.965220900Z"
    }
   }
  },
  {
   "cell_type": "code",
   "execution_count": 183,
   "outputs": [],
   "source": [
    "def run_model(model, criterion, optimizer, train_loader, val_loader, test_loader):\n",
    "    num_epochs = 10\n",
    "    for epoch in range(num_epochs):\n",
    "        model.train()\n",
    "        running_loss = 0.0\n",
    "        for inputs, labels in train_loader:\n",
    "            optimizer.zero_grad()\n",
    "            outputs = model(inputs)\n",
    "            loss = criterion(outputs, labels)\n",
    "            loss.backward()\n",
    "            optimizer.step()\n",
    "            running_loss += loss.item() * inputs.size(0)\n",
    "        epoch_loss = running_loss / len(train_loader.dataset)\n",
    "\n",
    "        model.eval()\n",
    "        val_running_loss = 0.0\n",
    "        correct = 0\n",
    "        total = 0\n",
    "        with torch.no_grad():\n",
    "            for inputs, labels in val_loader:\n",
    "                outputs = model(inputs)\n",
    "                loss = criterion(outputs, labels)\n",
    "                _, predicted = torch.max(outputs, 1)\n",
    "                total += labels.size(0)\n",
    "                correct += (predicted == labels).sum().item()\n",
    "                val_running_loss += loss.item() * inputs.size(0)\n",
    "        val_epoch_loss = val_running_loss / len(val_loader.dataset)\n",
    "        val_accuracy = correct / total\n",
    "\n",
    "        print(f'Epoch [{epoch+1}/{num_epochs}], '\n",
    "              f'Training Loss: {epoch_loss:.4f}, '\n",
    "              f'Validation Loss: {val_epoch_loss:.4f}, '\n",
    "              f'Validation Accuracy: {val_accuracy:.4f}')\n",
    "\n",
    "    model.eval()\n",
    "    test_running_loss = 0.0\n",
    "    correct = 0\n",
    "    total = 0\n",
    "    with torch.no_grad():\n",
    "        for inputs, labels in test_loader:\n",
    "            outputs = model(inputs)\n",
    "            _, predicted = torch.max(outputs, 1)\n",
    "            total += labels.size(0)\n",
    "            correct += (predicted == labels).sum().item()\n",
    "            test_running_loss += loss.item() * inputs.size(0)\n",
    "    test_loss = test_running_loss / len(test_loader.dataset)\n",
    "    test_accuracy = correct / total\n",
    "\n",
    "    print(f'Test Loss: {test_loss:.4f}, Test Accuracy: {test_accuracy:.4f}')"
   ],
   "metadata": {
    "collapsed": false,
    "ExecuteTime": {
     "end_time": "2024-05-13T21:49:12.981612800Z",
     "start_time": "2024-05-13T21:49:12.968335Z"
    }
   }
  },
  {
   "cell_type": "code",
   "execution_count": 184,
   "outputs": [
    {
     "name": "stdout",
     "output_type": "stream",
     "text": [
      "Epoch [1/10], Training Loss: 2.2483, Validation Loss: 1.3676, Validation Accuracy: 0.7115\n",
      "Epoch [2/10], Training Loss: 1.0433, Validation Loss: 1.0634, Validation Accuracy: 0.7232\n",
      "Epoch [3/10], Training Loss: 0.7953, Validation Loss: 0.8165, Validation Accuracy: 0.7680\n",
      "Epoch [4/10], Training Loss: 0.6879, Validation Loss: 0.7821, Validation Accuracy: 0.7710\n",
      "Epoch [5/10], Training Loss: 0.5870, Validation Loss: 0.7105, Validation Accuracy: 0.7868\n",
      "Epoch [6/10], Training Loss: 0.5502, Validation Loss: 0.6916, Validation Accuracy: 0.7900\n",
      "Epoch [7/10], Training Loss: 0.4974, Validation Loss: 0.6605, Validation Accuracy: 0.7978\n",
      "Epoch [8/10], Training Loss: 0.4532, Validation Loss: 0.6429, Validation Accuracy: 0.8010\n",
      "Epoch [9/10], Training Loss: 0.4338, Validation Loss: 0.6178, Validation Accuracy: 0.8085\n",
      "Epoch [10/10], Training Loss: 0.4048, Validation Loss: 0.5982, Validation Accuracy: 0.8176\n",
      "Test Loss: 0.2963, Test Accuracy: 0.8150\n"
     ]
    }
   ],
   "source": [
    "model_one = firstNN(input_size=32*32, hidden_size=228, output_size=10)\n",
    "criterion = nn.CrossEntropyLoss()\n",
    "optimizer = optim.Adam(model_one.parameters(), lr=0.0001)\n",
    "run_model(model_one,criterion,optimizer,train_loader,val_loader,test_loader)"
   ],
   "metadata": {
    "collapsed": false,
    "ExecuteTime": {
     "end_time": "2024-05-13T21:49:26.006655500Z",
     "start_time": "2024-05-13T21:49:12.978599300Z"
    }
   }
  },
  {
   "cell_type": "markdown",
   "source": [
    "U tohoto modelu jsem experimentoval nejvice s hodnotou \"lr\" a prave lr = 0.0001 mi vysla jako nejvice optimalni.Pro odlisne (mensi jak 128) hloubky skrytych hloubbek jsem dostaval mensi presnost, pro hodnoty vetsi jak 128 se presnost zvetsovala ale od 128 je lehce, proto nechavam u tohoto modelu 228. Vstup je 1024 coz odpovida pixelum u obrazku a vystupni vrstva ma 10. Jeste vyzkouskim jinym pristup u dopredne neuronovou site. U tohoto modelu mi presnost vicemen vychazi okolo 80%, pokusime se udelat lepsi model. "
   ],
   "metadata": {
    "collapsed": false
   }
  },
  {
   "cell_type": "code",
   "execution_count": 185,
   "outputs": [],
   "source": [
    "class secondCNN(nn.Module):\n",
    "    def __init__(self, input_size, hidden_size1, hidden_size2, output_size):\n",
    "        super(secondCNN, self).__init__()\n",
    "        self.fc1 = nn.Linear(input_size, hidden_size1)\n",
    "        self.relu1 = nn.ReLU()\n",
    "        self.fc2 = nn.Linear(hidden_size1, hidden_size2)\n",
    "        self.relu2 = nn.ReLU()\n",
    "        self.fc3 = nn.Linear(hidden_size2, output_size)\n",
    "\n",
    "    def forward(self, x):\n",
    "        x = x.view(x.size(0), -1)\n",
    "        x = self.fc1(x)\n",
    "        x = self.relu1(x)\n",
    "        x = self.fc2(x)\n",
    "        x = self.relu2(x)\n",
    "        x = self.fc3(x)\n",
    "        return x"
   ],
   "metadata": {
    "collapsed": false,
    "ExecuteTime": {
     "end_time": "2024-05-13T21:49:26.012925200Z",
     "start_time": "2024-05-13T21:49:26.008911500Z"
    }
   }
  },
  {
   "cell_type": "code",
   "execution_count": 186,
   "outputs": [
    {
     "name": "stdout",
     "output_type": "stream",
     "text": [
      "Epoch [1/10], Training Loss: 0.2978, Validation Loss: 0.5455, Validation Accuracy: 0.8285\n",
      "Epoch [2/10], Training Loss: 0.2799, Validation Loss: 0.5620, Validation Accuracy: 0.8246\n",
      "Epoch [3/10], Training Loss: 0.2733, Validation Loss: 0.5465, Validation Accuracy: 0.8290\n",
      "Epoch [4/10], Training Loss: 0.2670, Validation Loss: 0.5433, Validation Accuracy: 0.8294\n",
      "Epoch [5/10], Training Loss: 0.2622, Validation Loss: 0.5420, Validation Accuracy: 0.8308\n",
      "Epoch [6/10], Training Loss: 0.2575, Validation Loss: 0.5520, Validation Accuracy: 0.8314\n",
      "Epoch [7/10], Training Loss: 0.2541, Validation Loss: 0.5469, Validation Accuracy: 0.8295\n",
      "Epoch [8/10], Training Loss: 0.2483, Validation Loss: 0.5457, Validation Accuracy: 0.8300\n",
      "Epoch [9/10], Training Loss: 0.2452, Validation Loss: 0.5455, Validation Accuracy: 0.8330\n",
      "Epoch [10/10], Training Loss: 0.2430, Validation Loss: 0.5549, Validation Accuracy: 0.8276\n",
      "Test Loss: 0.4170, Test Accuracy: 0.8209\n"
     ]
    }
   ],
   "source": [
    "model_two = secondCNN(input_size=32*32, hidden_size1=556,hidden_size2=228, output_size=10)\n",
    "criterion = nn.CrossEntropyLoss()\n",
    "optimizer = optim.Adam(model_one.parameters(), lr=0.00001)\n",
    "run_model(model_one,criterion,optimizer,train_loader,val_loader,test_loader)"
   ],
   "metadata": {
    "collapsed": false,
    "ExecuteTime": {
     "end_time": "2024-05-13T21:49:39.144861100Z",
     "start_time": "2024-05-13T21:49:26.012925200Z"
    }
   }
  },
  {
   "cell_type": "markdown",
   "source": [
    "Zde jsem take experimentoval nejvice s hodnotou \"lr\", hodnota pro lr- 0.00001 mi davala nejlepsi vysledky pro model a odhad je okolo 82%. Zde jsem opet zkousel nekolik ruznych variant pro skryte vrstvy a nejlepe jsem dostal na hodnotach 556 a 258 s presnosti 83%."
   ],
   "metadata": {
    "collapsed": false
   }
  },
  {
   "cell_type": "markdown",
   "source": [
    "Uvedu zde jeste treti model"
   ],
   "metadata": {
    "collapsed": false
   }
  },
  {
   "cell_type": "code",
   "execution_count": 187,
   "outputs": [],
   "source": [
    "class ThirdNN(nn.Module):\n",
    "    def __init__(self, input_size, hidden_size1, hidden_size2, hidden_size3, output_size):\n",
    "        super(ThirdNN, self).__init__()\n",
    "        self.fc1 = nn.Linear(input_size, hidden_size1)\n",
    "        self.relu1 = nn.ReLU()\n",
    "        self.fc2 = nn.Linear(hidden_size1, hidden_size2)\n",
    "        self.relu2 = nn.ReLU()\n",
    "        self.fc3 = nn.Linear(hidden_size2, hidden_size3)\n",
    "        self.relu3 = nn.ReLU()\n",
    "        self.fc4 = nn.Linear(hidden_size3, output_size)\n",
    "\n",
    "    def forward(self, x):\n",
    "        x = x.view(x.size(0), -1)\n",
    "        x = self.fc1(x)\n",
    "        x = self.relu1(x)\n",
    "        x = self.fc2(x)\n",
    "        x = self.relu2(x)\n",
    "        x = self.fc3(x)\n",
    "        x = self.relu3(x)\n",
    "        x = self.fc4(x)\n",
    "        return x"
   ],
   "metadata": {
    "collapsed": false,
    "ExecuteTime": {
     "end_time": "2024-05-13T21:49:39.148538700Z",
     "start_time": "2024-05-13T21:49:39.144861100Z"
    }
   }
  },
  {
   "cell_type": "code",
   "execution_count": 188,
   "outputs": [
    {
     "name": "stdout",
     "output_type": "stream",
     "text": [
      "Epoch [1/10], Training Loss: 0.2389, Validation Loss: 0.5485, Validation Accuracy: 0.8315\n",
      "Epoch [2/10], Training Loss: 0.2350, Validation Loss: 0.5466, Validation Accuracy: 0.8314\n",
      "Epoch [3/10], Training Loss: 0.2311, Validation Loss: 0.5471, Validation Accuracy: 0.8324\n",
      "Epoch [4/10], Training Loss: 0.2284, Validation Loss: 0.5478, Validation Accuracy: 0.8335\n",
      "Epoch [5/10], Training Loss: 0.2248, Validation Loss: 0.5466, Validation Accuracy: 0.8345\n",
      "Epoch [6/10], Training Loss: 0.2225, Validation Loss: 0.5459, Validation Accuracy: 0.8330\n",
      "Epoch [7/10], Training Loss: 0.2191, Validation Loss: 0.5519, Validation Accuracy: 0.8345\n",
      "Epoch [8/10], Training Loss: 0.2170, Validation Loss: 0.5467, Validation Accuracy: 0.8344\n",
      "Epoch [9/10], Training Loss: 0.2127, Validation Loss: 0.5496, Validation Accuracy: 0.8340\n",
      "Epoch [10/10], Training Loss: 0.2108, Validation Loss: 0.5538, Validation Accuracy: 0.8321\n",
      "Test Loss: 0.0712, Test Accuracy: 0.8220\n"
     ]
    }
   ],
   "source": [
    "model_three = ThirdNN(input_size=32*32, hidden_size1=556,hidden_size2=228,hidden_size3=228, output_size=10)\n",
    "criterion = nn.CrossEntropyLoss()\n",
    "optimizer = optim.Adam(model_one.parameters(), lr=0.00001)\n",
    "run_model(model_one,criterion,optimizer,train_loader,val_loader,test_loader)"
   ],
   "metadata": {
    "collapsed": false,
    "ExecuteTime": {
     "end_time": "2024-05-13T21:49:52.743980800Z",
     "start_time": "2024-05-13T21:49:39.148538700Z"
    }
   }
  },
  {
   "cell_type": "markdown",
   "source": [
    "U teto metody jsem dostal o neco vetsi presnost, ale testovaci chyba byla vetsi nez u predchoziho modelu. Zkousel jsem ruzne velikosti skrytych vrstev, ale tyto parametry mi vysly jako nejlepsi."
   ],
   "metadata": {
    "collapsed": false
   }
  },
  {
   "cell_type": "markdown",
   "source": [
    "Prejdeme ted na konvolucni neronovo sit, CNN jsou velmi schopne pro odhaleni lekolnich vzoru diky lokalnim filtrum. Pouzivaji se momentalne hojne, protoze jsou schopny zachytit hieararchicke struktury vizualnich dat. Jsou casto pouzite pro rozpoznavani objektu/obrazu."
   ],
   "metadata": {
    "collapsed": false
   }
  },
  {
   "cell_type": "code",
   "execution_count": 189,
   "outputs": [
    {
     "name": "stdout",
     "output_type": "stream",
     "text": [
      "Velikost trénovacích dat: 31500\n",
      "Velikost validačních dat: 10500\n",
      "Velikost testovacích dat: 10500\n"
     ]
    }
   ],
   "source": [
    "import torch\n",
    "from sklearn.model_selection import train_test_split\n",
    "\n",
    "data_np = data_frame.to_numpy()\n",
    "\n",
    "\n",
    "features_np = data_np[:, :-1]  \n",
    "labels_np = data_np[:, -1]     \n",
    "\n",
    "\n",
    "features_tensor = torch.tensor(features_np, dtype=torch.float32)\n",
    "labels_tensor = torch.tensor(labels_np, dtype=torch.long)\n",
    "\n",
    "\n",
    "batch_size = 32 \n",
    "channels = 1  \n",
    "height = 32\n",
    "width = 32\n",
    "\n",
    "\n",
    "features_tensor = features_tensor.view(-1, channels, height, width)\n",
    "\n",
    "\n",
    "X_train_val, X_test, y_train_val, y_test = train_test_split(features_tensor, labels_tensor, test_size=0.2, random_state=42)\n",
    "X_train, X_val, y_train, y_val = train_test_split(X_train_val, y_train_val, test_size=0.25, random_state=42)  # 0.25 x 0.8 = 0.2\n",
    "\n",
    "\n",
    "from torch.utils.data import DataLoader, TensorDataset\n",
    "\n",
    "train_dataset = TensorDataset(X_train, y_train)\n",
    "train_loader = DataLoader(train_dataset, batch_size=batch_size, shuffle=True)\n",
    "\n",
    "val_dataset = TensorDataset(X_val, y_val)\n",
    "val_loader = DataLoader(val_dataset, batch_size=batch_size, shuffle=False)\n",
    "\n",
    "test_dataset = TensorDataset(X_test, y_test)\n",
    "test_loader = DataLoader(test_dataset, batch_size=batch_size, shuffle=False)\n",
    "\n",
    "\n",
    "print(\"Velikost trénovacích dat:\", len(train_loader.dataset))\n",
    "print(\"Velikost validačních dat:\", len(val_loader.dataset))\n",
    "print(\"Velikost testovacích dat:\", len(test_loader.dataset))\n"
   ],
   "metadata": {
    "collapsed": false,
    "ExecuteTime": {
     "end_time": "2024-05-13T21:49:53.079028700Z",
     "start_time": "2024-05-13T21:49:52.742870700Z"
    }
   }
  },
  {
   "cell_type": "code",
   "execution_count": 190,
   "outputs": [],
   "source": [
    "import torch.nn as nn\n",
    "import torch.nn.functional as F\n",
    "\n",
    "class ConvNet(nn.Module):\n",
    "    def __init__(self):\n",
    "        super(ConvNet, self).__init__()\n",
    "        self.conv1 = nn.Conv2d(1, 32, kernel_size=3, padding=1)\n",
    "        self.conv2 = nn.Conv2d(32, 64, kernel_size=3, padding=1)\n",
    "        self.pool = nn.MaxPool2d(2, 2)\n",
    "        self.fc1 = nn.Linear(64 * 8 * 8, 128)  \n",
    "        self.fc2 = nn.Linear(128, 10)\n",
    "\n",
    "    def forward(self, x):\n",
    "        x = self.pool(F.relu(self.conv1(x)))\n",
    "        x = self.pool(F.relu(self.conv2(x)))\n",
    "        x = x.view(-1, 64 * 8 * 8)  \n",
    "        x = F.relu(self.fc1(x))\n",
    "        x = self.fc2(x)\n",
    "        return x"
   ],
   "metadata": {
    "collapsed": false,
    "ExecuteTime": {
     "end_time": "2024-05-13T21:49:53.090171200Z",
     "start_time": "2024-05-13T21:49:53.080028900Z"
    }
   }
  },
  {
   "cell_type": "markdown",
   "source": [
    "Sestrojim si funkci podobnou jako predtim na testovani dat."
   ],
   "metadata": {
    "collapsed": false
   }
  },
  {
   "cell_type": "code",
   "execution_count": 191,
   "outputs": [],
   "source": [
    "def run_model_two(model, criterion, optimizer, train_loader, val_loader, test_loader, num_epochs=10):\n",
    "    for epoch in range(num_epochs):\n",
    "\n",
    "        model.train()\n",
    "        running_loss = 0.0\n",
    "        for inputs, labels in train_loader:\n",
    "            optimizer.zero_grad()\n",
    "            outputs = model(inputs)\n",
    "            loss = criterion(outputs, labels)\n",
    "            loss.backward()\n",
    "            optimizer.step()\n",
    "            running_loss += loss.item() * inputs.size(0)\n",
    "        epoch_loss = running_loss / len(train_loader.dataset)\n",
    "\n",
    "\n",
    "        model.eval()\n",
    "        val_running_loss = 0.0\n",
    "        correct = 0\n",
    "        total = 0\n",
    "        with torch.no_grad():\n",
    "            for inputs, labels in val_loader:\n",
    "                outputs = model(inputs)\n",
    "                loss = criterion(outputs, labels)\n",
    "                _, predicted = torch.max(outputs, 1)\n",
    "                total += labels.size(0)\n",
    "                correct += (predicted == labels).sum().item()\n",
    "                val_running_loss += loss.item() * inputs.size(0)\n",
    "        val_epoch_loss = val_running_loss / len(val_loader.dataset)\n",
    "        val_accuracy = correct / total\n",
    "\n",
    "        print(f'Epoch [{epoch+1}/{num_epochs}], '\n",
    "              f'Training Loss: {epoch_loss:.4f}, '\n",
    "              f'Validation Loss: {val_epoch_loss:.4f}, '\n",
    "              f'Validation Accuracy: {val_accuracy:.4f}')\n",
    "\n",
    " \n",
    "    model.eval()\n",
    "    test_running_loss = 0.0\n",
    "    correct = 0\n",
    "    total = 0\n",
    "    with torch.no_grad():\n",
    "        for inputs, labels in test_loader:\n",
    "            outputs = model(inputs)\n",
    "            loss = criterion(outputs, labels)\n",
    "            _, predicted = torch.max(outputs, 1)\n",
    "            total += labels.size(0)\n",
    "            correct += (predicted == labels).sum().item()\n",
    "            test_running_loss += loss.item() * inputs.size(0)\n",
    "    test_loss = test_running_loss / len(test_loader.dataset)\n",
    "    test_accuracy = correct / total\n",
    "\n",
    "    print(f'Test Loss: {test_loss:.4f}, Test Accuracy: {test_accuracy:.4f}')"
   ],
   "metadata": {
    "collapsed": false,
    "ExecuteTime": {
     "end_time": "2024-05-13T21:49:53.093185400Z",
     "start_time": "2024-05-13T21:49:53.088362800Z"
    }
   }
  },
  {
   "cell_type": "code",
   "execution_count": 192,
   "outputs": [
    {
     "name": "stdout",
     "output_type": "stream",
     "text": [
      "Epoch [1/10], Training Loss: 0.6797, Validation Loss: 0.4834, Validation Accuracy: 0.8178\n",
      "Epoch [2/10], Training Loss: 0.4282, Validation Loss: 0.3966, Validation Accuracy: 0.8550\n",
      "Epoch [3/10], Training Loss: 0.3594, Validation Loss: 0.3659, Validation Accuracy: 0.8630\n",
      "Epoch [4/10], Training Loss: 0.3185, Validation Loss: 0.4115, Validation Accuracy: 0.8513\n",
      "Epoch [5/10], Training Loss: 0.2827, Validation Loss: 0.3406, Validation Accuracy: 0.8743\n",
      "Epoch [6/10], Training Loss: 0.2531, Validation Loss: 0.3586, Validation Accuracy: 0.8704\n",
      "Epoch [7/10], Training Loss: 0.2266, Validation Loss: 0.3368, Validation Accuracy: 0.8785\n",
      "Epoch [8/10], Training Loss: 0.2045, Validation Loss: 0.3505, Validation Accuracy: 0.8770\n",
      "Epoch [9/10], Training Loss: 0.1830, Validation Loss: 0.3267, Validation Accuracy: 0.8883\n",
      "Epoch [10/10], Training Loss: 0.1625, Validation Loss: 0.3557, Validation Accuracy: 0.8768\n",
      "Test Loss: 0.3632, Test Accuracy: 0.8795\n"
     ]
    }
   ],
   "source": [
    "model = ConvNet()\n",
    "criterion = nn.CrossEntropyLoss()\n",
    "optimizer = optim.Adam(model.parameters(), lr=0.0001)\n",
    "\n",
    "run_model_two(model, criterion, optimizer, train_loader, val_loader, test_loader)"
   ],
   "metadata": {
    "collapsed": false,
    "ExecuteTime": {
     "end_time": "2024-05-13T21:52:22.403792Z",
     "start_time": "2024-05-13T21:49:53.093185400Z"
    }
   }
  },
  {
   "cell_type": "markdown",
   "source": [
    "U tohoto modelu jsem experimentoval s nekolika zakldnimi funkcemi a modely dat, tato kombinace mi vysla jako nejvice efektivni a ocekvany vysledek 88% presnosti je velmi uspokojujici., tento model pouziji na finalni data a pro jejich odhad. Ocekavam presnost okolo 88%\n",
    "\n",
    "Dale si model aplikuji na finalni data ty potom nahraji do finalniho csv souboru."
   ],
   "metadata": {
    "collapsed": false
   }
  },
  {
   "cell_type": "code",
   "execution_count": 193,
   "outputs": [],
   "source": [
    "final_data  = pd.read_csv('evaluate.csv')\n",
    "final_data_np = data_frame.to_numpy()\n",
    "\n",
    "\n",
    "features_np = data_np[:, :-1]\n",
    "labels_np = data_np[:, -1]\n",
    "\n",
    "\n",
    "features_tensor = torch.tensor(features_np, dtype=torch.float32)\n",
    "\n",
    "\n",
    "\n",
    "batch_size = 32\n",
    "channels = 1\n",
    "height = 32\n",
    "width = 32\n",
    "\n",
    "\n",
    "features_tensor = features_tensor.view(-1, channels, height, width)\n"
   ],
   "metadata": {
    "collapsed": false,
    "ExecuteTime": {
     "end_time": "2024-05-13T21:52:23.272137700Z",
     "start_time": "2024-05-13T21:52:22.405253200Z"
    }
   }
  },
  {
   "cell_type": "code",
   "execution_count": 196,
   "outputs": [
    {
     "name": "stdout",
     "output_type": "stream",
     "text": [
      "tensor([3, 3, 7,  ..., 9, 2, 3])\n"
     ]
    }
   ],
   "source": [
    "model.eval()\n",
    "with torch.no_grad():\n",
    "    predicts = model(features_tensor)\n",
    "\n",
    "predicted_classes = torch.argmax(predicts,dim=1)\n",
    "print(predicted_classes)"
   ],
   "metadata": {
    "collapsed": false,
    "ExecuteTime": {
     "end_time": "2024-05-13T21:53:59.303030100Z",
     "start_time": "2024-05-13T21:53:49.438741100Z"
    }
   }
  },
  {
   "cell_type": "code",
   "execution_count": 197,
   "outputs": [],
   "source": [
    "import csv\n",
    "\n",
    "predicted_classes = [label.item() for label in predicted_classes]\n",
    "ids = list(range(len(predicted_classes)))\n",
    "results = list(zip(ids, predicted_classes))\n",
    "\n",
    "with open('results.csv','w',newline='') as file:\n",
    "    writer = csv.writer(file)\n",
    "    writer.writerow(['ID','label'])\n",
    "    writer.writerows(results)"
   ],
   "metadata": {
    "collapsed": false,
    "ExecuteTime": {
     "end_time": "2024-05-13T21:54:01.927608900Z",
     "start_time": "2024-05-13T21:54:01.757285200Z"
    }
   }
  },
  {
   "cell_type": "code",
   "execution_count": null,
   "outputs": [],
   "source": [],
   "metadata": {
    "collapsed": false
   }
  }
 ],
 "metadata": {
  "kernelspec": {
   "display_name": "Python 3 (ipykernel)",
   "language": "python",
   "name": "python3"
  },
  "language_info": {
   "codemirror_mode": {
    "name": "ipython",
    "version": 3
   },
   "file_extension": ".py",
   "mimetype": "text/x-python",
   "name": "python",
   "nbconvert_exporter": "python",
   "pygments_lexer": "ipython3",
   "version": "3.10.11"
  }
 },
 "nbformat": 4,
 "nbformat_minor": 4
}
