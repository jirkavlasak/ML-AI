{
 "cells": [
  {
   "cell_type": "markdown",
   "id": "39a4a2e3-9454-41b3-9765-c3575e7ddf22",
   "metadata": {},
   "source": [
    "# Úkol č. 1 - předzpracování dat a binární klasifikace\n",
    "\n",
    "* Termíny jsou uvedeny na [courses.fit.cvut.cz](https://courses.fit.cvut.cz/BI-ML1/homeworks/index.html).\n",
    "* Pokud odevzdáte úkol po prvním termínu ale před nejzašším termínem, budete penalizování -12 body, pozdější odevzdání je bez bodu.\n",
    "* V rámci tohoto úkolu se musíte vypořádat s klasifikační úlohou s příznaky různých typů.\n",
    "* Před tím, než na nich postavíte predikční model, je třeba je nějakým způsobem převést do číselné reprezentace.\n",
    "    \n",
    "> **Úkoly jsou zadány tak, aby Vám daly prostor pro invenci. Vymyslet _jak přesně_ budete úkol řešit, je důležitou součástí zadání a originalita či nápaditost bude také hodnocena!**\n",
    "\n",
    "Využívejte buňky typu `Markdown` k vysvětlování Vašeho postupu. Za nepřehlednost budeme strhávat body.\n",
    "\n",
    "## Zdroj dat\n",
    "\n",
    "Budeme se zabývat predikcí přežití pasažérů Titaniku.\n",
    "K dispozici máte trénovací data v souboru `data.csv` a data na vyhodnocení v souboru `evaluation.csv`.\n",
    "\n",
    "#### Seznam příznaků:\n",
    "* survived - zda pasažér přežil, 0 = Ne, 1 = Ano, **vysvětlovaná proměnná**, kterou chcete predikovat\n",
    "* pclass - Třída lodního lístku, 1 = první, 2 = druhá, 3 = třetí\n",
    "* name - jméno\n",
    "* sex - pohlaví\n",
    "* age - věk v letech\n",
    "* sibsp\t- počet sourozenců / manželů, manželek na palubě\n",
    "* parch - počet rodičů / dětí na palubě\n",
    "* ticket - číslo lodního lístku\n",
    "* fare - cena lodního lístku\n",
    "* cabin\t- číslo kajuty\n",
    "* embarked\t- místo nalodění, C = Cherbourg, Q = Queenstown, S = Southampton\n",
    "* home.dest - Bydliště/Cíl\n",
    "\n",
    "## Pokyny k vypracování\n",
    "\n",
    "**Body zadání**, za jejichž (poctivé) vypracování získáte **25 bodů**: \n",
    "  * V notebooku načtěte data ze souboru `data.csv`. Vhodným způsobem si je rozdělte na podmnožiny, které Vám poslouží pro trénování (trénovací), porovnávání modelů (validační) a následnou predikci výkonnosti finálního modelu (testovací).\n",
    "    \n",
    "  * Proveďte základní předzpracování dat:\n",
    "    * Projděte si jednotlivé příznaky a transformujte je do vhodné podoby pro použití ve vybraném klasifikačním modelu.\n",
    "    * Podle potřeby si můžete vytvářet nové příznaky (na základě existujících), například tedy můžete vytvořit příznak měřící délku jména atp.\n",
    "    * Některé příznaky můžete také úplně zahodit.\n",
    "    * Nějakým způsobem se vypořádejte s chybějícími hodnotami. _Pozor na metodické chyby!_\n",
    "    * Můžete využívat i vizualizace a vše stručně ale náležitě komentujte.\n",
    "\n",
    "  \n",
    "  * Na připravená data postupně aplikujte **rozhodovací strom** a **metodu nejbližších sousedů**, přičemž pro každý z těchto modelů:\n",
    "    * Okomentujte vhodnost daného modelu pro daný typ úlohy.\n",
    "    * Vyberte si hlavní hyperparametry k ladění a najděte jejich nejlepší hodnoty.\n",
    "    * Pro model s nejlepšími hodnotami hyperparametrů spočtěte F1 skóre, nakreslete ROC křivku a určete AUC. _Pozor na metodické chyby!_\n",
    "    * Získané výsledky vždy řádně okomentujte.\n",
    "\n",
    "        \n",
    "  * Ze všech zkoušených možností v předchozím kroku vyberte finální model a odhadněte, jakou přesnost můžete očekávat na nových datech, která jste doposud neměli k dispozici. _Pozor na metodické chyby!_\n",
    "    \n",
    "  * Nakonec načtěte vyhodnocovací data ze souboru`evaluation.csv`. Pomocí finálního modelu napočítejte predikce pro tyto data (vysvětlovaná proměnná v nich již není). Vytvořte soubor `results.csv`, ve kterém získané predikce uložíte do dvou sloupců: **ID**, **survived**. Tento soubor též odevzdejte (uložte do repozitáře vedle notebooku).\n",
    "\n",
    "  * Ukázka prvních řádků souboru `results.csv`:\n",
    "  \n",
    "```\n",
    "ID,survived\n",
    "1000,0\n",
    "1001,1\n",
    "...\n",
    "```\n",
    "\n",
    "## Poznámky k odevzdání\n",
    "\n",
    "  * Řiďte se pokyny ze stránky https://courses.fit.cvut.cz/BI-ML1/homeworks/index.html."
   ]
  },
  {
   "cell_type": "markdown",
   "id": "de917961-b9dd-4b50-b0da-192c36f9f501",
   "metadata": {},
   "source": [
    "# Homework num. 1"
   ]
  },
  {
   "cell_type": "markdown",
   "id": "6154ed19-894c-4c05-b97f-6e80c5debe06",
   "metadata": {},
   "source": [
    "## 1.Importovani knihoven"
   ]
  },
  {
   "cell_type": "code",
   "execution_count": 2,
   "id": "003f7995-4bc0-42d8-a9ac-456638cdd708",
   "metadata": {
    "ExecuteTime": {
     "end_time": "2023-11-25T16:34:43.015105500Z",
     "start_time": "2023-11-25T16:34:41.950346800Z"
    }
   },
   "outputs": [],
   "source": [
    "#Nejprve si importuji knihovny, ktere zatim budu potrebovat k vypracovani ukolu.\n",
    "import math\n",
    "import pandas as pd\n",
    "import numpy as np\n",
    "import seaborn as sns\n",
    "import sklearn.metrics as metrics\n",
    "from sklearn.model_selection import ParameterGrid\n",
    "from sklearn.tree import DecisionTreeRegressor\n",
    "\n",
    "import matplotlib.pyplot as plt\n",
    "import matplotlib\n",
    "%matplotlib inline"
   ]
  },
  {
   "cell_type": "markdown",
   "id": "6dd49317-4c28-4ddc-846c-b1f42a8a7bc1",
   "metadata": {},
   "source": [
    "## 2.Nahled na data a pochopeni jejich vzajemnych vztahu "
   ]
  },
  {
   "cell_type": "code",
   "execution_count": 3,
   "id": "ffd5f510-5ca5-4166-8263-1e14ecc3669b",
   "metadata": {
    "ExecuteTime": {
     "end_time": "2023-11-25T16:34:48.194450100Z",
     "start_time": "2023-11-25T16:34:48.141335100Z"
    }
   },
   "outputs": [
    {
     "data": {
      "text/plain": "   ID  survived  pclass                                             name  \\\n0   0         0       3               Goodwin, Master. William Frederick   \n1   1         0       3                            Jardin, Mr. Jose Neto   \n2   2         0       3                            Skoog, Master. Harald   \n3   3         1       3  O'Brien, Mrs. Thomas (Johanna \"Hannah\" Godfrey)   \n4   4         1       3        Abrahim, Mrs. Joseph (Sophie Halaut Easu)   \n\n      sex   age  sibsp  parch              ticket     fare cabin embarked  \\\n0    male  11.0      5      2             CA 2144  46.9000   NaN        S   \n1    male   NaN      0      0  SOTON/O.Q. 3101305   7.0500   NaN        S   \n2    male   4.0      3      2              347088  27.9000   NaN        S   \n3  female   NaN      1      0              370365  15.5000   NaN        Q   \n4  female  18.0      0      0                2657   7.2292   NaN        C   \n\n                              home.dest  \n0  Wiltshire, England Niagara Falls, NY  \n1                                   NaN  \n2                                   NaN  \n3                                   NaN  \n4                        Greensburg, PA  ",
      "text/html": "<div>\n<style scoped>\n    .dataframe tbody tr th:only-of-type {\n        vertical-align: middle;\n    }\n\n    .dataframe tbody tr th {\n        vertical-align: top;\n    }\n\n    .dataframe thead th {\n        text-align: right;\n    }\n</style>\n<table border=\"1\" class=\"dataframe\">\n  <thead>\n    <tr style=\"text-align: right;\">\n      <th></th>\n      <th>ID</th>\n      <th>survived</th>\n      <th>pclass</th>\n      <th>name</th>\n      <th>sex</th>\n      <th>age</th>\n      <th>sibsp</th>\n      <th>parch</th>\n      <th>ticket</th>\n      <th>fare</th>\n      <th>cabin</th>\n      <th>embarked</th>\n      <th>home.dest</th>\n    </tr>\n  </thead>\n  <tbody>\n    <tr>\n      <th>0</th>\n      <td>0</td>\n      <td>0</td>\n      <td>3</td>\n      <td>Goodwin, Master. William Frederick</td>\n      <td>male</td>\n      <td>11.0</td>\n      <td>5</td>\n      <td>2</td>\n      <td>CA 2144</td>\n      <td>46.9000</td>\n      <td>NaN</td>\n      <td>S</td>\n      <td>Wiltshire, England Niagara Falls, NY</td>\n    </tr>\n    <tr>\n      <th>1</th>\n      <td>1</td>\n      <td>0</td>\n      <td>3</td>\n      <td>Jardin, Mr. Jose Neto</td>\n      <td>male</td>\n      <td>NaN</td>\n      <td>0</td>\n      <td>0</td>\n      <td>SOTON/O.Q. 3101305</td>\n      <td>7.0500</td>\n      <td>NaN</td>\n      <td>S</td>\n      <td>NaN</td>\n    </tr>\n    <tr>\n      <th>2</th>\n      <td>2</td>\n      <td>0</td>\n      <td>3</td>\n      <td>Skoog, Master. Harald</td>\n      <td>male</td>\n      <td>4.0</td>\n      <td>3</td>\n      <td>2</td>\n      <td>347088</td>\n      <td>27.9000</td>\n      <td>NaN</td>\n      <td>S</td>\n      <td>NaN</td>\n    </tr>\n    <tr>\n      <th>3</th>\n      <td>3</td>\n      <td>1</td>\n      <td>3</td>\n      <td>O'Brien, Mrs. Thomas (Johanna \"Hannah\" Godfrey)</td>\n      <td>female</td>\n      <td>NaN</td>\n      <td>1</td>\n      <td>0</td>\n      <td>370365</td>\n      <td>15.5000</td>\n      <td>NaN</td>\n      <td>Q</td>\n      <td>NaN</td>\n    </tr>\n    <tr>\n      <th>4</th>\n      <td>4</td>\n      <td>1</td>\n      <td>3</td>\n      <td>Abrahim, Mrs. Joseph (Sophie Halaut Easu)</td>\n      <td>female</td>\n      <td>18.0</td>\n      <td>0</td>\n      <td>0</td>\n      <td>2657</td>\n      <td>7.2292</td>\n      <td>NaN</td>\n      <td>C</td>\n      <td>Greensburg, PA</td>\n    </tr>\n  </tbody>\n</table>\n</div>"
     },
     "execution_count": 3,
     "metadata": {},
     "output_type": "execute_result"
    }
   ],
   "source": [
    "#Nactu si ze souboru data.csv informace do 'data_set' a zobrazim si par hodnot \n",
    "data_set = pd.read_csv(\"data.csv\")\n",
    "data_set.head()\n",
    "\n",
    "#display(data_set.shape)\n",
    "#display(data_set.head())\n",
    "#display(data_set.info())\n",
    "#display(data_set.describe())\n",
    "#sdisplay(data_set.nunique())"
   ]
  },
  {
   "cell_type": "code",
   "execution_count": 4,
   "id": "dccd60f3-9640-4e7c-a26f-5be3140dc970",
   "metadata": {
    "ExecuteTime": {
     "end_time": "2023-11-25T16:34:50.718559300Z",
     "start_time": "2023-11-25T16:34:50.687581500Z"
    }
   },
   "outputs": [
    {
     "data": {
      "text/plain": "                ID    survived       pclass         age        sibsp  \\\ncount  1000.000000  1000.00000  1000.000000  802.000000  1000.000000   \nmean    499.500000     0.39800     2.288000   29.850686     0.496000   \nstd     288.819436     0.48973     0.840096   14.328743     1.024223   \nmin       0.000000     0.00000     1.000000    0.166700     0.000000   \n25%     249.750000     0.00000     1.750000   21.000000     0.000000   \n50%     499.500000     0.00000     3.000000   28.000000     0.000000   \n75%     749.250000     1.00000     3.000000   39.000000     1.000000   \nmax     999.000000     1.00000     3.000000   80.000000     8.000000   \n\n            parch        fare  \ncount  1000.00000  999.000000  \nmean      0.40200   34.264352  \nstd       0.91719   53.315077  \nmin       0.00000    0.000000  \n25%       0.00000    7.925000  \n50%       0.00000   14.458300  \n75%       0.00000   31.275000  \nmax       9.00000  512.329200  ",
      "text/html": "<div>\n<style scoped>\n    .dataframe tbody tr th:only-of-type {\n        vertical-align: middle;\n    }\n\n    .dataframe tbody tr th {\n        vertical-align: top;\n    }\n\n    .dataframe thead th {\n        text-align: right;\n    }\n</style>\n<table border=\"1\" class=\"dataframe\">\n  <thead>\n    <tr style=\"text-align: right;\">\n      <th></th>\n      <th>ID</th>\n      <th>survived</th>\n      <th>pclass</th>\n      <th>age</th>\n      <th>sibsp</th>\n      <th>parch</th>\n      <th>fare</th>\n    </tr>\n  </thead>\n  <tbody>\n    <tr>\n      <th>count</th>\n      <td>1000.000000</td>\n      <td>1000.00000</td>\n      <td>1000.000000</td>\n      <td>802.000000</td>\n      <td>1000.000000</td>\n      <td>1000.00000</td>\n      <td>999.000000</td>\n    </tr>\n    <tr>\n      <th>mean</th>\n      <td>499.500000</td>\n      <td>0.39800</td>\n      <td>2.288000</td>\n      <td>29.850686</td>\n      <td>0.496000</td>\n      <td>0.40200</td>\n      <td>34.264352</td>\n    </tr>\n    <tr>\n      <th>std</th>\n      <td>288.819436</td>\n      <td>0.48973</td>\n      <td>0.840096</td>\n      <td>14.328743</td>\n      <td>1.024223</td>\n      <td>0.91719</td>\n      <td>53.315077</td>\n    </tr>\n    <tr>\n      <th>min</th>\n      <td>0.000000</td>\n      <td>0.00000</td>\n      <td>1.000000</td>\n      <td>0.166700</td>\n      <td>0.000000</td>\n      <td>0.00000</td>\n      <td>0.000000</td>\n    </tr>\n    <tr>\n      <th>25%</th>\n      <td>249.750000</td>\n      <td>0.00000</td>\n      <td>1.750000</td>\n      <td>21.000000</td>\n      <td>0.000000</td>\n      <td>0.00000</td>\n      <td>7.925000</td>\n    </tr>\n    <tr>\n      <th>50%</th>\n      <td>499.500000</td>\n      <td>0.00000</td>\n      <td>3.000000</td>\n      <td>28.000000</td>\n      <td>0.000000</td>\n      <td>0.00000</td>\n      <td>14.458300</td>\n    </tr>\n    <tr>\n      <th>75%</th>\n      <td>749.250000</td>\n      <td>1.00000</td>\n      <td>3.000000</td>\n      <td>39.000000</td>\n      <td>1.000000</td>\n      <td>0.00000</td>\n      <td>31.275000</td>\n    </tr>\n    <tr>\n      <th>max</th>\n      <td>999.000000</td>\n      <td>1.00000</td>\n      <td>3.000000</td>\n      <td>80.000000</td>\n      <td>8.000000</td>\n      <td>9.00000</td>\n      <td>512.329200</td>\n    </tr>\n  </tbody>\n</table>\n</div>"
     },
     "execution_count": 4,
     "metadata": {},
     "output_type": "execute_result"
    }
   ],
   "source": [
    "data_set.describe()"
   ]
  },
  {
   "cell_type": "markdown",
   "id": "4a22ee82-3d1c-430f-aec8-70ff59810758",
   "metadata": {},
   "source": [
    "**Podivam se, jak jsou data reprezentovane, jejich cetnost a rozsah**"
   ]
  },
  {
   "cell_type": "code",
   "execution_count": 5,
   "id": "1c0c711d-97fb-48c4-9310-7858ddf4d368",
   "metadata": {
    "ExecuteTime": {
     "end_time": "2023-11-25T16:34:52.622311800Z",
     "start_time": "2023-11-25T16:34:52.597552200Z"
    }
   },
   "outputs": [
    {
     "data": {
      "text/plain": "ID             int64\nsurvived       int64\npclass         int64\nname          object\nsex           object\nage          float64\nsibsp          int64\nparch          int64\nticket        object\nfare         float64\ncabin         object\nembarked      object\nhome.dest     object\ndtype: object"
     },
     "metadata": {},
     "output_type": "display_data"
    },
    {
     "data": {
      "text/plain": "ID           1000\nsurvived        2\npclass          3\nname          999\nsex             2\nage            95\nsibsp           7\nparch           8\nticket        746\nfare          254\ncabin         157\nembarked        3\nhome.dest     313\ndtype: int64"
     },
     "metadata": {},
     "output_type": "display_data"
    }
   ],
   "source": [
    "#Zobrazime si datove typy priznaku\n",
    "display(data_set.dtypes)\n",
    "\n",
    "#Zobrazime si kolik unikatnich hodnot najdeme v jednotlivych priznaku\n",
    "display(data_set.nunique())\n"
   ]
  },
  {
   "cell_type": "markdown",
   "id": "947e0ea4-b368-42c8-ad8b-fa2fd3f69b7e",
   "metadata": {},
   "source": [
    "Vidime, ze nektere priznaky jsou reprezentovany ciselne a nektere ne, to bude nasim ukolem vyresit. Dale se budeme muset zamerit na priznaky, u kterych nam hodnoty chybi, postup jak to budeme delat si uvedeme v nasledujicich casti kodu."
   ]
  },
  {
   "cell_type": "markdown",
   "id": "e6b279d0-a3ba-4e7d-ab49-76fc7bb9d845",
   "metadata": {},
   "source": [
    "**Pro lepsi prehlednost v nasledujici praci si zobrazime vsechny priznaky, ktere jsou typu object a jejich pocet hodnot**"
   ]
  },
  {
   "cell_type": "code",
   "execution_count": 6,
   "id": "b0bb17f3-4db9-471f-9ac3-aa9865a6e339",
   "metadata": {
    "ExecuteTime": {
     "end_time": "2023-11-25T16:34:55.889109900Z",
     "start_time": "2023-11-25T16:34:55.855049800Z"
    }
   },
   "outputs": [
    {
     "name": "stdout",
     "output_type": "stream",
     "text": [
      "Index(['name', 'sex', 'ticket', 'cabin', 'embarked', 'home.dest'], dtype='object')\n"
     ]
    },
    {
     "data": {
      "text/plain": "name         999\nsex            2\nticket       746\ncabin        157\nembarked       3\nhome.dest    313\ndtype: int64"
     },
     "execution_count": 6,
     "metadata": {},
     "output_type": "execute_result"
    }
   ],
   "source": [
    "string_cols = data_set.select_dtypes(['object']).columns\n",
    "print(string_cols)\n",
    "data_set[string_cols].nunique()"
   ]
  },
  {
   "cell_type": "markdown",
   "id": "e382acf6-1dc1-4e63-94d6-6dc6307193d5",
   "metadata": {},
   "source": [
    "**Zobrazime si nektere grafy, abychom lepe pochopili vztahy mezi daty.**"
   ]
  },
  {
   "cell_type": "markdown",
   "id": "962a2e51-31eb-4743-9723-16fb6e71a5ec",
   "metadata": {},
   "source": [
    "Vidime, ze pocet zemrelych je velmi vyssi nez pocet prezivsich.\n"
   ]
  },
  {
   "cell_type": "code",
   "execution_count": 7,
   "id": "81e34b18-8602-4188-9ccc-fb4eb505d045",
   "metadata": {
    "ExecuteTime": {
     "end_time": "2023-11-25T16:34:59.286116400Z",
     "start_time": "2023-11-25T16:34:59.146587600Z"
    }
   },
   "outputs": [
    {
     "name": "stdout",
     "output_type": "stream",
     "text": [
      "survived    0    1\n",
      "sex               \n",
      "female    102  270\n",
      "male      500  128\n"
     ]
    },
    {
     "data": {
      "text/plain": "<Figure size 640x480 with 1 Axes>",
      "image/png": "[encoded data removed]"
     },
     "metadata": {},
     "output_type": "display_data"
    }
   ],
   "source": [
    "counts = data_set.groupby(['sex', 'survived']).size().unstack()\n",
    "sns.countplot(x='survived',data=data_set)\n",
    "print(counts)"
   ]
  },
  {
   "cell_type": "markdown",
   "id": "d1fc07ac-b557-4365-afc8-7fcbfff5325a",
   "metadata": {},
   "source": [
    "Zrejme zeny maji mnohem vetsi sanci na preziti nez muzi."
   ]
  },
  {
   "cell_type": "code",
   "execution_count": 8,
   "id": "c079af0b-bb78-467d-846d-523658f81c52",
   "metadata": {
    "ExecuteTime": {
     "end_time": "2023-11-25T16:35:01.657239100Z",
     "start_time": "2023-11-25T16:35:01.483783600Z"
    }
   },
   "outputs": [
    {
     "name": "stdout",
     "output_type": "stream",
     "text": [
      "survived    0    1\n",
      "pclass            \n",
      "1          89  161\n",
      "2         117   95\n",
      "3         396  142\n"
     ]
    },
    {
     "data": {
      "text/plain": "<Figure size 640x480 with 1 Axes>",
      "image/png": "[encoded data removed]"
     },
     "metadata": {},
     "output_type": "display_data"
    }
   ],
   "source": [
    "counts = data_set.groupby(['pclass', 'survived']).size().unstack()\n",
    "sns.barplot(x='pclass', y = 'survived', data = data_set)\n",
    "print(counts)"
   ]
  },
  {
   "cell_type": "markdown",
   "id": "3b1e086f-3488-4bee-b41e-5e30b9df0682",
   "metadata": {},
   "source": [
    "Pasazeri v prvni tride meli nejvetsi sanci prezit. Ve druhe tride trend pomalu pada a je o neco mensi sance,ze neprezijete. Ve treti tride uz je zrejme, ze sance na preziti je mnohem mensi. Coz je velmi zajimave, ale na druhou stranu jeste nic moc nerikajici, jak ostatni priznaky toto muzou ovlivnit, vytvorime si dalsi graf, kde si toto prohledneme vice do hloubky a vyvodit lepsi zavery."
   ]
  },
  {
   "cell_type": "code",
   "execution_count": 9,
   "id": "a8f7f839-e589-4602-a4df-454e2c405ac5",
   "metadata": {
    "ExecuteTime": {
     "end_time": "2023-11-25T16:35:04.910966700Z",
     "start_time": "2023-11-25T16:35:03.370874Z"
    }
   },
   "outputs": [
    {
     "name": "stderr",
     "output_type": "stream",
     "text": [
      "C:\\Users\\altho\\anaconda3\\Lib\\site-packages\\seaborn\\axisgrid.py:118: UserWarning: The figure layout has changed to tight\n",
      "  self._figure.tight_layout(*args, **kwargs)\n"
     ]
    },
    {
     "data": {
      "text/plain": "<seaborn.axisgrid.FacetGrid at 0x183a0b20290>"
     },
     "execution_count": 9,
     "metadata": {},
     "output_type": "execute_result"
    },
    {
     "data": {
      "text/plain": "<Figure size 611.111x900 with 6 Axes>",
      "image/png": "[encoded data removed]"
     },
     "metadata": {},
     "output_type": "display_data"
    }
   ],
   "source": [
    "grid = sns.FacetGrid(data_set, col = 'survived', row = 'pclass')\n",
    "grid.map(plt.hist,'age')\n",
    "grid.add_legend()"
   ]
  },
  {
   "cell_type": "markdown",
   "id": "3cb33253-a7d0-403c-ba88-5465ada7c489",
   "metadata": {},
   "source": [
    "Podivejme se jeste na priznak 'fare'."
   ]
  },
  {
   "cell_type": "code",
   "execution_count": 10,
   "id": "4e22df71-6527-4ebf-b63b-3e1c3c350bb6",
   "metadata": {
    "ExecuteTime": {
     "end_time": "2023-11-25T16:35:09.546440300Z",
     "start_time": "2023-11-25T16:35:09.105052600Z"
    }
   },
   "outputs": [
    {
     "name": "stderr",
     "output_type": "stream",
     "text": [
      "C:\\Users\\altho\\anaconda3\\Lib\\site-packages\\seaborn\\axisgrid.py:118: UserWarning: The figure layout has changed to tight\n",
      "  self._figure.tight_layout(*args, **kwargs)\n"
     ]
    },
    {
     "data": {
      "text/plain": "<seaborn.axisgrid.FacetGrid at 0x183a0ec16d0>"
     },
     "execution_count": 10,
     "metadata": {},
     "output_type": "execute_result"
    },
    {
     "data": {
      "text/plain": "<Figure size 500x500 with 1 Axes>",
      "image/png": "[encoded data removed]"
     },
     "metadata": {},
     "output_type": "display_data"
    }
   ],
   "source": [
    "sns.displot(data_set.fare, kde=False)"
   ]
  },
  {
   "cell_type": "markdown",
   "id": "6ebaa4da-feae-4470-8821-9215965e99cb",
   "metadata": {},
   "source": [
    "Zde vidime, ze naprosta vetsina pasazeru zaplatila mene jako 100 za listek."
   ]
  },
  {
   "cell_type": "markdown",
   "id": "a318af1d-b5fb-4c34-a488-ca71232a71f6",
   "metadata": {},
   "source": [
    "Prvni co vidime je, ze zde nektere priznaky jsou nominalni s velkym poctem hodnot ('name','ticket').\n",
    "Proto si je mohu dovolit \"dropnout\", tim se nam nebude zatezovat vypocetni model a neprijdeme o dulezita data.\n",
    "Nakonec jsem se rozhodl home.dest \"dropovat\", protoze mame pres lehce 50% hodnot a nas model to bude jen zatezovat."
   ]
  },
  {
   "cell_type": "code",
   "execution_count": 11,
   "id": "e3365e41-0df0-4361-906f-fe7ebdd7bf38",
   "metadata": {
    "ExecuteTime": {
     "end_time": "2023-11-25T16:35:12.434447900Z",
     "start_time": "2023-11-25T16:35:12.424257400Z"
    }
   },
   "outputs": [],
   "source": [
    "data_set.drop('name',axis = 1,inplace = True)\n",
    "data_set.drop('ticket',axis = 1,inplace = True)\n",
    "data_set.drop('cabin',axis = 1,inplace = True)\n",
    "data_set.drop('home.dest',axis = 1,inplace = True)"
   ]
  },
  {
   "cell_type": "markdown",
   "id": "f085d0ba-8c84-4665-b3f7-787b67ba5d03",
   "metadata": {},
   "source": [
    "**Dale si zkontrolujeme,zda mame pro nejake priznaky chybejici hodnoty.** \n",
    "Jestli mame nejake chybejici hodnoty, budeme diskutovat jak tento problem vyresit."
   ]
  },
  {
   "cell_type": "code",
   "execution_count": 12,
   "id": "47e07905-f8e7-4beb-be30-403ea082e934",
   "metadata": {
    "ExecuteTime": {
     "end_time": "2023-11-25T16:35:14.878086900Z",
     "start_time": "2023-11-25T16:35:14.860194700Z"
    }
   },
   "outputs": [
    {
     "name": "stdout",
     "output_type": "stream",
     "text": [
      "<class 'pandas.core.frame.DataFrame'>\n",
      "RangeIndex: 1000 entries, 0 to 999\n",
      "Data columns (total 9 columns):\n",
      " #   Column    Non-Null Count  Dtype  \n",
      "---  ------    --------------  -----  \n",
      " 0   ID        1000 non-null   int64  \n",
      " 1   survived  1000 non-null   int64  \n",
      " 2   pclass    1000 non-null   int64  \n",
      " 3   sex       1000 non-null   object \n",
      " 4   age       802 non-null    float64\n",
      " 5   sibsp     1000 non-null   int64  \n",
      " 6   parch     1000 non-null   int64  \n",
      " 7   fare      999 non-null    float64\n",
      " 8   embarked  998 non-null    object \n",
      "dtypes: float64(2), int64(5), object(2)\n",
      "memory usage: 70.4+ KB\n"
     ]
    }
   ],
   "source": [
    "data_set.info()"
   ]
  },
  {
   "cell_type": "markdown",
   "id": "5308a03f-de36-4f73-b41c-32c2af0e33ac",
   "metadata": {},
   "source": [
    "Nejprve vyresime chybejici hodnoty u priznaku 'age'. Nakonec jsem zvolil doplnit chybejici hodnoty medianem.\n",
    "Na \"stack overflow\" jsem si nasel jak se dela median z vice priznaku. Rozhodl jsem se pouzit tuto metodu, protoze nam chybich \n",
    "mnoho hodnot a timto vyplnim hodnot co nejduverneji"
   ]
  },
  {
   "cell_type": "code",
   "execution_count": 13,
   "id": "03ad0a8a-fea9-44f9-9e05-6c1b99c6688e",
   "metadata": {
    "ExecuteTime": {
     "end_time": "2023-11-25T16:35:16.632975400Z",
     "start_time": "2023-11-25T16:35:16.622458300Z"
    }
   },
   "outputs": [],
   "source": [
    "median_age_by_category = data_set.groupby(['survived','sex','fare','embarked', 'pclass'])['age'].transform('median')\n",
    "data_set['age'].fillna(median_age_by_category, inplace=True)\n"
   ]
  },
  {
   "cell_type": "markdown",
   "id": "04fc09bc-01b3-4417-a1b5-352a81a6677c",
   "metadata": {},
   "source": [
    "U priznaku 'fare' kde mame 1 chybejici hodnotu muzeme dodelat pomoci prumeru. Nakonec prevedu na datovy typ \"int64\""
   ]
  },
  {
   "cell_type": "code",
   "execution_count": 14,
   "id": "206aa1b4-6c3c-47e0-8a1a-f38ec986cc26",
   "metadata": {
    "ExecuteTime": {
     "end_time": "2023-11-25T16:35:18.602804700Z",
     "start_time": "2023-11-25T16:35:18.584067Z"
    }
   },
   "outputs": [
    {
     "name": "stdout",
     "output_type": "stream",
     "text": [
      "<class 'pandas.core.frame.DataFrame'>\n",
      "RangeIndex: 1000 entries, 0 to 999\n",
      "Data columns (total 9 columns):\n",
      " #   Column    Non-Null Count  Dtype \n",
      "---  ------    --------------  ----- \n",
      " 0   ID        1000 non-null   int64 \n",
      " 1   survived  1000 non-null   int64 \n",
      " 2   pclass    1000 non-null   int64 \n",
      " 3   sex       1000 non-null   object\n",
      " 4   age       1000 non-null   int32 \n",
      " 5   sibsp     1000 non-null   int64 \n",
      " 6   parch     1000 non-null   int64 \n",
      " 7   fare      1000 non-null   int32 \n",
      " 8   embarked  1000 non-null   object\n",
      "dtypes: int32(2), int64(5), object(2)\n",
      "memory usage: 62.6+ KB\n"
     ]
    }
   ],
   "source": [
    "get_avg = data_set['fare'].mean()\n",
    "data_set.fillna(get_avg,inplace = True)\n",
    "data_set['fare'] = data_set['fare'].astype(int)\n",
    "data_set['age'] = data_set['age'].astype(int)\n",
    "data_set.info()"
   ]
  },
  {
   "cell_type": "markdown",
   "id": "00c9b1b4-94ec-47ce-8bfc-f267324b72a2",
   "metadata": {},
   "source": [
    "Ted nam chybi doresit priznaky 'embarked'. Jsou typu 'object' a u obou nemame vsechny hodnoty.\n"
   ]
  },
  {
   "cell_type": "markdown",
   "id": "9def8466-5c70-41a8-8442-8d4031b2d996",
   "metadata": {},
   "source": [
    "Kdyz mame data doplnena, tak se musime postarat o transformaci priznaku, \n",
    "ktere nejsou ciselneho typu, protoze jinak by jsme je dale nemohli pouzivat.\n"
   ]
  },
  {
   "cell_type": "markdown",
   "id": "79587348-4bdd-43fa-b7ea-4fffacab871b",
   "metadata": {},
   "source": [
    "Jak transformujeme priznak 'sex', ktery ma pouze 2 ruzne hodnoty. Prevedeme hodnoty na binarni pomoci get_dummies, tedy female x male jako 0 1.\n",
    "Vetsina algoritmu toto dokaze samo pro priklady jako Ano/Ne Male/Female Go/Stop. Tudiz transformaci resit nemusim."
   ]
  },
  {
   "cell_type": "markdown",
   "id": "25ad29b4-31ca-4803-91c5-c889f4d6d7dd",
   "metadata": {},
   "source": [
    "Priznak 'embarked' jsem puvodne zamyslel jako nominalni, ale vlastne misto nalodeni muze hrat roli treba v dostupnosti kabin, ktere maji odlisny vysledek pri preziti. (Nastoupim pozdeji -> mene mista v lepsich kabinach -> lepsi kabiny = vetsi sance na preziti, takze by mohlo zalezet na poradi nastupu. Jak toto vyresit ? Inspiroval jsem se odstupnovanim kvality ve druhem cviceni a pomoci starsich  rad na stack overflow.  \n",
    "Vytvoril jsem hodnoty podle poradi nastupu, nasel jsem si mapu trasy titanicu."
   ]
  },
  {
   "cell_type": "code",
   "execution_count": 15,
   "id": "cd467d5e-01a2-4ffe-b9f7-46fa472dae4e",
   "metadata": {
    "ExecuteTime": {
     "end_time": "2023-11-25T16:35:24.560848300Z",
     "start_time": "2023-11-25T16:35:24.553542700Z"
    }
   },
   "outputs": [],
   "source": [
    "embarked_category = pd.api.types.CategoricalDtype(categories=['S', 'C', 'Q'], ordered=True)"
   ]
  },
  {
   "cell_type": "markdown",
   "id": "e2684ead-44b0-4844-b297-638e6e152890",
   "metadata": {},
   "source": [
    "Nastavim pro 'embarked' jako typ embarked_category."
   ]
  },
  {
   "cell_type": "code",
   "execution_count": 16,
   "id": "fa26f40d-7dd9-4ab9-9720-184e549ce7ba",
   "metadata": {
    "ExecuteTime": {
     "end_time": "2023-11-25T16:35:27.441797100Z",
     "start_time": "2023-11-25T16:35:27.425201100Z"
    }
   },
   "outputs": [
    {
     "name": "stdout",
     "output_type": "stream",
     "text": [
      "<class 'pandas.core.frame.DataFrame'>\n",
      "RangeIndex: 1000 entries, 0 to 999\n",
      "Data columns (total 9 columns):\n",
      " #   Column    Non-Null Count  Dtype   \n",
      "---  ------    --------------  -----   \n",
      " 0   ID        1000 non-null   int64   \n",
      " 1   survived  1000 non-null   int64   \n",
      " 2   pclass    1000 non-null   int64   \n",
      " 3   sex       1000 non-null   object  \n",
      " 4   age       1000 non-null   int32   \n",
      " 5   sibsp     1000 non-null   int64   \n",
      " 6   parch     1000 non-null   int64   \n",
      " 7   fare      1000 non-null   int32   \n",
      " 8   embarked  998 non-null    category\n",
      "dtypes: category(1), int32(2), int64(5), object(1)\n",
      "memory usage: 55.9+ KB\n"
     ]
    }
   ],
   "source": [
    "data_set.embarked = data_set.embarked.astype(embarked_category)\n",
    "data_set.info()"
   ]
  },
  {
   "cell_type": "markdown",
   "id": "c6725429-1d23-45ce-acea-7a43ac0c4e40",
   "metadata": {},
   "source": [
    "Pote nam chybi doplnit hodnoty pro priznak 'embarked', to snaze doplnim nejvice zastoupenou hodnotou, muzu si to dovolit, protoze pocet chybejicich hodnot neni tak velky a na vysledek to bude mit minimalni vliv."
   ]
  },
  {
   "cell_type": "code",
   "execution_count": 17,
   "id": "c41e1e14-79c0-4f26-bb0b-0f0290c3dfc2",
   "metadata": {
    "ExecuteTime": {
     "end_time": "2023-11-25T16:35:30.032793500Z",
     "start_time": "2023-11-25T16:35:30.023282400Z"
    }
   },
   "outputs": [
    {
     "name": "stdout",
     "output_type": "stream",
     "text": [
      "<class 'pandas.core.frame.DataFrame'>\n",
      "RangeIndex: 1000 entries, 0 to 999\n",
      "Data columns (total 9 columns):\n",
      " #   Column    Non-Null Count  Dtype   \n",
      "---  ------    --------------  -----   \n",
      " 0   ID        1000 non-null   int64   \n",
      " 1   survived  1000 non-null   int64   \n",
      " 2   pclass    1000 non-null   int64   \n",
      " 3   sex       1000 non-null   object  \n",
      " 4   age       1000 non-null   int32   \n",
      " 5   sibsp     1000 non-null   int64   \n",
      " 6   parch     1000 non-null   int64   \n",
      " 7   fare      1000 non-null   int32   \n",
      " 8   embarked  1000 non-null   category\n",
      "dtypes: category(1), int32(2), int64(5), object(1)\n",
      "memory usage: 55.9+ KB\n"
     ]
    }
   ],
   "source": [
    "most_appearence = data_set['embarked'].mode().values[0]\n",
    "data_set['embarked'].fillna(most_appearence, inplace=True)\n",
    "data_set.info()"
   ]
  },
  {
   "cell_type": "markdown",
   "id": "72b5eb55-a17c-4149-be84-d960945dbeff",
   "metadata": {},
   "source": [
    "Ted prevedu jeste neciselne priznaky na cislene a mame pripravene data."
   ]
  },
  {
   "cell_type": "code",
   "execution_count": 18,
   "id": "45927100-a76e-4f2f-b609-b3274c64c500",
   "metadata": {
    "ExecuteTime": {
     "end_time": "2023-11-25T16:35:32.254021500Z",
     "start_time": "2023-11-25T16:35:32.245509300Z"
    }
   },
   "outputs": [],
   "source": [
    "for col in data_set.select_dtypes('category').columns:\n",
    "    data_set[col] = data_set[col].cat.codes"
   ]
  },
  {
   "cell_type": "code",
   "execution_count": 19,
   "id": "4c56eb6d-6c4b-412c-bc8a-6502a1cbabaf",
   "metadata": {
    "ExecuteTime": {
     "end_time": "2023-11-25T16:35:33.191489Z",
     "start_time": "2023-11-25T16:35:33.181084400Z"
    }
   },
   "outputs": [],
   "source": [
    "data_set = pd.get_dummies(data_set)"
   ]
  },
  {
   "cell_type": "markdown",
   "id": "f77004c5-92df-4ef0-8f2f-d6ba724e0777",
   "metadata": {},
   "source": [
    "Pro priznak 'home.dest' toto delat nebudu, hodnot ruznych je 313 +1 o kterou jsem doplnil chybejici hodnotou 'missing'.Jednoduse je prevedu na ciselnou hodnotu."
   ]
  },
  {
   "cell_type": "code",
   "execution_count": 20,
   "id": "9f9cde6b-aaa1-4317-a58b-9c4d4fd0432e",
   "metadata": {
    "ExecuteTime": {
     "end_time": "2023-11-25T16:35:34.716556700Z",
     "start_time": "2023-11-25T16:35:34.694096900Z"
    }
   },
   "outputs": [
    {
     "name": "stdout",
     "output_type": "stream",
     "text": [
      "<class 'pandas.core.frame.DataFrame'>\n",
      "RangeIndex: 1000 entries, 0 to 999\n",
      "Data columns (total 10 columns):\n",
      " #   Column      Non-Null Count  Dtype\n",
      "---  ------      --------------  -----\n",
      " 0   ID          1000 non-null   int64\n",
      " 1   survived    1000 non-null   int64\n",
      " 2   pclass      1000 non-null   int64\n",
      " 3   age         1000 non-null   int32\n",
      " 4   sibsp       1000 non-null   int64\n",
      " 5   parch       1000 non-null   int64\n",
      " 6   fare        1000 non-null   int32\n",
      " 7   embarked    1000 non-null   int8 \n",
      " 8   sex_female  1000 non-null   bool \n",
      " 9   sex_male    1000 non-null   bool \n",
      "dtypes: bool(2), int32(2), int64(5), int8(1)\n",
      "memory usage: 49.9 KB\n"
     ]
    },
    {
     "data": {
      "text/plain": "   ID  survived  pclass  age  sibsp  parch  fare  embarked  sex_female  \\\n0   0         0       3   11      5      2    46         0       False   \n1   1         0       3   25      0      0     7         0       False   \n2   2         0       3    4      3      2    27         0       False   \n3   3         1       3   34      1      0    15         2        True   \n4   4         1       3   18      0      0     7         1        True   \n\n   sex_male  \n0      True  \n1      True  \n2      True  \n3     False  \n4     False  ",
      "text/html": "<div>\n<style scoped>\n    .dataframe tbody tr th:only-of-type {\n        vertical-align: middle;\n    }\n\n    .dataframe tbody tr th {\n        vertical-align: top;\n    }\n\n    .dataframe thead th {\n        text-align: right;\n    }\n</style>\n<table border=\"1\" class=\"dataframe\">\n  <thead>\n    <tr style=\"text-align: right;\">\n      <th></th>\n      <th>ID</th>\n      <th>survived</th>\n      <th>pclass</th>\n      <th>age</th>\n      <th>sibsp</th>\n      <th>parch</th>\n      <th>fare</th>\n      <th>embarked</th>\n      <th>sex_female</th>\n      <th>sex_male</th>\n    </tr>\n  </thead>\n  <tbody>\n    <tr>\n      <th>0</th>\n      <td>0</td>\n      <td>0</td>\n      <td>3</td>\n      <td>11</td>\n      <td>5</td>\n      <td>2</td>\n      <td>46</td>\n      <td>0</td>\n      <td>False</td>\n      <td>True</td>\n    </tr>\n    <tr>\n      <th>1</th>\n      <td>1</td>\n      <td>0</td>\n      <td>3</td>\n      <td>25</td>\n      <td>0</td>\n      <td>0</td>\n      <td>7</td>\n      <td>0</td>\n      <td>False</td>\n      <td>True</td>\n    </tr>\n    <tr>\n      <th>2</th>\n      <td>2</td>\n      <td>0</td>\n      <td>3</td>\n      <td>4</td>\n      <td>3</td>\n      <td>2</td>\n      <td>27</td>\n      <td>0</td>\n      <td>False</td>\n      <td>True</td>\n    </tr>\n    <tr>\n      <th>3</th>\n      <td>3</td>\n      <td>1</td>\n      <td>3</td>\n      <td>34</td>\n      <td>1</td>\n      <td>0</td>\n      <td>15</td>\n      <td>2</td>\n      <td>True</td>\n      <td>False</td>\n    </tr>\n    <tr>\n      <th>4</th>\n      <td>4</td>\n      <td>1</td>\n      <td>3</td>\n      <td>18</td>\n      <td>0</td>\n      <td>0</td>\n      <td>7</td>\n      <td>1</td>\n      <td>True</td>\n      <td>False</td>\n    </tr>\n  </tbody>\n</table>\n</div>"
     },
     "execution_count": 20,
     "metadata": {},
     "output_type": "execute_result"
    }
   ],
   "source": [
    "data_set.info()\n",
    "data_set.head()"
   ]
  },
  {
   "cell_type": "markdown",
   "id": "e8eadec8-e0fa-484a-829d-c8abfebb526b",
   "metadata": {},
   "source": [
    "## Rozdeleni dat na trenovaci, testovaci a validacni"
   ]
  },
  {
   "cell_type": "markdown",
   "id": "af1e2bbd-e0df-41b5-951c-9411d555daba",
   "metadata": {},
   "source": [
    "Rozdelim si data na cilovou promennou co budu predikovat a na zbytek priznaku, ze kterych budu cilovou predikovat.\n"
   ]
  },
  {
   "cell_type": "code",
   "execution_count": 21,
   "id": "2ab4326f-e0d0-4b4a-9fae-922d26f9a716",
   "metadata": {
    "ExecuteTime": {
     "end_time": "2023-11-25T16:35:37.798803600Z",
     "start_time": "2023-11-25T16:35:37.788983800Z"
    }
   },
   "outputs": [],
   "source": [
    "Xdata = data_set.drop(\"survived\", axis = 1)\n",
    "Ydata = data_set.survived"
   ]
  },
  {
   "cell_type": "markdown",
   "id": "a06db193-f0ec-4f6b-8cee-9f620a9fe5e3",
   "metadata": {},
   "source": [
    "Dale si musime naimportovat knihovnu sklearn k rozdeleni dat a pevne si zvolime seed, je dulizte drzet seed konstanti i kdyz jsou data rozdelovana nahodne."
   ]
  },
  {
   "cell_type": "code",
   "execution_count": 22,
   "id": "f37c2ef0-8c6c-4535-ad6b-1d715ffefeaa",
   "metadata": {
    "ExecuteTime": {
     "end_time": "2023-11-25T16:35:39.286163800Z",
     "start_time": "2023-11-25T16:35:39.279147700Z"
    }
   },
   "outputs": [],
   "source": [
    "from sklearn.model_selection import train_test_split\n",
    "random_seed = 77"
   ]
  },
  {
   "cell_type": "markdown",
   "id": "9eae1210-0b62-4547-a20d-645de7b23032",
   "metadata": {},
   "source": [
    "Hodnota random_seed je vicemene jedno, ale musi zustat stejna pro stejne rozdeleni dat na opakovane rozdeleni dat.\n",
    "Tudiz si volim hodnotu tak, aby jsme si ji dobre zapamatovali."
   ]
  },
  {
   "cell_type": "markdown",
   "id": "ec982578-e81c-4f4d-8d85-ab5de2303f34",
   "metadata": {},
   "source": [
    "Pri rozdeleni dat (velikost podmnozin dat) jsem volil podle cviceni c.2. Nebyl jsem si zcela jist, jake rozdeleni mi prinese jake vysledky, samozrejme pozdeji vyzkousim vice zpusobu rozdeleni a uvidim optimanlni vysledek."
   ]
  },
  {
   "cell_type": "code",
   "execution_count": 23,
   "id": "d127946b-c094-4545-8c44-d6c929670b9a",
   "metadata": {
    "ExecuteTime": {
     "end_time": "2023-11-25T16:35:41.895685900Z",
     "start_time": "2023-11-25T16:35:41.887078300Z"
    }
   },
   "outputs": [],
   "source": [
    "Xtrain, Xtest, ytrain, ytest = train_test_split(Xdata, Ydata, test_size=0.2, random_state=random_seed) \n",
    "\n",
    "Xval, Xtest, yval, ytest = train_test_split(Xtest, ytest, test_size=0.5, random_state=random_seed) "
   ]
  },
  {
   "cell_type": "markdown",
   "id": "6326f79d-317a-4207-98af-28a16c71f78d",
   "metadata": {},
   "source": [
    "## Rozhodovaci strom "
   ]
  },
  {
   "cell_type": "markdown",
   "id": "bda08376-3fdc-453b-9264-2c3a87c82bf6",
   "metadata": {},
   "source": [
    "Misto vlastni implementace stromu pouziji implementovany strom v knihovne sklearn balicek tree"
   ]
  },
  {
   "cell_type": "code",
   "execution_count": 24,
   "id": "33d46cbf-c9fa-4c32-afbd-db8060a535e0",
   "metadata": {
    "ExecuteTime": {
     "end_time": "2023-11-25T16:35:44.321666800Z",
     "start_time": "2023-11-25T16:35:44.315213300Z"
    }
   },
   "outputs": [],
   "source": [
    "from sklearn.tree import DecisionTreeClassifier\n",
    "from sklearn.metrics import mean_squared_error"
   ]
  },
  {
   "cell_type": "raw",
   "id": "c8f5887b-a27a-4684-bd39-185bcfe3a9b4",
   "metadata": {},
   "source": [
    "Nejprve si zkontroluji, ze importovani probehlo v poradku a zkusim si natrenovat jednoduse strom."
   ]
  },
  {
   "cell_type": "code",
   "execution_count": 25,
   "id": "b623e3f7-9864-4754-912b-8c233ce615cf",
   "metadata": {
    "ExecuteTime": {
     "end_time": "2023-11-25T16:35:45.974057Z",
     "start_time": "2023-11-25T16:35:45.957893400Z"
    }
   },
   "outputs": [
    {
     "data": {
      "text/plain": "DecisionTreeClassifier(max_depth=100)",
      "text/html": "<style>#sk-container-id-1 {color: black;}#sk-container-id-1 pre{padding: 0;}#sk-container-id-1 div.sk-toggleable {background-color: white;}#sk-container-id-1 label.sk-toggleable__label {cursor: pointer;display: block;width: 100%;margin-bottom: 0;padding: 0.3em;box-sizing: border-box;text-align: center;}#sk-container-id-1 label.sk-toggleable__label-arrow:before {content: \"▸\";float: left;margin-right: 0.25em;color: #696969;}#sk-container-id-1 label.sk-toggleable__label-arrow:hover:before {color: black;}#sk-container-id-1 div.sk-estimator:hover label.sk-toggleable__label-arrow:before {color: black;}#sk-container-id-1 div.sk-toggleable__content {max-height: 0;max-width: 0;overflow: hidden;text-align: left;background-color: #f0f8ff;}#sk-container-id-1 div.sk-toggleable__content pre {margin: 0.2em;color: black;border-radius: 0.25em;background-color: #f0f8ff;}#sk-container-id-1 input.sk-toggleable__control:checked~div.sk-toggleable__content {max-height: 200px;max-width: 100%;overflow: auto;}#sk-container-id-1 input.sk-toggleable__control:checked~label.sk-toggleable__label-arrow:before {content: \"▾\";}#sk-container-id-1 div.sk-estimator input.sk-toggleable__control:checked~label.sk-toggleable__label {background-color: #d4ebff;}#sk-container-id-1 div.sk-label input.sk-toggleable__control:checked~label.sk-toggleable__label {background-color: #d4ebff;}#sk-container-id-1 input.sk-hidden--visually {border: 0;clip: rect(1px 1px 1px 1px);clip: rect(1px, 1px, 1px, 1px);height: 1px;margin: -1px;overflow: hidden;padding: 0;position: absolute;width: 1px;}#sk-container-id-1 div.sk-estimator {font-family: monospace;background-color: #f0f8ff;border: 1px dotted black;border-radius: 0.25em;box-sizing: border-box;margin-bottom: 0.5em;}#sk-container-id-1 div.sk-estimator:hover {background-color: #d4ebff;}#sk-container-id-1 div.sk-parallel-item::after {content: \"\";width: 100%;border-bottom: 1px solid gray;flex-grow: 1;}#sk-container-id-1 div.sk-label:hover label.sk-toggleable__label {background-color: #d4ebff;}#sk-container-id-1 div.sk-serial::before {content: \"\";position: absolute;border-left: 1px solid gray;box-sizing: border-box;top: 0;bottom: 0;left: 50%;z-index: 0;}#sk-container-id-1 div.sk-serial {display: flex;flex-direction: column;align-items: center;background-color: white;padding-right: 0.2em;padding-left: 0.2em;position: relative;}#sk-container-id-1 div.sk-item {position: relative;z-index: 1;}#sk-container-id-1 div.sk-parallel {display: flex;align-items: stretch;justify-content: center;background-color: white;position: relative;}#sk-container-id-1 div.sk-item::before, #sk-container-id-1 div.sk-parallel-item::before {content: \"\";position: absolute;border-left: 1px solid gray;box-sizing: border-box;top: 0;bottom: 0;left: 50%;z-index: -1;}#sk-container-id-1 div.sk-parallel-item {display: flex;flex-direction: column;z-index: 1;position: relative;background-color: white;}#sk-container-id-1 div.sk-parallel-item:first-child::after {align-self: flex-end;width: 50%;}#sk-container-id-1 div.sk-parallel-item:last-child::after {align-self: flex-start;width: 50%;}#sk-container-id-1 div.sk-parallel-item:only-child::after {width: 0;}#sk-container-id-1 div.sk-dashed-wrapped {border: 1px dashed gray;margin: 0 0.4em 0.5em 0.4em;box-sizing: border-box;padding-bottom: 0.4em;background-color: white;}#sk-container-id-1 div.sk-label label {font-family: monospace;font-weight: bold;display: inline-block;line-height: 1.2em;}#sk-container-id-1 div.sk-label-container {text-align: center;}#sk-container-id-1 div.sk-container {/* jupyter's `normalize.less` sets `[hidden] { display: none; }` but bootstrap.min.css set `[hidden] { display: none !important; }` so we also need the `!important` here to be able to override the default hidden behavior on the sphinx rendered scikit-learn.org. See: https://github.com/scikit-learn/scikit-learn/issues/21755 */display: inline-block !important;position: relative;}#sk-container-id-1 div.sk-text-repr-fallback {display: none;}</style><div id=\"sk-container-id-1\" class=\"sk-top-container\"><div class=\"sk-text-repr-fallback\"><pre>DecisionTreeClassifier(max_depth=100)</pre><b>In a Jupyter environment, please rerun this cell to show the HTML representation or trust the notebook. <br />On GitHub, the HTML representation is unable to render, please try loading this page with nbviewer.org.</b></div><div class=\"sk-container\" hidden><div class=\"sk-item\"><div class=\"sk-estimator sk-toggleable\"><input class=\"sk-toggleable__control sk-hidden--visually\" id=\"sk-estimator-id-1\" type=\"checkbox\" checked><label for=\"sk-estimator-id-1\" class=\"sk-toggleable__label sk-toggleable__label-arrow\">DecisionTreeClassifier</label><div class=\"sk-toggleable__content\"><pre>DecisionTreeClassifier(max_depth=100)</pre></div></div></div></div></div>"
     },
     "execution_count": 25,
     "metadata": {},
     "output_type": "execute_result"
    }
   ],
   "source": [
    "clf = DecisionTreeClassifier(max_depth = 100)\n",
    "clf.get_params()\n",
    "clf.fit(Xtrain, ytrain)"
   ]
  },
  {
   "cell_type": "markdown",
   "id": "b701da91-41df-489c-b371-c2a9df9315a8",
   "metadata": {},
   "source": [
    "Podivame se na vysledky. Samozrejme, ze neocekavame velky uspech hned na zacatku, ale mit zakladni prehled je vzdy vyhodou."
   ]
  },
  {
   "cell_type": "code",
   "execution_count": 26,
   "id": "2355fb43-3e41-4b65-afb4-7ef8ec6d999a",
   "metadata": {
    "ExecuteTime": {
     "end_time": "2023-11-25T16:35:48.310601100Z",
     "start_time": "2023-11-25T16:35:48.294308700Z"
    }
   },
   "outputs": [
    {
     "name": "stdout",
     "output_type": "stream",
     "text": [
      "accuracy score (train): 1.000\n",
      "accuracy score (test): 0.720\n"
     ]
    }
   ],
   "source": [
    "import sklearn.metrics as metrics\n",
    "print('accuracy score (train): {0:.3f}'.format(metrics.accuracy_score(ytrain, clf.predict(Xtrain))))\n",
    "print('accuracy score (test): {0:.3f}'.format(metrics.accuracy_score(ytest, clf.predict(Xtest))))"
   ]
  },
  {
   "cell_type": "markdown",
   "id": "f4df54c1-998b-472e-b504-25e6d3b9e2c7",
   "metadata": {},
   "source": [
    "Vidime, ze presnot na trenovacich datech je krasnych 100%. Bohuzel na testovacich uz tak neslavim, proto dale budeme ladit strom nez dojdeme k nejlepsimu vyslekdu."
   ]
  },
  {
   "cell_type": "markdown",
   "id": "b24f22cc-41f8-48b1-affe-5471e8f5f590",
   "metadata": {},
   "source": [
    "**Ladeni stromu s hyperparametry.**"
   ]
  },
  {
   "cell_type": "markdown",
   "id": "06d08da8-1ec4-4cfe-8647-3b65424d80a5",
   "metadata": {},
   "source": [
    "Zacneme s vyuzitim hyperparametru, vybral jsem si tyto parametry, protoze uz jsem je mohl vyzkouset drive na cviceni a jejich pouziti mi v tomto pripade pripada rozumne. Hodnoty parametru jsem nevedel jak nejlepe zvolit a zkousel jsem toho vice, nakonec pomoci stackoverflow a poctu pokuse jsem zvolil takto."
   ]
  },
  {
   "cell_type": "code",
   "execution_count": 27,
   "id": "cbf71e80-c328-4322-a7cb-56aa9ab41f57",
   "metadata": {
    "ExecuteTime": {
     "end_time": "2023-11-25T16:35:53.595150Z",
     "start_time": "2023-11-25T16:35:53.587133900Z"
    }
   },
   "outputs": [],
   "source": [
    "from sklearn.model_selection import ParameterGrid\n",
    "param_grid = {\n",
    "    'max_depth': range(1,10), \n",
    "    'min_samples_split': range (2,8),\n",
    "    'min_samples_leaf': range (1,4),\n",
    "    'criterion': ['entropy', 'gini']\n",
    "}"
   ]
  },
  {
   "cell_type": "code",
   "execution_count": 28,
   "id": "ef37044a-1c51-43c6-b2aa-aff425365685",
   "metadata": {
    "ExecuteTime": {
     "end_time": "2023-11-25T16:35:56.787970500Z",
     "start_time": "2023-11-25T16:35:55.028454Z"
    }
   },
   "outputs": [],
   "source": [
    "param_comb = ParameterGrid(param_grid)\n",
    "val_acc = []\n",
    "train_acc = []\n",
    "for params in param_comb:\n",
    "    clf = DecisionTreeClassifier(max_depth=params['max_depth'], min_samples_split = params['min_samples_split'],\n",
    "                                 min_samples_leaf = params['min_samples_leaf'],criterion=params['criterion'])\n",
    "    clf.fit(Xtrain, ytrain)\n",
    "    train_acc.append(metrics.accuracy_score(ytrain, clf.predict(Xtrain)))\n",
    "    val_acc.append(metrics.accuracy_score(yval, clf.predict(Xval)))"
   ]
  },
  {
   "cell_type": "code",
   "execution_count": 29,
   "id": "27f0ccc3-5b31-440f-89db-f422eeb4d82d",
   "metadata": {
    "ExecuteTime": {
     "end_time": "2023-11-25T16:35:58.222602700Z",
     "start_time": "2023-11-25T16:35:57.940055500Z"
    }
   },
   "outputs": [
    {
     "data": {
      "text/plain": "<matplotlib.legend.Legend at 0x183a090b510>"
     },
     "execution_count": 29,
     "metadata": {},
     "output_type": "execute_result"
    },
    {
     "data": {
      "text/plain": "<Figure size 2000x600 with 1 Axes>",
      "image/png": "[encoded data removed]"
     },
     "metadata": {},
     "output_type": "display_data"
    }
   ],
   "source": [
    "plt.figure(figsize=(20,6))\n",
    "plt.plot(train_acc,'or-')\n",
    "plt.plot(val_acc,'ob-')\n",
    "plt.xlabel('hyperparametr index')\n",
    "plt.ylabel('accuracy')\n",
    "plt.legend(['train', 'validation'])"
   ]
  },
  {
   "cell_type": "markdown",
   "id": "4d6d57ec-97dd-43c4-aa95-018b0022eabb",
   "metadata": {},
   "source": [
    "**TOTO JE NAS FINALNI MODEL, POZDEJI POUZIJEME PRO EVALUACI**"
   ]
  },
  {
   "cell_type": "code",
   "execution_count": 30,
   "id": "409f565a-8cc4-4049-972d-390fd5633b88",
   "metadata": {
    "ExecuteTime": {
     "end_time": "2023-11-25T16:36:00.974720700Z",
     "start_time": "2023-11-25T16:36:00.966483700Z"
    }
   },
   "outputs": [
    {
     "data": {
      "text/plain": "{'min_samples_split': 3,\n 'min_samples_leaf': 2,\n 'max_depth': 5,\n 'criterion': 'gini'}"
     },
     "execution_count": 30,
     "metadata": {},
     "output_type": "execute_result"
    }
   ],
   "source": [
    "best_params = param_comb[np.argmax(val_acc)]\n",
    "best_params"
   ]
  },
  {
   "cell_type": "markdown",
   "id": "ea2d62b7-a5fe-4b16-97c5-dcf44516f957",
   "metadata": {},
   "source": [
    "Z natrenovaneho modelu si ulozime nejlepsi kombinaci parametru a vyprnitime si vysledky.\n",
    "Ocekavame presnost okolo 80% pro pozdejsi predikci na nasich evaluation datech."
   ]
  },
  {
   "cell_type": "markdown",
   "id": "8aa9adb9-5f4c-46da-bd6f-683fd8b52e83",
   "metadata": {},
   "source": [
    "Jeste si model natrenujeme na nejlpsich parametrch."
   ]
  },
  {
   "cell_type": "code",
   "execution_count": 31,
   "id": "89b93a59-b77d-4235-a0e5-0a6da8ad5ed1",
   "metadata": {
    "ExecuteTime": {
     "end_time": "2023-11-25T16:36:05.248974700Z",
     "start_time": "2023-11-25T16:36:05.235083500Z"
    }
   },
   "outputs": [
    {
     "name": "stdout",
     "output_type": "stream",
     "text": [
      "accuracy score (train): 0.840000\n",
      "accuracy score (validation): 0.850000\n",
      "accuracy score (test): 0.770000\n"
     ]
    }
   ],
   "source": [
    "clf = DecisionTreeClassifier(**best_params) \n",
    "clf.fit(Xtrain, ytrain)\n",
    "print('accuracy score (train): {0:.6f}'.format(metrics.accuracy_score(ytrain, clf.predict(Xtrain))))\n",
    "print('accuracy score (validation): {0:.6f}'.format(metrics.accuracy_score(yval, clf.predict(Xval))))\n",
    "print('accuracy score (test): {0:.6f}'.format(metrics.accuracy_score(ytest, clf.predict(Xtest))))"
   ]
  },
  {
   "cell_type": "markdown",
   "id": "db564194-9a86-46e5-9eb1-8b05fe1430dd",
   "metadata": {},
   "source": [
    "Vysledek 78% predikce pro testovaci data, to zatim neni zadna slava, uvidime jak dopadne metdoa nejblizsich sousedu."
   ]
  },
  {
   "cell_type": "markdown",
   "id": "b110cac4-30a5-4396-8901-7df74725b186",
   "metadata": {},
   "source": [
    "**Po natrenovani rozhodovaciho stromu jeste udelame metodu nejblizsich sousedu**"
   ]
  },
  {
   "cell_type": "code",
   "execution_count": 32,
   "id": "39bfe436-a6bd-4dc3-9507-7fb677d294f1",
   "metadata": {
    "ExecuteTime": {
     "end_time": "2023-11-25T16:36:11.709699700Z",
     "start_time": "2023-11-25T16:36:11.702537100Z"
    }
   },
   "outputs": [],
   "source": [
    "from sklearn.neighbors import NearestNeighbors\n",
    "from sklearn.neighbors import KNeighborsClassifier\n",
    "from sklearn.metrics import accuracy_score\n"
   ]
  },
  {
   "cell_type": "markdown",
   "id": "c4e9a16c-2b26-4ca3-b629-ff8620c9e559",
   "metadata": {},
   "source": [
    "Provedeme normalizaci dat pro nas KNN model."
   ]
  },
  {
   "cell_type": "code",
   "execution_count": 33,
   "id": "6b9ec121-842a-40a3-8970-735e4257a774",
   "metadata": {
    "ExecuteTime": {
     "end_time": "2023-11-25T16:36:13.655156300Z",
     "start_time": "2023-11-25T16:36:13.639104800Z"
    }
   },
   "outputs": [
    {
     "name": "stdout",
     "output_type": "stream",
     "text": [
      "Validation accuracy of normalized model: 0.7500\n"
     ]
    }
   ],
   "source": [
    "from sklearn.preprocessing import StandardScaler\n",
    "from sklearn.model_selection import GridSearchCV\n",
    "\n",
    "scaler = StandardScaler()\n",
    "Xtrain_scaled = scaler.fit_transform(Xtrain)\n",
    "Xval_scaled = scaler.transform(Xval)\n",
    "Xtest_scaled = scaler.transform(Xtest)\n",
    "knn = KNeighborsClassifier()\n",
    "knn.fit(Xtrain_scaled, ytrain)\n",
    "print(f\"Validation accuracy of normalized model: {knn.score(Xval_scaled, yval):0.4f}\")"
   ]
  },
  {
   "cell_type": "code",
   "execution_count": 34,
   "id": "2f4f3c44-95f0-4b23-89a0-b31a2c06fa2c",
   "metadata": {
    "ExecuteTime": {
     "end_time": "2023-11-25T16:36:40.951528500Z",
     "start_time": "2023-11-25T16:36:15.264859900Z"
    }
   },
   "outputs": [
    {
     "name": "stdout",
     "output_type": "stream",
     "text": [
      "Best Parameters: {'algorithm': 'auto', 'metric': 'minkowski', 'n_jobs': None, 'n_neighbors': 15, 'p': 2, 'weights': 'distance'}\n",
      "Test Accuracy: 0.84\n",
      "Validation Accuracy: 0.81\n",
      "Training Accuracy: 1.0\n"
     ]
    }
   ],
   "source": [
    "final_scores = []\n",
    "val_acc = []\n",
    "train_acc = []\n",
    "param_grid = {'n_neighbors': range(3, 50),\n",
    "              'weights': [\"uniform\", \"distance\"],\n",
    "              'algorithm': ['auto', 'ball_tree', 'kd_tree', 'brute'],\n",
    "              'p': [2],\n",
    "              'metric' : ['minkowski'],\n",
    "              'n_jobs' : [None]\n",
    "             }\n",
    "knn = KNeighborsClassifier()\n",
    "\n",
    "grid_search = GridSearchCV(knn, param_grid, cv=5, scoring='accuracy')\n",
    "grid_search.fit(Xtrain_scaled, ytrain)\n",
    "\n",
    "best_params = grid_search.best_params_\n",
    "best_knn = KNeighborsClassifier(**best_params)\n",
    "best_knn.fit(Xtrain_scaled, ytrain)\n",
    "predictions = best_knn.predict(Xtest_scaled)\n",
    "\n",
    "acc_test = accuracy_score(ytest, predictions, normalize=True)\n",
    "acc_val = best_knn.score(Xval_scaled, yval)\n",
    "acc_train = best_knn.score(Xtrain_scaled, ytrain)\n",
    "\n",
    "print(\"Best Parameters:\", best_params)\n",
    "print(\"Test Accuracy:\", acc_test)\n",
    "print(\"Validation Accuracy:\", acc_val)\n",
    "print(\"Training Accuracy:\", acc_train)\n",
    "\n"
   ]
  },
  {
   "cell_type": "markdown",
   "id": "ae11a984-5f60-4254-b3c2-f3101c19b0f0",
   "metadata": {},
   "source": [
    "## Vyhodnoceni "
   ]
  },
  {
   "cell_type": "markdown",
   "id": "4a729f78-23ee-4341-973b-c677a9f9ccb5",
   "metadata": {},
   "source": [
    "Podivame jaky model nam vraci nejlepsi vysledky."
   ]
  },
  {
   "cell_type": "code",
   "execution_count": 35,
   "id": "738d22df-544a-43de-9cbf-db7e068b2b1c",
   "metadata": {
    "ExecuteTime": {
     "end_time": "2023-11-25T16:36:49.653854500Z",
     "start_time": "2023-11-25T16:36:49.644216300Z"
    }
   },
   "outputs": [
    {
     "data": {
      "text/plain": "           Model  Score\n0            KNN   0.84\n1  Decision_Tree   0.77",
      "text/html": "<div>\n<style scoped>\n    .dataframe tbody tr th:only-of-type {\n        vertical-align: middle;\n    }\n\n    .dataframe tbody tr th {\n        vertical-align: top;\n    }\n\n    .dataframe thead th {\n        text-align: right;\n    }\n</style>\n<table border=\"1\" class=\"dataframe\">\n  <thead>\n    <tr style=\"text-align: right;\">\n      <th></th>\n      <th>Model</th>\n      <th>Score</th>\n    </tr>\n  </thead>\n  <tbody>\n    <tr>\n      <th>0</th>\n      <td>KNN</td>\n      <td>0.84</td>\n    </tr>\n    <tr>\n      <th>1</th>\n      <td>Decision_Tree</td>\n      <td>0.77</td>\n    </tr>\n  </tbody>\n</table>\n</div>"
     },
     "execution_count": 35,
     "metadata": {},
     "output_type": "execute_result"
    }
   ],
   "source": [
    "results = pd.DataFrame({'Model' : ['KNN','Decision_Tree'], 'Score': [acc_test,metrics.accuracy_score(ytest, clf.predict(Xtest))]}) \n",
    "results_data_set = results\n",
    "results_data_set.head()"
   ]
  },
  {
   "cell_type": "markdown",
   "id": "e159fe32-9e69-4b98-95d7-7f3844ea3479",
   "metadata": {},
   "source": [
    "Z vyhodnoceni modelu vidime , ze metoda KNN je lepsi pro nas porblem, i kdyz Decision Tree ma take dobre vysledky, tato metoda je lepsi pro datasety, protoze je  schopna modelovat nelineární vztahy mezi příznaky a cílovou proměnnou. Take neni nutna normalizace dat. Zaroven metoda KNN vyaduje mit cely dataset v pameti a to muze zatezovat cely proces a pro velke datasety se tato metoda v nektrych pripadech nevyplati, ale nam vydala lepsi vysledky."
   ]
  },
  {
   "cell_type": "markdown",
   "id": "22f401c0-0b26-4feb-85f9-cbcd60633e62",
   "metadata": {},
   "source": [
    "**Vypocteme si F1 SCORE, AUC A ROC pro DecisionTree**"
   ]
  },
  {
   "cell_type": "code",
   "execution_count": 36,
   "id": "17d71226-f2bc-425a-b33b-dbc44c43e8f1",
   "metadata": {
    "ExecuteTime": {
     "end_time": "2023-11-25T16:36:52.396558700Z",
     "start_time": "2023-11-25T16:36:52.377680900Z"
    }
   },
   "outputs": [],
   "source": [
    "from sklearn.metrics import f1_score"
   ]
  },
  {
   "cell_type": "code",
   "execution_count": 37,
   "id": "f84677db-0769-42d7-b1c3-e6d2c557bdb0",
   "metadata": {
    "ExecuteTime": {
     "end_time": "2023-11-25T16:36:53.094365600Z",
     "start_time": "2023-11-25T16:36:53.084820900Z"
    }
   },
   "outputs": [],
   "source": [
    "ypredict = clf.predict(Xtest)"
   ]
  },
  {
   "cell_type": "code",
   "execution_count": 38,
   "id": "8239aab9-cc5e-403c-96a5-246b13913d72",
   "metadata": {
    "ExecuteTime": {
     "end_time": "2023-11-25T16:36:53.853543700Z",
     "start_time": "2023-11-25T16:36:53.832329900Z"
    }
   },
   "outputs": [
    {
     "name": "stdout",
     "output_type": "stream",
     "text": [
      "0.676056338028169\n"
     ]
    }
   ],
   "source": [
    "score = f1_score(ypredict,ytest)\n",
    "print(score)"
   ]
  },
  {
   "cell_type": "markdown",
   "id": "a06ba538-ee88-4889-80fc-e3b18de16fb0",
   "metadata": {},
   "source": [
    "F1 neni uplne nejvyssi, ale pro nas pripade je dostacujici. Mensi F1 score znaci, ze presicion a recall hodnoty take nebudou nejvyssi."
   ]
  },
  {
   "cell_type": "markdown",
   "id": "6a9752b2-bc63-48ec-9d8a-c6c857526e7b",
   "metadata": {},
   "source": [
    "Dale si spocteme AUC a ROC pro nas model. Budeme vychazet z toho co jsme se ucili na cviceni a pouzijeme to na nas model."
   ]
  },
  {
   "cell_type": "code",
   "execution_count": 39,
   "id": "d0628df5-dacb-49f6-ad8e-b73e4ab2cd9d",
   "metadata": {
    "ExecuteTime": {
     "end_time": "2023-11-25T16:36:58.321629700Z",
     "start_time": "2023-11-25T16:36:58.171178700Z"
    }
   },
   "outputs": [
    {
     "data": {
      "text/plain": "<Figure size 1000x700 with 1 Axes>",
      "image/png": "[encoded data removed]"
     },
     "metadata": {},
     "output_type": "display_data"
    }
   ],
   "source": [
    "fpr, tpr, thresholds = metrics.roc_curve(ytest, ypredict)\n",
    "AUC = metrics.roc_auc_score(ytest, ypredict)\n",
    "\n",
    "plt.figure(figsize=(10,7))\n",
    "plt.plot(fpr, tpr, label = None, linewidth = 2)\n",
    "plt.plot([0,1],[0,1],'r',linewidth = 4)\n",
    "plt.axis([0,1,0,1])\n",
    "plt.xlabel('False positive rate', fontsize = 16)\n",
    "plt.ylabel('True positive rate', fontsize = 16)\n",
    "plt.show()\n"
   ]
  },
  {
   "cell_type": "markdown",
   "id": "0ec501fe-45a8-44f4-9be4-c8cdea987e3a",
   "metadata": {},
   "source": [
    "Cervena cara ukazuje ciste nahodny model, modra cara by mela byt vzdy nad ni. Sice neni uplne vysoko nad ni, ale pro prvni provedeny model jsem rad,ze vysledek neni zas tak spatny.  Modra cara nam popisuje vysledek naseho nejlepsiho modelu.\n",
    "Dale budeme pocitat AUC."
   ]
  },
  {
   "cell_type": "code",
   "execution_count": 40,
   "id": "9472c8b7-0757-4c8f-9d44-4a6f870bb108",
   "metadata": {
    "ExecuteTime": {
     "end_time": "2023-11-25T16:37:00.083080900Z",
     "start_time": "2023-11-25T16:37:00.076349Z"
    }
   },
   "outputs": [],
   "source": [
    "from sklearn.metrics import roc_auc_score"
   ]
  },
  {
   "cell_type": "code",
   "execution_count": 41,
   "id": "6cac9e8b-04d9-4fe6-830c-30921275dd1b",
   "metadata": {
    "ExecuteTime": {
     "end_time": "2023-11-25T16:37:00.691740400Z",
     "start_time": "2023-11-25T16:37:00.672320200Z"
    }
   },
   "outputs": [
    {
     "name": "stdout",
     "output_type": "stream",
     "text": [
      "0.7418354692021498\n"
     ]
    }
   ],
   "source": [
    "r_a_score = roc_auc_score(ytest,ypredict)\n",
    "print(r_a_score)"
   ]
  },
  {
   "cell_type": "markdown",
   "id": "adff7b85-ed6e-4ff1-a56b-9c5961106fd9",
   "metadata": {},
   "source": [
    "Vysledek AUC je velmi uspokojivy. Model ma solidni vykon a dokaze rozlisovat dobre pripady pro  false/positive pripady. Ale urcite je misto pro zlepseni."
   ]
  },
  {
   "cell_type": "markdown",
   "id": "610d6751-2e78-4726-867b-daf80ea8e7f9",
   "metadata": {},
   "source": [
    "**Vypocteme si F1 SCORE, AUC A ROC pro KNN**"
   ]
  },
  {
   "cell_type": "markdown",
   "id": "8c13e2ec-547c-4229-b8f0-672f6e92912d",
   "metadata": {},
   "source": [
    "Vypocitame si F1 skore pro nejlepsi KNN model."
   ]
  },
  {
   "cell_type": "code",
   "execution_count": 42,
   "id": "9f12bc94-09d9-4633-b105-d3a5823a5223",
   "metadata": {
    "ExecuteTime": {
     "end_time": "2023-11-25T16:37:03.471881300Z",
     "start_time": "2023-11-25T16:37:03.454140300Z"
    }
   },
   "outputs": [
    {
     "name": "stdout",
     "output_type": "stream",
     "text": [
      "0.7837837837837839\n"
     ]
    }
   ],
   "source": [
    "ypredict_knn = best_knn.predict(Xtest_scaled)\n",
    "score = f1_score(ytest, ypredict_knn, average='binary')\n",
    "print(score)"
   ]
  },
  {
   "cell_type": "code",
   "execution_count": 43,
   "id": "53fd5103-05c0-46f3-8ce5-d110788acc9f",
   "metadata": {
    "ExecuteTime": {
     "end_time": "2023-11-25T16:37:04.299297200Z",
     "start_time": "2023-11-25T16:37:04.156650600Z"
    }
   },
   "outputs": [
    {
     "data": {
      "text/plain": "<Figure size 1000x700 with 1 Axes>",
      "image/png": "[encoded data removed]"
     },
     "metadata": {},
     "output_type": "display_data"
    }
   ],
   "source": [
    "fpr, tpr, thresholds = metrics.roc_curve(ytest, ypredict_knn)\n",
    "AUC = metrics.roc_auc_score(ytest, ypredict_knn)\n",
    "\n",
    "plt.figure(figsize=(10,7))\n",
    "plt.plot(fpr, tpr, label = None, linewidth = 2)\n",
    "plt.plot([0,1],[0,1],'r',linewidth = 4)\n",
    "plt.axis([0,1,0,1])\n",
    "plt.xlabel('False positive rate', fontsize = 16)\n",
    "plt.ylabel('True positive rate', fontsize = 16)\n",
    "plt.show()"
   ]
  },
  {
   "cell_type": "code",
   "execution_count": 44,
   "id": "2327a9fa-5aaf-4c36-a0f5-8291df00780d",
   "metadata": {
    "ExecuteTime": {
     "end_time": "2023-11-25T16:37:05.119161700Z",
     "start_time": "2023-11-25T16:37:05.096558900Z"
    }
   },
   "outputs": [
    {
     "name": "stdout",
     "output_type": "stream",
     "text": [
      "0.81976023150062\n"
     ]
    }
   ],
   "source": [
    "r_a_score = roc_auc_score(ytest,ypredict_knn)\n",
    "print(r_a_score)"
   ]
  },
  {
   "cell_type": "markdown",
   "id": "0e75e254-f576-415b-901d-748da9223c9c",
   "metadata": {},
   "source": [
    "## Evaulace"
   ]
  },
  {
   "cell_type": "code",
   "execution_count": 45,
   "id": "4772be13-3282-4b6d-8680-07b9e7beba5c",
   "metadata": {
    "ExecuteTime": {
     "end_time": "2023-11-25T16:37:06.330619400Z",
     "start_time": "2023-11-25T16:37:06.259902700Z"
    }
   },
   "outputs": [
    {
     "data": {
      "text/plain": "(309, 12)"
     },
     "metadata": {},
     "output_type": "display_data"
    },
    {
     "data": {
      "text/plain": "     ID  pclass                                               name     sex  \\\n0  1000       3                                Stankovic, Mr. Ivan    male   \n1  1001       1               Flegenheim, Mrs. Alfred (Antoinette)  female   \n2  1002       1  Frauenthal, Mrs. Henry William (Clara Heinshei...  female   \n3  1003       3                        Vander Cruyssen, Mr. Victor    male   \n4  1004       1                               Lurette, Miss. Elise  female   \n\n    age  sibsp  parch    ticket      fare cabin embarked     home.dest  \n0  33.0      0      0    349239    8.6625   NaN        C           NaN  \n1   NaN      0      0  PC 17598   31.6833   NaN        S  New York, NY  \n2   NaN      1      0  PC 17611  133.6500   NaN        S  New York, NY  \n3  47.0      0      0    345765    9.0000   NaN        S           NaN  \n4  58.0      0      0  PC 17569  146.5208   B80        C           NaN  ",
      "text/html": "<div>\n<style scoped>\n    .dataframe tbody tr th:only-of-type {\n        vertical-align: middle;\n    }\n\n    .dataframe tbody tr th {\n        vertical-align: top;\n    }\n\n    .dataframe thead th {\n        text-align: right;\n    }\n</style>\n<table border=\"1\" class=\"dataframe\">\n  <thead>\n    <tr style=\"text-align: right;\">\n      <th></th>\n      <th>ID</th>\n      <th>pclass</th>\n      <th>name</th>\n      <th>sex</th>\n      <th>age</th>\n      <th>sibsp</th>\n      <th>parch</th>\n      <th>ticket</th>\n      <th>fare</th>\n      <th>cabin</th>\n      <th>embarked</th>\n      <th>home.dest</th>\n    </tr>\n  </thead>\n  <tbody>\n    <tr>\n      <th>0</th>\n      <td>1000</td>\n      <td>3</td>\n      <td>Stankovic, Mr. Ivan</td>\n      <td>male</td>\n      <td>33.0</td>\n      <td>0</td>\n      <td>0</td>\n      <td>349239</td>\n      <td>8.6625</td>\n      <td>NaN</td>\n      <td>C</td>\n      <td>NaN</td>\n    </tr>\n    <tr>\n      <th>1</th>\n      <td>1001</td>\n      <td>1</td>\n      <td>Flegenheim, Mrs. Alfred (Antoinette)</td>\n      <td>female</td>\n      <td>NaN</td>\n      <td>0</td>\n      <td>0</td>\n      <td>PC 17598</td>\n      <td>31.6833</td>\n      <td>NaN</td>\n      <td>S</td>\n      <td>New York, NY</td>\n    </tr>\n    <tr>\n      <th>2</th>\n      <td>1002</td>\n      <td>1</td>\n      <td>Frauenthal, Mrs. Henry William (Clara Heinshei...</td>\n      <td>female</td>\n      <td>NaN</td>\n      <td>1</td>\n      <td>0</td>\n      <td>PC 17611</td>\n      <td>133.6500</td>\n      <td>NaN</td>\n      <td>S</td>\n      <td>New York, NY</td>\n    </tr>\n    <tr>\n      <th>3</th>\n      <td>1003</td>\n      <td>3</td>\n      <td>Vander Cruyssen, Mr. Victor</td>\n      <td>male</td>\n      <td>47.0</td>\n      <td>0</td>\n      <td>0</td>\n      <td>345765</td>\n      <td>9.0000</td>\n      <td>NaN</td>\n      <td>S</td>\n      <td>NaN</td>\n    </tr>\n    <tr>\n      <th>4</th>\n      <td>1004</td>\n      <td>1</td>\n      <td>Lurette, Miss. Elise</td>\n      <td>female</td>\n      <td>58.0</td>\n      <td>0</td>\n      <td>0</td>\n      <td>PC 17569</td>\n      <td>146.5208</td>\n      <td>B80</td>\n      <td>C</td>\n      <td>NaN</td>\n    </tr>\n  </tbody>\n</table>\n</div>"
     },
     "metadata": {},
     "output_type": "display_data"
    },
    {
     "name": "stdout",
     "output_type": "stream",
     "text": [
      "<class 'pandas.core.frame.DataFrame'>\n",
      "RangeIndex: 309 entries, 0 to 308\n",
      "Data columns (total 12 columns):\n",
      " #   Column     Non-Null Count  Dtype  \n",
      "---  ------     --------------  -----  \n",
      " 0   ID         309 non-null    int64  \n",
      " 1   pclass     309 non-null    int64  \n",
      " 2   name       309 non-null    object \n",
      " 3   sex        309 non-null    object \n",
      " 4   age        244 non-null    float64\n",
      " 5   sibsp      309 non-null    int64  \n",
      " 6   parch      309 non-null    int64  \n",
      " 7   ticket     309 non-null    object \n",
      " 8   fare       309 non-null    float64\n",
      " 9   cabin      62 non-null     object \n",
      " 10  embarked   309 non-null    object \n",
      " 11  home.dest  179 non-null    object \n",
      "dtypes: float64(2), int64(4), object(6)\n",
      "memory usage: 29.1+ KB\n"
     ]
    },
    {
     "data": {
      "text/plain": "None"
     },
     "metadata": {},
     "output_type": "display_data"
    },
    {
     "data": {
      "text/plain": "                ID      pclass         age       sibsp       parch        fare\ncount   309.000000  309.000000  244.000000  309.000000  309.000000  309.000000\nmean   1154.000000    2.317152   29.981216    0.508091    0.330097   30.163106\nstd      89.344838    0.831442   14.718045    1.097858    0.670167   46.312684\nmin    1000.000000    1.000000    0.750000    0.000000    0.000000    0.000000\n25%    1077.000000    2.000000   21.000000    0.000000    0.000000    7.879200\n50%    1154.000000    3.000000   29.000000    0.000000    0.000000   13.500000\n75%    1231.000000    3.000000   39.000000    1.000000    0.000000   31.275000\nmax    1308.000000    3.000000   71.000000    8.000000    5.000000  512.329200",
      "text/html": "<div>\n<style scoped>\n    .dataframe tbody tr th:only-of-type {\n        vertical-align: middle;\n    }\n\n    .dataframe tbody tr th {\n        vertical-align: top;\n    }\n\n    .dataframe thead th {\n        text-align: right;\n    }\n</style>\n<table border=\"1\" class=\"dataframe\">\n  <thead>\n    <tr style=\"text-align: right;\">\n      <th></th>\n      <th>ID</th>\n      <th>pclass</th>\n      <th>age</th>\n      <th>sibsp</th>\n      <th>parch</th>\n      <th>fare</th>\n    </tr>\n  </thead>\n  <tbody>\n    <tr>\n      <th>count</th>\n      <td>309.000000</td>\n      <td>309.000000</td>\n      <td>244.000000</td>\n      <td>309.000000</td>\n      <td>309.000000</td>\n      <td>309.000000</td>\n    </tr>\n    <tr>\n      <th>mean</th>\n      <td>1154.000000</td>\n      <td>2.317152</td>\n      <td>29.981216</td>\n      <td>0.508091</td>\n      <td>0.330097</td>\n      <td>30.163106</td>\n    </tr>\n    <tr>\n      <th>std</th>\n      <td>89.344838</td>\n      <td>0.831442</td>\n      <td>14.718045</td>\n      <td>1.097858</td>\n      <td>0.670167</td>\n      <td>46.312684</td>\n    </tr>\n    <tr>\n      <th>min</th>\n      <td>1000.000000</td>\n      <td>1.000000</td>\n      <td>0.750000</td>\n      <td>0.000000</td>\n      <td>0.000000</td>\n      <td>0.000000</td>\n    </tr>\n    <tr>\n      <th>25%</th>\n      <td>1077.000000</td>\n      <td>2.000000</td>\n      <td>21.000000</td>\n      <td>0.000000</td>\n      <td>0.000000</td>\n      <td>7.879200</td>\n    </tr>\n    <tr>\n      <th>50%</th>\n      <td>1154.000000</td>\n      <td>3.000000</td>\n      <td>29.000000</td>\n      <td>0.000000</td>\n      <td>0.000000</td>\n      <td>13.500000</td>\n    </tr>\n    <tr>\n      <th>75%</th>\n      <td>1231.000000</td>\n      <td>3.000000</td>\n      <td>39.000000</td>\n      <td>1.000000</td>\n      <td>0.000000</td>\n      <td>31.275000</td>\n    </tr>\n    <tr>\n      <th>max</th>\n      <td>1308.000000</td>\n      <td>3.000000</td>\n      <td>71.000000</td>\n      <td>8.000000</td>\n      <td>5.000000</td>\n      <td>512.329200</td>\n    </tr>\n  </tbody>\n</table>\n</div>"
     },
     "metadata": {},
     "output_type": "display_data"
    },
    {
     "data": {
      "text/plain": "ID           309\npclass         3\nname         309\nsex            2\nage           68\nsibsp          7\nparch          4\nticket       284\nfare         151\ncabin         55\nembarked       3\nhome.dest    134\ndtype: int64"
     },
     "metadata": {},
     "output_type": "display_data"
    }
   ],
   "source": [
    "data_test = pd.read_csv(\"evaluation.csv\")\n",
    "data_test.head()\n",
    "\n",
    "display(data_test.shape)\n",
    "display(data_test.head())\n",
    "display(data_test.info())\n",
    "display(data_test.describe())\n",
    "display(data_test.nunique())"
   ]
  },
  {
   "cell_type": "markdown",
   "id": "d229f324-fd38-461b-a172-eab68bcf8dff",
   "metadata": {},
   "source": [
    "**Musime opet udelat transformaci a prevedni na cisleny format pro nase pouziti.**"
   ]
  },
  {
   "cell_type": "markdown",
   "id": "be2a86d8-2b8d-4240-8872-4d877a99e1ee",
   "metadata": {},
   "source": [
    "Pro upravu dat pouziji stejnou upravu jako pro nas data_set, aby testovani bylo co nejvice stejne."
   ]
  },
  {
   "cell_type": "code",
   "execution_count": 46,
   "id": "a592849f-3a27-4f76-8c13-1813f0184ea3",
   "metadata": {
    "ExecuteTime": {
     "end_time": "2023-11-25T16:37:08.367242600Z",
     "start_time": "2023-11-25T16:37:08.322523100Z"
    }
   },
   "outputs": [
    {
     "name": "stdout",
     "output_type": "stream",
     "text": [
      "<class 'pandas.core.frame.DataFrame'>\n",
      "RangeIndex: 309 entries, 0 to 308\n",
      "Data columns (total 8 columns):\n",
      " #   Column    Non-Null Count  Dtype \n",
      "---  ------    --------------  ----- \n",
      " 0   ID        309 non-null    int64 \n",
      " 1   pclass    309 non-null    int64 \n",
      " 2   sex       309 non-null    object\n",
      " 3   age       309 non-null    int32 \n",
      " 4   sibsp     309 non-null    int64 \n",
      " 5   parch     309 non-null    int64 \n",
      " 6   fare      309 non-null    int32 \n",
      " 7   embarked  309 non-null    object\n",
      "dtypes: int32(2), int64(4), object(2)\n",
      "memory usage: 17.0+ KB\n",
      "<class 'pandas.core.frame.DataFrame'>\n",
      "RangeIndex: 309 entries, 0 to 308\n",
      "Data columns (total 8 columns):\n",
      " #   Column    Non-Null Count  Dtype   \n",
      "---  ------    --------------  -----   \n",
      " 0   ID        309 non-null    int64   \n",
      " 1   pclass    309 non-null    int64   \n",
      " 2   sex       309 non-null    object  \n",
      " 3   age       309 non-null    int32   \n",
      " 4   sibsp     309 non-null    int64   \n",
      " 5   parch     309 non-null    int64   \n",
      " 6   fare      309 non-null    int32   \n",
      " 7   embarked  309 non-null    category\n",
      "dtypes: category(1), int32(2), int64(4), object(1)\n",
      "memory usage: 15.0+ KB\n",
      "<class 'pandas.core.frame.DataFrame'>\n",
      "RangeIndex: 309 entries, 0 to 308\n",
      "Data columns (total 8 columns):\n",
      " #   Column    Non-Null Count  Dtype   \n",
      "---  ------    --------------  -----   \n",
      " 0   ID        309 non-null    int64   \n",
      " 1   pclass    309 non-null    int64   \n",
      " 2   sex       309 non-null    object  \n",
      " 3   age       309 non-null    int32   \n",
      " 4   sibsp     309 non-null    int64   \n",
      " 5   parch     309 non-null    int64   \n",
      " 6   fare      309 non-null    int32   \n",
      " 7   embarked  309 non-null    category\n",
      "dtypes: category(1), int32(2), int64(4), object(1)\n",
      "memory usage: 15.0+ KB\n"
     ]
    }
   ],
   "source": [
    "data_test.drop('name',axis = 1,inplace = True)\n",
    "data_test.drop('ticket',axis = 1,inplace = True)\n",
    "data_test.drop('cabin',axis = 1,inplace = True)\n",
    "data_test.drop('home.dest',axis = 1,inplace = True)\n",
    "\n",
    "\n",
    "median_age_by_category = data_test.groupby(['sex','fare','embarked', 'pclass'])['age'].transform('median')\n",
    "data_test['age'].fillna(median_age_by_category, inplace=True)\n",
    "\n",
    "get_avg = data_test['fare'].mean()\n",
    "data_test.fillna(get_avg,inplace = True)\n",
    "data_test['fare'] = data_test['fare'].astype(int)\n",
    "data_test['age'] = data_test['age'].astype(int)\n",
    "data_test.info()\n",
    "\n",
    "\n",
    "embarked_category = pd.api.types.CategoricalDtype(categories=['S', 'C', 'Q'], ordered=True)\n",
    "\n",
    "data_test.embarked = data_test.embarked.astype(embarked_category)\n",
    "data_test.info()\n",
    "\n",
    "most_appearence = data_test['embarked'].mode().values[0]\n",
    "data_test['embarked'].fillna(most_appearence, inplace=True)\n",
    "data_test.info()\n",
    "\n",
    "for col in data_test.select_dtypes('category').columns:\n",
    "    data_test[col] = data_test[col].cat.codes\n",
    "\n",
    "data_test = pd.get_dummies(data_test)"
   ]
  },
  {
   "cell_type": "markdown",
   "id": "a2d186f5-7b5f-4c8f-841a-d8f0e5049cd1",
   "metadata": {},
   "source": [
    "Pouzijeme nas natrenovany model s nejlepsimi parametry pro nase nova data.\n",
    "Ocekavam presnost okolo 80%."
   ]
  },
  {
   "cell_type": "code",
   "execution_count": 47,
   "id": "08a1b4c5-34d6-42e5-831a-e9a02d158559",
   "metadata": {
    "ExecuteTime": {
     "end_time": "2023-11-25T16:37:09.493104600Z",
     "start_time": "2023-11-25T16:37:09.475031Z"
    }
   },
   "outputs": [],
   "source": [
    "predictions = clf.predict(data_test)"
   ]
  },
  {
   "cell_type": "code",
   "execution_count": 48,
   "id": "18adad21-20c9-4f97-a848-3b44c01cbc65",
   "metadata": {
    "ExecuteTime": {
     "end_time": "2023-11-25T16:37:10.008776900Z",
     "start_time": "2023-11-25T16:37:09.989610800Z"
    }
   },
   "outputs": [
    {
     "data": {
      "text/plain": "       ID  Prediction\n0    1000           0\n1    1001           1\n2    1002           1\n3    1003           0\n4    1004           1\n..    ...         ...\n304  1304           0\n305  1305           0\n306  1306           0\n307  1307           1\n308  1308           0\n\n[309 rows x 2 columns]",
      "text/html": "<div>\n<style scoped>\n    .dataframe tbody tr th:only-of-type {\n        vertical-align: middle;\n    }\n\n    .dataframe tbody tr th {\n        vertical-align: top;\n    }\n\n    .dataframe thead th {\n        text-align: right;\n    }\n</style>\n<table border=\"1\" class=\"dataframe\">\n  <thead>\n    <tr style=\"text-align: right;\">\n      <th></th>\n      <th>ID</th>\n      <th>Prediction</th>\n    </tr>\n  </thead>\n  <tbody>\n    <tr>\n      <th>0</th>\n      <td>1000</td>\n      <td>0</td>\n    </tr>\n    <tr>\n      <th>1</th>\n      <td>1001</td>\n      <td>1</td>\n    </tr>\n    <tr>\n      <th>2</th>\n      <td>1002</td>\n      <td>1</td>\n    </tr>\n    <tr>\n      <th>3</th>\n      <td>1003</td>\n      <td>0</td>\n    </tr>\n    <tr>\n      <th>4</th>\n      <td>1004</td>\n      <td>1</td>\n    </tr>\n    <tr>\n      <th>...</th>\n      <td>...</td>\n      <td>...</td>\n    </tr>\n    <tr>\n      <th>304</th>\n      <td>1304</td>\n      <td>0</td>\n    </tr>\n    <tr>\n      <th>305</th>\n      <td>1305</td>\n      <td>0</td>\n    </tr>\n    <tr>\n      <th>306</th>\n      <td>1306</td>\n      <td>0</td>\n    </tr>\n    <tr>\n      <th>307</th>\n      <td>1307</td>\n      <td>1</td>\n    </tr>\n    <tr>\n      <th>308</th>\n      <td>1308</td>\n      <td>0</td>\n    </tr>\n  </tbody>\n</table>\n<p>309 rows × 2 columns</p>\n</div>"
     },
     "execution_count": 48,
     "metadata": {},
     "output_type": "execute_result"
    }
   ],
   "source": [
    "ID = data_test['ID'].tolist()\n",
    "results = pd.DataFrame({'ID': ID, 'Prediction': predictions})\n",
    "results"
   ]
  },
  {
   "cell_type": "code",
   "execution_count": 49,
   "id": "23b5c42d-c2f3-409a-9d52-528621e216d1",
   "metadata": {
    "ExecuteTime": {
     "end_time": "2023-11-25T16:37:11.251575Z",
     "start_time": "2023-11-25T16:37:11.242230100Z"
    }
   },
   "outputs": [],
   "source": [
    "results.to_csv('results.csv', index=False)"
   ]
  },
  {
   "cell_type": "markdown",
   "id": "5d2c762d-2e9a-48c6-9f74-58898c519b15",
   "metadata": {},
   "source": [
    "**Vysledek si nakonec ulozime do noveho csv fileu a budeme doufat, ze nas ukol dostane dobre ohodnoceni.**"
   ]
  },
  {
   "cell_type": "code",
   "execution_count": null,
   "outputs": [],
   "source": [],
   "metadata": {
    "collapsed": false
   },
   "id": "44ccdef876d829b7"
  }
 ],
 "metadata": {
  "kernelspec": {
   "display_name": "Python 3 (ipykernel)",
   "language": "python",
   "name": "python3"
  },
  "language_info": {
   "codemirror_mode": {
    "name": "ipython",
    "version": 3
   },
   "file_extension": ".py",
   "mimetype": "text/x-python",
   "name": "python",
   "nbconvert_exporter": "python",
   "pygments_lexer": "ipython3",
   "version": "3.11.0"
  }
 },
 "nbformat": 4,
 "nbformat_minor": 5
}
