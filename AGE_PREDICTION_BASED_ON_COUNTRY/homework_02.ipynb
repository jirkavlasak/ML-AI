{
 "cells": [
  {
   "cell_type": "markdown",
   "id": "0cf75ab4-bd4d-4ec2-a708-74797dbfce44",
   "metadata": {},
   "source": [
    "# Úkol č. 2 - regrese\n",
    "\n",
    "* Termíny jsou uvedeny na [courses.fit.cvut.cz](https://courses.fit.cvut.cz/BI-ML1/homeworks/index.html).\n",
    "* Pokud odevzdáte úkol po prvním termínu ale před nejzazším termínem, budete penalizování -12 body, pozdější odevzdání je bez bodu.\n",
    "* V rámci tohoto úkolu se musíte vypořádat s regresní úlohou, s příznaky různých typů a s chybějícími hodnotami.\n",
    "* Před tím, než na nich postavíte predikční model, je třeba je nějakým způsobem převést do číselné reprezentace.\n",
    "    \n",
    "> **Úkoly jsou zadány tak, aby Vám daly prostor pro invenci. Vymyslet _jak přesně_ budete úkol řešit, je důležitou součástí zadání a originalita či nápaditost bude také hodnocena!**\n",
    "\n",
    "Využívejte buňky typu `Markdown` k vysvětlování Vašeho postupu. Za nepřehlednost budeme strhávat body.\n",
    "\n",
    "## Zdroj dat\n",
    "\n",
    "Budeme se zabývat predikcí délky dožití v různých zemích a letech.\n",
    "K dispozici máte trénovací data v souboru `data.csv` a data na vyhodnocení v souboru `evaluation.csv`.\n",
    "\n",
    "#### Seznam příznaků:\n",
    "\n",
    "* Year - Rok\n",
    "* Status - Status rozvinuté nebo rozvojové země\n",
    "* Life expectancy - Délka dožití v letech - **cílová proměnná, kterou budete predikovat**\n",
    "* Adult Mortality - Úmrtnost dospělých bez ohledu na pohlaví (pravděpodobnost, že osoby, které dosáhly věku 15 let, zemřou před dosažením věku 60 let (uvedeno na 1 000 osob)).\n",
    "* infant deaths - počet zemřelých kojenců na 1000 obyvatel\n",
    "* Alcohol - Alkohol, zaznamenaná spotřeba na obyvatele (15+) (v litrech čistého alkoholu)\n",
    "* percentage expenditure - Výdaje na zdravotnictví v procentech hrubého domácího produktu na obyvatele (%)\n",
    "* Hepatitis B - pokrytí očkováním proti hepatitidě B (HepB) u dětí ve věku 1 roku (%)\n",
    "* Measles - Spalničky - počet hlášených případů na 1000 obyvatel\n",
    "* BMI - průměrný index tělesné hmotnosti celé populace\n",
    "* under-five deaths - počet úmrtí dětí do pěti let na 1000 obyvatel\n",
    "* Polio - proočkovanost proti dětské obrně (Pol3) u dětí ve věku 1 roku (%)\n",
    "* Total expenditure - Výdaje vládních institucí na zdravotnictví jako procento celkových vládních výdajů (%)\n",
    "* Diphtheria - pokrytí očkováním proti záškrtu, tetanu a černému kašli (DTP3) u jednoletých dětí (%)\n",
    "* HIV/AIDS - počet úmrtí na 1 000 živě narozených dětí na HIV/AIDS (0-4 roky)\n",
    "* GDP - hrubý domácí produkt na obyvatele (v USD)\n",
    "* Population - počet obyvatel země\n",
    "* thinness 1-19 years - podíl dětí ve věku 10-19 let s indexem tělesné hmotnosti (BMI) menším než 2 směrodatné odchylky pod mediánem (%)\n",
    "* thinness 5-9 years - podíl dětí ve věku 5-9 let s indexem tělesné hmotnosti (BMI) menším než 2 směrodatné odchylky pod mediánem (%)\n",
    "* Income composition of resources - Index lidského rozvoje z hlediska příjmového složení zdrojů (index v rozmezí 0 až 1)\n",
    "* Schooling - počet let školní docházky (roky)\n",
    "\n",
    "\n",
    "## Pokyny k vypracování\n",
    "\n",
    "**Body zadání**, za jejichž (poctivé) vypracování získáte **25 bodů**: \n",
    "  * V notebooku načtěte data ze souboru `data.csv`. Vhodným způsobem si je rozdělte na podmnožiny, které Vám poslouží pro trénování (trénovací), porovnávání modelů (validační) a následnou predikci výkonnosti finálního modelu (testovací).\n",
    "    \n",
    "  * Proveďte základní předzpracování dat:\n",
    "    * Projděte si jednotlivé příznaky a transformujte je do vhodné podoby pro použití ve vybraném regresním modelu.\n",
    "    * Nějakým způsobem se vypořádejte s chybějícími hodnotami. _Pozor na metodické chyby!_\n",
    "    * Můžete využívat i vizualizace. Vše stručně ale náležitě komentujte.\n",
    "<br /><br />\n",
    "  * Vytvořte **vlastní implementaci náhodného lesa**. Použijte k tomu níže předpřipravenou kostru.\n",
    "  \n",
    "  * Na připravená data postupně aplikujte Vaši předchozí implementaci modelu náhodného lesa, dále jeden z modelů **lineární regrese** nebo **hřebenové regrese**, a alespoň jeden další model podle Vašeho uvážení, přičemž pro každý z těchto modelů přiměřeně:\n",
    "    * Okomentujte vhodnost daného modelu pro daný typ úlohy.\n",
    "    * Experimentujte s normalizací (standardizace/min-max), pokud pro daný model očekáváte její příznivý vliv.\n",
    "    * Vyberte si hlavní hyperparametry k ladění a najděte jejich nejlepší hodnoty (vzhledem k RMSE).\n",
    "    * Pro model s nejlepšími hodnotami hyperparametrů určete jeho chybu pomocí RMSE a MAE. _Pozor na metodické chyby!_\n",
    "    * Získané výsledky vždy řádně okomentujte.\n",
    "<br /><br />\n",
    "  * Ze všech zkoušených možností v předchozím kroku vyberte finální model a odhadněte, jakou chybu (RMSE) můžete očekávat na nových datech, která jste doposud neměli k dispozici. _Pozor na metodické chyby!_\n",
    "    \n",
    "  * Nakonec načtěte vyhodnocovací data ze souboru `evaluation.csv`. Pomocí finálního modelu napočítejte predikce pro tato data. Vytvořte soubor `results.csv`, ve kterém získané predikce uložíte s využitím tří sloupců: **Country**, **Year** a **Life expectancy**. Tento soubor též odevzdejte (uložte do repozitáře vedle notebooku).\n",
    "\n",
    "  * Ukázka prvních řádků souboru `results.csv`:\n",
    "  \n",
    "```\n",
    "Country,Year,Life expectancy\n",
    "Peru,2012,71.4\n",
    "Peru,2013,72.6\n",
    "...\n",
    "```\n",
    "\n",
    "\n",
    "## Poznámky k odevzdání\n",
    "\n",
    "  * Řiďte se pokyny ze stránky https://courses.fit.cvut.cz/BI-ML1/homeworks/index.html."
   ]
  },
  {
   "cell_type": "markdown",
   "id": "713762a9175f14f7",
   "metadata": {
    "collapsed": false
   },
   "source": [
    "# Načítání a základní zobrazení dat #\n",
    "\n",
    "## Načtení dat ##\n",
    "Využiji knihovnu \"pandas\". Pomocí ní si načtu data ze souboru \"data.csv\" do proměnné \"data_frame\" a zobrazím si pár prvních řádek."
   ]
  },
  {
   "cell_type": "code",
   "execution_count": 7,
   "id": "8216231d-137d-4a04-b8f8-5e088e6ac6bb",
   "metadata": {
    "collapsed": false,
    "ExecuteTime": {
     "end_time": "2023-12-22T16:13:14.100957800Z",
     "start_time": "2023-12-22T16:13:13.338478100Z"
    }
   },
   "outputs": [
    {
     "data": {
      "text/plain": "       Country  Year      Status  Life expectancy  Adult Mortality  \\\n0  Afghanistan  2015  Developing             65.0            263.0   \n1  Afghanistan  2014  Developing             59.9            271.0   \n2  Afghanistan  2013  Developing             59.9            268.0   \n3  Afghanistan  2012  Developing             59.5            272.0   \n4  Afghanistan  2011  Developing             59.2            275.0   \n\n   infant deaths  Alcohol  percentage expenditure  Hepatitis B  Measles  ...  \\\n0             62     0.01               71.279624         65.0     1154  ...   \n1             64     0.01               73.523582         62.0      492  ...   \n2             66     0.01               73.219243         64.0      430  ...   \n3             69     0.01               78.184215         67.0     2787  ...   \n4             71     0.01                7.097109         68.0     3013  ...   \n\n   Polio  Total expenditure  Diphtheria  HIV/AIDS         GDP  Population  \\\n0    6.0               8.16        65.0       0.1  584.259210  33736494.0   \n1   58.0               8.18        62.0       0.1  612.696514    327582.0   \n2   62.0               8.13        64.0       0.1  631.744976  31731688.0   \n3   67.0               8.52        67.0       0.1  669.959000   3696958.0   \n4   68.0               7.87        68.0       0.1   63.537231   2978599.0   \n\n   thinness  1-19 years  thinness 5-9 years  Income composition of resources  \\\n0                  17.2                17.3                            0.479   \n1                  17.5                17.5                            0.476   \n2                  17.7                17.7                            0.470   \n3                  17.9                18.0                            0.463   \n4                  18.2                18.2                            0.454   \n\n   Schooling  \n0       10.1  \n1       10.0  \n2        9.9  \n3        9.8  \n4        9.5  \n\n[5 rows x 22 columns]",
      "text/html": "<div>\n<style scoped>\n    .dataframe tbody tr th:only-of-type {\n        vertical-align: middle;\n    }\n\n    .dataframe tbody tr th {\n        vertical-align: top;\n    }\n\n    .dataframe thead th {\n        text-align: right;\n    }\n</style>\n<table border=\"1\" class=\"dataframe\">\n  <thead>\n    <tr style=\"text-align: right;\">\n      <th></th>\n      <th>Country</th>\n      <th>Year</th>\n      <th>Status</th>\n      <th>Life expectancy</th>\n      <th>Adult Mortality</th>\n      <th>infant deaths</th>\n      <th>Alcohol</th>\n      <th>percentage expenditure</th>\n      <th>Hepatitis B</th>\n      <th>Measles</th>\n      <th>...</th>\n      <th>Polio</th>\n      <th>Total expenditure</th>\n      <th>Diphtheria</th>\n      <th>HIV/AIDS</th>\n      <th>GDP</th>\n      <th>Population</th>\n      <th>thinness  1-19 years</th>\n      <th>thinness 5-9 years</th>\n      <th>Income composition of resources</th>\n      <th>Schooling</th>\n    </tr>\n  </thead>\n  <tbody>\n    <tr>\n      <th>0</th>\n      <td>Afghanistan</td>\n      <td>2015</td>\n      <td>Developing</td>\n      <td>65.0</td>\n      <td>263.0</td>\n      <td>62</td>\n      <td>0.01</td>\n      <td>71.279624</td>\n      <td>65.0</td>\n      <td>1154</td>\n      <td>...</td>\n      <td>6.0</td>\n      <td>8.16</td>\n      <td>65.0</td>\n      <td>0.1</td>\n      <td>584.259210</td>\n      <td>33736494.0</td>\n      <td>17.2</td>\n      <td>17.3</td>\n      <td>0.479</td>\n      <td>10.1</td>\n    </tr>\n    <tr>\n      <th>1</th>\n      <td>Afghanistan</td>\n      <td>2014</td>\n      <td>Developing</td>\n      <td>59.9</td>\n      <td>271.0</td>\n      <td>64</td>\n      <td>0.01</td>\n      <td>73.523582</td>\n      <td>62.0</td>\n      <td>492</td>\n      <td>...</td>\n      <td>58.0</td>\n      <td>8.18</td>\n      <td>62.0</td>\n      <td>0.1</td>\n      <td>612.696514</td>\n      <td>327582.0</td>\n      <td>17.5</td>\n      <td>17.5</td>\n      <td>0.476</td>\n      <td>10.0</td>\n    </tr>\n    <tr>\n      <th>2</th>\n      <td>Afghanistan</td>\n      <td>2013</td>\n      <td>Developing</td>\n      <td>59.9</td>\n      <td>268.0</td>\n      <td>66</td>\n      <td>0.01</td>\n      <td>73.219243</td>\n      <td>64.0</td>\n      <td>430</td>\n      <td>...</td>\n      <td>62.0</td>\n      <td>8.13</td>\n      <td>64.0</td>\n      <td>0.1</td>\n      <td>631.744976</td>\n      <td>31731688.0</td>\n      <td>17.7</td>\n      <td>17.7</td>\n      <td>0.470</td>\n      <td>9.9</td>\n    </tr>\n    <tr>\n      <th>3</th>\n      <td>Afghanistan</td>\n      <td>2012</td>\n      <td>Developing</td>\n      <td>59.5</td>\n      <td>272.0</td>\n      <td>69</td>\n      <td>0.01</td>\n      <td>78.184215</td>\n      <td>67.0</td>\n      <td>2787</td>\n      <td>...</td>\n      <td>67.0</td>\n      <td>8.52</td>\n      <td>67.0</td>\n      <td>0.1</td>\n      <td>669.959000</td>\n      <td>3696958.0</td>\n      <td>17.9</td>\n      <td>18.0</td>\n      <td>0.463</td>\n      <td>9.8</td>\n    </tr>\n    <tr>\n      <th>4</th>\n      <td>Afghanistan</td>\n      <td>2011</td>\n      <td>Developing</td>\n      <td>59.2</td>\n      <td>275.0</td>\n      <td>71</td>\n      <td>0.01</td>\n      <td>7.097109</td>\n      <td>68.0</td>\n      <td>3013</td>\n      <td>...</td>\n      <td>68.0</td>\n      <td>7.87</td>\n      <td>68.0</td>\n      <td>0.1</td>\n      <td>63.537231</td>\n      <td>2978599.0</td>\n      <td>18.2</td>\n      <td>18.2</td>\n      <td>0.454</td>\n      <td>9.5</td>\n    </tr>\n  </tbody>\n</table>\n<p>5 rows × 22 columns</p>\n</div>"
     },
     "execution_count": 7,
     "metadata": {},
     "output_type": "execute_result"
    }
   ],
   "source": [
    "import  pandas as pd\n",
    "data_frame = pd.read_csv('data.csv')\n",
    "data_frame.head()"
   ]
  },
  {
   "cell_type": "markdown",
   "id": "b094f631dbc90530",
   "metadata": {
    "collapsed": false
   },
   "source": [
    "## Zakladni zobrazeni dat ##\n",
    "Nejprve si zobrazim zakladni vlastnosti priznaku, jejich datovy typ, pocet a nekolik jejich zakladni rozdeleni (prumer, pocet, ...)."
   ]
  },
  {
   "cell_type": "code",
   "execution_count": 8,
   "id": "4ee6f3c2bdc9e939",
   "metadata": {
    "collapsed": false,
    "ExecuteTime": {
     "end_time": "2023-12-22T16:13:14.107359900Z",
     "start_time": "2023-12-22T16:13:13.369228Z"
    }
   },
   "outputs": [
    {
     "name": "stdout",
     "output_type": "stream",
     "text": [
      "<class 'pandas.core.frame.DataFrame'>\n",
      "RangeIndex: 2718 entries, 0 to 2717\n",
      "Data columns (total 22 columns):\n",
      " #   Column                           Non-Null Count  Dtype  \n",
      "---  ------                           --------------  -----  \n",
      " 0   Country                          2718 non-null   object \n",
      " 1   Year                             2718 non-null   int64  \n",
      " 2   Status                           2718 non-null   object \n",
      " 3   Life expectancy                  2718 non-null   float64\n",
      " 4   Adult Mortality                  2718 non-null   float64\n",
      " 5   infant deaths                    2718 non-null   int64  \n",
      " 6   Alcohol                          2564 non-null   float64\n",
      " 7   percentage expenditure           2718 non-null   float64\n",
      " 8   Hepatitis B                      2188 non-null   float64\n",
      " 9   Measles                          2718 non-null   int64  \n",
      " 10  BMI                              2692 non-null   float64\n",
      " 11  under-five deaths                2718 non-null   int64  \n",
      " 12  Polio                            2700 non-null   float64\n",
      " 13  Total expenditure                2529 non-null   float64\n",
      " 14  Diphtheria                       2700 non-null   float64\n",
      " 15  HIV/AIDS                         2718 non-null   float64\n",
      " 16  GDP                              2317 non-null   float64\n",
      " 17  Population                       2116 non-null   float64\n",
      " 18  thinness  1-19 years             2692 non-null   float64\n",
      " 19  thinness 5-9 years               2692 non-null   float64\n",
      " 20  Income composition of resources  2576 non-null   float64\n",
      " 21  Schooling                        2576 non-null   float64\n",
      "dtypes: float64(16), int64(4), object(2)\n",
      "memory usage: 467.3+ KB\n"
     ]
    }
   ],
   "source": [
    "data_frame.info()\n"
   ]
  },
  {
   "cell_type": "code",
   "execution_count": 9,
   "id": "c08fdee723924498",
   "metadata": {
    "collapsed": false,
    "ExecuteTime": {
     "end_time": "2023-12-22T16:13:14.161017Z",
     "start_time": "2023-12-22T16:13:13.378577300Z"
    }
   },
   "outputs": [
    {
     "data": {
      "text/plain": "            Country         Year      Status  Life expectancy  \\\ncount          2718  2718.000000        2718      2718.000000   \nunique          183          NaN           2              NaN   \ntop     Afghanistan          NaN  Developing              NaN   \nfreq             16          NaN        2248              NaN   \nmean            NaN  2007.113687         NaN        69.204525   \nstd             NaN     4.537979         NaN         9.612530   \nmin             NaN  2000.000000         NaN        36.300000   \n25%             NaN  2003.000000         NaN        63.100000   \n50%             NaN  2007.000000         NaN        72.200000   \n75%             NaN  2011.000000         NaN        75.800000   \nmax             NaN  2015.000000         NaN        89.000000   \n\n        Adult Mortality  infant deaths      Alcohol  percentage expenditure  \\\ncount       2718.000000    2718.000000  2564.000000             2718.000000   \nunique              NaN            NaN          NaN                     NaN   \ntop                 NaN            NaN          NaN                     NaN   \nfreq                NaN            NaN          NaN                     NaN   \nmean         164.432303      30.825239     4.672512              757.071658   \nstd          125.512789     121.786599     4.051664             2007.472092   \nmin            1.000000       0.000000     0.010000                0.000000   \n25%           73.250000       0.000000     0.990000                5.832385   \n50%          142.000000       3.000000     3.820000               67.687008   \n75%          227.000000      22.000000     7.832500              446.887709   \nmax          723.000000    1800.000000    17.870000            19479.911610   \n\n        Hepatitis B        Measles  ...        Polio  Total expenditure  \\\ncount   2188.000000    2718.000000  ...  2700.000000        2529.000000   \nunique          NaN            NaN  ...          NaN                NaN   \ntop             NaN            NaN  ...          NaN                NaN   \nfreq            NaN            NaN  ...          NaN                NaN   \nmean      80.884826    2370.999632  ...    82.528148           5.943606   \nstd       25.010075   11174.241799  ...    23.294376           2.488801   \nmin        1.000000       0.000000  ...     3.000000           0.370000   \n25%       77.000000       0.000000  ...    77.000000           4.260000   \n50%       92.000000      18.000000  ...    93.000000           5.730000   \n75%       97.000000     372.000000  ...    97.000000           7.530000   \nmax       99.000000  212183.000000  ...    99.000000          17.600000   \n\n         Diphtheria     HIV/AIDS            GDP    Population  \\\ncount   2700.000000  2718.000000    2317.000000  2.116000e+03   \nunique          NaN          NaN            NaN           NaN   \ntop             NaN          NaN            NaN           NaN   \nfreq            NaN          NaN            NaN           NaN   \nmean      82.135926     1.788263    7646.459541  1.261063e+07   \nstd       23.849574     5.221587   14455.594394  6.238395e+07   \nmin        2.000000     0.100000       1.681350  3.400000e+01   \n25%       78.000000     0.100000     459.291200  1.829220e+05   \n50%       93.000000     0.100000    1741.142552  1.365022e+06   \n75%       97.000000     0.800000    6337.882993  7.383590e+06   \nmax       99.000000    50.600000  119172.741800  1.293859e+09   \n\n        thinness  1-19 years  thinness 5-9 years  \\\ncount            2692.000000         2692.000000   \nunique                   NaN                 NaN   \ntop                      NaN                 NaN   \nfreq                     NaN                 NaN   \nmean                4.892236            4.925149   \nstd                 4.434584            4.522269   \nmin                 0.100000            0.100000   \n25%                 1.600000            1.600000   \n50%                 3.400000            3.400000   \n75%                 7.200000            7.300000   \nmax                27.700000           28.600000   \n\n        Income composition of resources    Schooling  \ncount                       2576.000000  2576.000000  \nunique                              NaN          NaN  \ntop                                 NaN          NaN  \nfreq                                NaN          NaN  \nmean                           0.626697    11.996079  \nstd                            0.213323     3.364109  \nmin                            0.000000     0.000000  \n25%                            0.492000    10.100000  \n50%                            0.679000    12.300000  \n75%                            0.781000    14.300000  \nmax                            0.938000    20.700000  \n\n[11 rows x 22 columns]",
      "text/html": "<div>\n<style scoped>\n    .dataframe tbody tr th:only-of-type {\n        vertical-align: middle;\n    }\n\n    .dataframe tbody tr th {\n        vertical-align: top;\n    }\n\n    .dataframe thead th {\n        text-align: right;\n    }\n</style>\n<table border=\"1\" class=\"dataframe\">\n  <thead>\n    <tr style=\"text-align: right;\">\n      <th></th>\n      <th>Country</th>\n      <th>Year</th>\n      <th>Status</th>\n      <th>Life expectancy</th>\n      <th>Adult Mortality</th>\n      <th>infant deaths</th>\n      <th>Alcohol</th>\n      <th>percentage expenditure</th>\n      <th>Hepatitis B</th>\n      <th>Measles</th>\n      <th>...</th>\n      <th>Polio</th>\n      <th>Total expenditure</th>\n      <th>Diphtheria</th>\n      <th>HIV/AIDS</th>\n      <th>GDP</th>\n      <th>Population</th>\n      <th>thinness  1-19 years</th>\n      <th>thinness 5-9 years</th>\n      <th>Income composition of resources</th>\n      <th>Schooling</th>\n    </tr>\n  </thead>\n  <tbody>\n    <tr>\n      <th>count</th>\n      <td>2718</td>\n      <td>2718.000000</td>\n      <td>2718</td>\n      <td>2718.000000</td>\n      <td>2718.000000</td>\n      <td>2718.000000</td>\n      <td>2564.000000</td>\n      <td>2718.000000</td>\n      <td>2188.000000</td>\n      <td>2718.000000</td>\n      <td>...</td>\n      <td>2700.000000</td>\n      <td>2529.000000</td>\n      <td>2700.000000</td>\n      <td>2718.000000</td>\n      <td>2317.000000</td>\n      <td>2.116000e+03</td>\n      <td>2692.000000</td>\n      <td>2692.000000</td>\n      <td>2576.000000</td>\n      <td>2576.000000</td>\n    </tr>\n    <tr>\n      <th>unique</th>\n      <td>183</td>\n      <td>NaN</td>\n      <td>2</td>\n      <td>NaN</td>\n      <td>NaN</td>\n      <td>NaN</td>\n      <td>NaN</td>\n      <td>NaN</td>\n      <td>NaN</td>\n      <td>NaN</td>\n      <td>...</td>\n      <td>NaN</td>\n      <td>NaN</td>\n      <td>NaN</td>\n      <td>NaN</td>\n      <td>NaN</td>\n      <td>NaN</td>\n      <td>NaN</td>\n      <td>NaN</td>\n      <td>NaN</td>\n      <td>NaN</td>\n    </tr>\n    <tr>\n      <th>top</th>\n      <td>Afghanistan</td>\n      <td>NaN</td>\n      <td>Developing</td>\n      <td>NaN</td>\n      <td>NaN</td>\n      <td>NaN</td>\n      <td>NaN</td>\n      <td>NaN</td>\n      <td>NaN</td>\n      <td>NaN</td>\n      <td>...</td>\n      <td>NaN</td>\n      <td>NaN</td>\n      <td>NaN</td>\n      <td>NaN</td>\n      <td>NaN</td>\n      <td>NaN</td>\n      <td>NaN</td>\n      <td>NaN</td>\n      <td>NaN</td>\n      <td>NaN</td>\n    </tr>\n    <tr>\n      <th>freq</th>\n      <td>16</td>\n      <td>NaN</td>\n      <td>2248</td>\n      <td>NaN</td>\n      <td>NaN</td>\n      <td>NaN</td>\n      <td>NaN</td>\n      <td>NaN</td>\n      <td>NaN</td>\n      <td>NaN</td>\n      <td>...</td>\n      <td>NaN</td>\n      <td>NaN</td>\n      <td>NaN</td>\n      <td>NaN</td>\n      <td>NaN</td>\n      <td>NaN</td>\n      <td>NaN</td>\n      <td>NaN</td>\n      <td>NaN</td>\n      <td>NaN</td>\n    </tr>\n    <tr>\n      <th>mean</th>\n      <td>NaN</td>\n      <td>2007.113687</td>\n      <td>NaN</td>\n      <td>69.204525</td>\n      <td>164.432303</td>\n      <td>30.825239</td>\n      <td>4.672512</td>\n      <td>757.071658</td>\n      <td>80.884826</td>\n      <td>2370.999632</td>\n      <td>...</td>\n      <td>82.528148</td>\n      <td>5.943606</td>\n      <td>82.135926</td>\n      <td>1.788263</td>\n      <td>7646.459541</td>\n      <td>1.261063e+07</td>\n      <td>4.892236</td>\n      <td>4.925149</td>\n      <td>0.626697</td>\n      <td>11.996079</td>\n    </tr>\n    <tr>\n      <th>std</th>\n      <td>NaN</td>\n      <td>4.537979</td>\n      <td>NaN</td>\n      <td>9.612530</td>\n      <td>125.512789</td>\n      <td>121.786599</td>\n      <td>4.051664</td>\n      <td>2007.472092</td>\n      <td>25.010075</td>\n      <td>11174.241799</td>\n      <td>...</td>\n      <td>23.294376</td>\n      <td>2.488801</td>\n      <td>23.849574</td>\n      <td>5.221587</td>\n      <td>14455.594394</td>\n      <td>6.238395e+07</td>\n      <td>4.434584</td>\n      <td>4.522269</td>\n      <td>0.213323</td>\n      <td>3.364109</td>\n    </tr>\n    <tr>\n      <th>min</th>\n      <td>NaN</td>\n      <td>2000.000000</td>\n      <td>NaN</td>\n      <td>36.300000</td>\n      <td>1.000000</td>\n      <td>0.000000</td>\n      <td>0.010000</td>\n      <td>0.000000</td>\n      <td>1.000000</td>\n      <td>0.000000</td>\n      <td>...</td>\n      <td>3.000000</td>\n      <td>0.370000</td>\n      <td>2.000000</td>\n      <td>0.100000</td>\n      <td>1.681350</td>\n      <td>3.400000e+01</td>\n      <td>0.100000</td>\n      <td>0.100000</td>\n      <td>0.000000</td>\n      <td>0.000000</td>\n    </tr>\n    <tr>\n      <th>25%</th>\n      <td>NaN</td>\n      <td>2003.000000</td>\n      <td>NaN</td>\n      <td>63.100000</td>\n      <td>73.250000</td>\n      <td>0.000000</td>\n      <td>0.990000</td>\n      <td>5.832385</td>\n      <td>77.000000</td>\n      <td>0.000000</td>\n      <td>...</td>\n      <td>77.000000</td>\n      <td>4.260000</td>\n      <td>78.000000</td>\n      <td>0.100000</td>\n      <td>459.291200</td>\n      <td>1.829220e+05</td>\n      <td>1.600000</td>\n      <td>1.600000</td>\n      <td>0.492000</td>\n      <td>10.100000</td>\n    </tr>\n    <tr>\n      <th>50%</th>\n      <td>NaN</td>\n      <td>2007.000000</td>\n      <td>NaN</td>\n      <td>72.200000</td>\n      <td>142.000000</td>\n      <td>3.000000</td>\n      <td>3.820000</td>\n      <td>67.687008</td>\n      <td>92.000000</td>\n      <td>18.000000</td>\n      <td>...</td>\n      <td>93.000000</td>\n      <td>5.730000</td>\n      <td>93.000000</td>\n      <td>0.100000</td>\n      <td>1741.142552</td>\n      <td>1.365022e+06</td>\n      <td>3.400000</td>\n      <td>3.400000</td>\n      <td>0.679000</td>\n      <td>12.300000</td>\n    </tr>\n    <tr>\n      <th>75%</th>\n      <td>NaN</td>\n      <td>2011.000000</td>\n      <td>NaN</td>\n      <td>75.800000</td>\n      <td>227.000000</td>\n      <td>22.000000</td>\n      <td>7.832500</td>\n      <td>446.887709</td>\n      <td>97.000000</td>\n      <td>372.000000</td>\n      <td>...</td>\n      <td>97.000000</td>\n      <td>7.530000</td>\n      <td>97.000000</td>\n      <td>0.800000</td>\n      <td>6337.882993</td>\n      <td>7.383590e+06</td>\n      <td>7.200000</td>\n      <td>7.300000</td>\n      <td>0.781000</td>\n      <td>14.300000</td>\n    </tr>\n    <tr>\n      <th>max</th>\n      <td>NaN</td>\n      <td>2015.000000</td>\n      <td>NaN</td>\n      <td>89.000000</td>\n      <td>723.000000</td>\n      <td>1800.000000</td>\n      <td>17.870000</td>\n      <td>19479.911610</td>\n      <td>99.000000</td>\n      <td>212183.000000</td>\n      <td>...</td>\n      <td>99.000000</td>\n      <td>17.600000</td>\n      <td>99.000000</td>\n      <td>50.600000</td>\n      <td>119172.741800</td>\n      <td>1.293859e+09</td>\n      <td>27.700000</td>\n      <td>28.600000</td>\n      <td>0.938000</td>\n      <td>20.700000</td>\n    </tr>\n  </tbody>\n</table>\n<p>11 rows × 22 columns</p>\n</div>"
     },
     "execution_count": 9,
     "metadata": {},
     "output_type": "execute_result"
    }
   ],
   "source": [
    "data_frame.describe(include='all')"
   ]
  },
  {
   "cell_type": "code",
   "execution_count": 10,
   "id": "9dc34328ce18bd78",
   "metadata": {
    "collapsed": false,
    "ExecuteTime": {
     "end_time": "2023-12-22T16:13:14.190567Z",
     "start_time": "2023-12-22T16:13:13.415210400Z"
    }
   },
   "outputs": [],
   "source": [
    "import seaborn as sns\n",
    "import matplotlib.pyplot as plt"
   ]
  },
  {
   "cell_type": "markdown",
   "id": "8ccfcad3a5b0ffc1",
   "metadata": {
    "collapsed": false
   },
   "source": [
    "Vizualne si prohledneme kvantitativni priznaky."
   ]
  },
  {
   "cell_type": "code",
   "execution_count": 11,
   "id": "bda6a31085f6b892",
   "metadata": {
    "collapsed": false,
    "ExecuteTime": {
     "end_time": "2023-12-22T16:13:16.725171Z",
     "start_time": "2023-12-22T16:13:13.417724200Z"
    }
   },
   "outputs": [
    {
     "data": {
      "text/plain": "array([[<Axes: title={'center': 'Year'}>,\n        <Axes: title={'center': 'Life expectancy'}>,\n        <Axes: title={'center': 'Adult Mortality'}>,\n        <Axes: title={'center': 'infant deaths'}>],\n       [<Axes: title={'center': 'Alcohol'}>,\n        <Axes: title={'center': 'percentage expenditure'}>,\n        <Axes: title={'center': 'Hepatitis B'}>,\n        <Axes: title={'center': 'Measles'}>],\n       [<Axes: title={'center': 'BMI'}>,\n        <Axes: title={'center': 'under-five deaths'}>,\n        <Axes: title={'center': 'Polio'}>,\n        <Axes: title={'center': 'Total expenditure'}>],\n       [<Axes: title={'center': 'Diphtheria'}>,\n        <Axes: title={'center': 'HIV/AIDS'}>,\n        <Axes: title={'center': 'GDP'}>,\n        <Axes: title={'center': 'Population'}>],\n       [<Axes: title={'center': 'thinness  1-19 years'}>,\n        <Axes: title={'center': 'thinness 5-9 years'}>,\n        <Axes: title={'center': 'Income composition of resources'}>,\n        <Axes: title={'center': 'Schooling'}>]], dtype=object)"
     },
     "execution_count": 11,
     "metadata": {},
     "output_type": "execute_result"
    },
    {
     "data": {
      "text/plain": "<Figure size 1500x1500 with 20 Axes>",
      "image/png": "[encoded data removed]"
     },
     "metadata": {},
     "output_type": "display_data"
    }
   ],
   "source": [
    "data_frame.hist(figsize=(15,15))"
   ]
  },
  {
   "cell_type": "markdown",
   "id": "d52f2867da2ec35d",
   "metadata": {
    "collapsed": false
   },
   "source": [
    "### Life Expectancy ###\n",
    "Ukazeme si jake je rozdeleni \"Life Expectancy\" a jejich pocet.\n",
    "Vidime, ze nejvice casta delka zivota je kolem 72 - 76 lety."
   ]
  },
  {
   "cell_type": "code",
   "execution_count": 12,
   "id": "f4d96c3ba0a4bf1d",
   "metadata": {
    "collapsed": false,
    "ExecuteTime": {
     "end_time": "2023-12-22T16:13:16.962974500Z",
     "start_time": "2023-12-22T16:13:16.725171Z"
    }
   },
   "outputs": [
    {
     "data": {
      "text/plain": "Text(0.5, 1.0, 'Life expectancy')"
     },
     "execution_count": 12,
     "metadata": {},
     "output_type": "execute_result"
    },
    {
     "data": {
      "text/plain": "<Figure size 640x480 with 1 Axes>",
      "image/png": "[encoded data removed]"
     },
     "metadata": {},
     "output_type": "display_data"
    }
   ],
   "source": [
    "sns.histplot(data_frame['Life expectancy'].dropna(), kde=True, color='blue',bins=25)\n",
    "plt.title('Life expectancy')"
   ]
  },
  {
   "cell_type": "markdown",
   "id": "90b8c78e9ba1056d",
   "metadata": {
    "collapsed": false
   },
   "source": [
    "## Life expectancy a GDP ##\n",
    "Ukazeme si jak zavisi Life expectancy na GDP.\n",
    "Vidime,ze cim vyssi GDP tim je Life expectancy vetsi."
   ]
  },
  {
   "cell_type": "code",
   "execution_count": 13,
   "id": "4eb1925780aca660",
   "metadata": {
    "collapsed": false,
    "ExecuteTime": {
     "end_time": "2023-12-22T16:13:17.381185700Z",
     "start_time": "2023-12-22T16:13:16.961972100Z"
    }
   },
   "outputs": [
    {
     "data": {
      "text/plain": "<Figure size 640x480 with 1 Axes>",
      "image/png": "[encoded data removed]"
     },
     "metadata": {},
     "output_type": "display_data"
    }
   ],
   "source": [
    "sns.regplot(x='GDP', y='Life expectancy', data=data_frame, scatter_kws={'alpha':0.3}, line_kws={'color':'red'})\n",
    "\n",
    "plt.title('Zavislost Life expectancy na GDP')\n",
    "plt.xlabel('GDP')\n",
    "plt.ylabel('Life Expectancy')\n",
    "plt.show()"
   ]
  },
  {
   "cell_type": "markdown",
   "id": "8b3d8248298f0d9b",
   "metadata": {
    "collapsed": false
   },
   "source": [
    "## Life expectancy a BMI ##\n",
    "Podivejme se na velmi zajimavy graf.\n",
    "Vypada to, ze cim vetsi BMI tim vetsi Life expectancy. Zluta znaci prechod z podvahy na normalni vahu. Zelena znaci prechod z nadvahy do obezity.\n",
    "Jak si tedy vysvetlit, ze cim vetsi vetsi BMI, tim vetsi Life expectancy. Jednoduse !\n",
    "Vetsinou  vysokeho BMI dosahuji lide v rozvintuych zemich, kde je dostatek penez na jidlo,\n",
    "ale zaroven dostatek penez i pro lepsi zdravotnickou peci. "
   ]
  },
  {
   "cell_type": "code",
   "execution_count": 14,
   "id": "a0220a4facbe7f2b",
   "metadata": {
    "collapsed": false,
    "ExecuteTime": {
     "end_time": "2023-12-22T16:13:17.737015300Z",
     "start_time": "2023-12-22T16:13:17.383334900Z"
    }
   },
   "outputs": [
    {
     "data": {
      "text/plain": "<Figure size 640x480 with 1 Axes>",
      "image/png": "[encoded data removed]"
     },
     "metadata": {},
     "output_type": "display_data"
    }
   ],
   "source": [
    "sns.regplot(x='BMI', y='Life expectancy', data=data_frame, scatter_kws={'alpha':0.3}, line_kws={'color':'red'})\n",
    "plt.axvline(x=18.5, color='yellow', linestyle='--', linewidth=2)\n",
    "plt.axvline(x=30, color='green', linestyle='--', linewidth=2)\n",
    "plt.title('Regression Plot: Life Expectancy vs. BMI')\n",
    "plt.xlabel('BMI')\n",
    "plt.ylabel('Life Expectancy')\n",
    "plt.show()"
   ]
  },
  {
   "cell_type": "markdown",
   "id": "666ad449cc7c6301",
   "metadata": {
    "collapsed": false
   },
   "source": [
    "# Priprava testovaci, trenovaci a validaci monziny. Transformace a  doplneni chybejicich hodnot #\n",
    "Pouziji train_test_split ze scikit-learn "
   ]
  },
  {
   "cell_type": "code",
   "execution_count": 15,
   "id": "4b8d5952ad3d880c",
   "metadata": {
    "collapsed": false,
    "ExecuteTime": {
     "end_time": "2023-12-22T16:13:17.832364600Z",
     "start_time": "2023-12-22T16:13:17.736015300Z"
    }
   },
   "outputs": [],
   "source": [
    "from sklearn.model_selection import train_test_split"
   ]
  },
  {
   "cell_type": "code",
   "execution_count": 16,
   "id": "a66fd4ca0661cf97",
   "metadata": {
    "collapsed": false,
    "ExecuteTime": {
     "end_time": "2023-12-22T16:13:17.832364600Z",
     "start_time": "2023-12-22T16:13:17.785449200Z"
    }
   },
   "outputs": [
    {
     "name": "stdout",
     "output_type": "stream",
     "text": [
      "Train rozměry, X: (1630, 21), y: (1630,)\n",
      "Val rozměry, X: (761, 21), y: (761,)\n",
      "Test rozměry, X: (327, 21), y: (327,)\n"
     ]
    }
   ],
   "source": [
    "random_seed = 42\n",
    "\n",
    "Xtrain, Xval, ytrain, yval = train_test_split(data_frame.drop(columns = ['Life expectancy']), data_frame['Life expectancy'], test_size=0.4, random_state=random_seed)\n",
    "Xval, Xtest, yval, ytest = train_test_split(Xval, yval, test_size=0.3, random_state=random_seed)\n",
    "\n",
    "print(f\"Train rozměry, X: {Xtrain.shape}, y: {ytrain.shape}\")\n",
    "print(f\"Val rozměry, X: {Xval.shape}, y: {yval.shape}\")\n",
    "print(f\"Test rozměry, X: {Xtest.shape}, y: {ytest.shape}\")"
   ]
  },
  {
   "cell_type": "markdown",
   "id": "ae99529876b74b1",
   "metadata": {
    "collapsed": false
   },
   "source": [
    "## Podivame se na chybejici hodnty. ##\n",
    "Nejrpve se podivame pro x-mnoziny. Pozdeji se podivame i na y-mnoziny pro jistotu."
   ]
  },
  {
   "cell_type": "code",
   "execution_count": 17,
   "id": "33a493d1336bb6d6",
   "metadata": {
    "collapsed": false,
    "ExecuteTime": {
     "end_time": "2023-12-22T16:13:17.833367200Z",
     "start_time": "2023-12-22T16:13:17.793949400Z"
    }
   },
   "outputs": [],
   "source": [
    "def showMissing(train,val,test):\n",
    "    list = []\n",
    "    list.append(train)\n",
    "    list.append(val)\n",
    "    list.append(test)\n",
    "    for set in list:\n",
    "        print(set.isnull().sum())\n",
    "    print(\"***\")\n"
   ]
  },
  {
   "cell_type": "code",
   "execution_count": 18,
   "id": "e51036aa3c821102",
   "metadata": {
    "collapsed": false,
    "ExecuteTime": {
     "end_time": "2023-12-22T16:13:17.834367500Z",
     "start_time": "2023-12-22T16:13:17.796461700Z"
    }
   },
   "outputs": [
    {
     "name": "stdout",
     "output_type": "stream",
     "text": [
      "Country                              0\n",
      "Year                                 0\n",
      "Status                               0\n",
      "Adult Mortality                      0\n",
      "infant deaths                        0\n",
      "Alcohol                             94\n",
      "percentage expenditure               0\n",
      "Hepatitis B                        330\n",
      "Measles                              0\n",
      "BMI                                 15\n",
      "under-five deaths                    0\n",
      "Polio                                9\n",
      "Total expenditure                  119\n",
      "Diphtheria                           9\n",
      "HIV/AIDS                             0\n",
      "GDP                                250\n",
      "Population                         361\n",
      "thinness  1-19 years                15\n",
      "thinness 5-9 years                  15\n",
      "Income composition of resources     83\n",
      "Schooling                           83\n",
      "dtype: int64\n",
      "Country                              0\n",
      "Year                                 0\n",
      "Status                               0\n",
      "Adult Mortality                      0\n",
      "infant deaths                        0\n",
      "Alcohol                             44\n",
      "percentage expenditure               0\n",
      "Hepatitis B                        140\n",
      "Measles                              0\n",
      "BMI                                  8\n",
      "under-five deaths                    0\n",
      "Polio                                7\n",
      "Total expenditure                   50\n",
      "Diphtheria                           7\n",
      "HIV/AIDS                             0\n",
      "GDP                                101\n",
      "Population                         162\n",
      "thinness  1-19 years                 8\n",
      "thinness 5-9 years                   8\n",
      "Income composition of resources     41\n",
      "Schooling                           41\n",
      "dtype: int64\n",
      "Country                             0\n",
      "Year                                0\n",
      "Status                              0\n",
      "Adult Mortality                     0\n",
      "infant deaths                       0\n",
      "Alcohol                            16\n",
      "percentage expenditure              0\n",
      "Hepatitis B                        60\n",
      "Measles                             0\n",
      "BMI                                 3\n",
      "under-five deaths                   0\n",
      "Polio                               2\n",
      "Total expenditure                  20\n",
      "Diphtheria                          2\n",
      "HIV/AIDS                            0\n",
      "GDP                                50\n",
      "Population                         79\n",
      "thinness  1-19 years                3\n",
      "thinness 5-9 years                  3\n",
      "Income composition of resources    18\n",
      "Schooling                          18\n",
      "dtype: int64\n",
      "***\n"
     ]
    }
   ],
   "source": [
    "showMissing(Xtrain,Xval,Xtest)"
   ]
  },
  {
   "cell_type": "code",
   "execution_count": 19,
   "id": "24f630e9e4489f53",
   "metadata": {
    "collapsed": false,
    "ExecuteTime": {
     "end_time": "2023-12-22T16:13:17.834367500Z",
     "start_time": "2023-12-22T16:13:17.802980400Z"
    }
   },
   "outputs": [
    {
     "name": "stdout",
     "output_type": "stream",
     "text": [
      "0\n",
      "0\n",
      "0\n"
     ]
    }
   ],
   "source": [
    "print(ytest.isnull().sum())\n",
    "print(yval.isnull().sum())\n",
    "print(ytrain.isnull().sum())"
   ]
  },
  {
   "cell_type": "markdown",
   "id": "abda5a080d98fe00",
   "metadata": {
    "collapsed": false
   },
   "source": [
    "Podivame se na priznak BMI, vidime,ze jejich cybejici pocet je velmi nizky, takze NaN hodnoty vyplnim prumerem. Chtel bych ale doplnit BMI podle Status. Jestli jsme v rozvojove zemi, muzeme cekat, ze BMI bude mensi nez v rozvinute zemi.\n",
    "Nize uvedene \"vyplneni Nanu\" jsem si trosku upravil a dohledal na Stack Overflow."
   ]
  },
  {
   "cell_type": "code",
   "execution_count": 20,
   "id": "7675a9583b54fe41",
   "metadata": {
    "collapsed": false,
    "ExecuteTime": {
     "end_time": "2023-12-22T16:13:17.834367500Z",
     "start_time": "2023-12-22T16:13:17.805854400Z"
    }
   },
   "outputs": [
    {
     "name": "stdout",
     "output_type": "stream",
     "text": [
      "Status\n",
      "Developed     51.723617\n",
      "Developing    35.477993\n",
      "Name: BMI, dtype: float64\n"
     ]
    }
   ],
   "source": [
    "avg = data_frame.groupby('Status')['BMI'].mean()\n",
    "print(avg)"
   ]
  },
  {
   "cell_type": "code",
   "execution_count": 21,
   "id": "b7c577b6469b7c58",
   "metadata": {
    "collapsed": false,
    "ExecuteTime": {
     "end_time": "2023-12-22T16:13:17.877991900Z",
     "start_time": "2023-12-22T16:13:17.812593200Z"
    }
   },
   "outputs": [
    {
     "name": "stdout",
     "output_type": "stream",
     "text": [
      "Country                              0\n",
      "Year                                 0\n",
      "Status                               0\n",
      "Adult Mortality                      0\n",
      "infant deaths                        0\n",
      "Alcohol                             94\n",
      "percentage expenditure               0\n",
      "Hepatitis B                        330\n",
      "Measles                              0\n",
      "BMI                                  0\n",
      "under-five deaths                    0\n",
      "Polio                                9\n",
      "Total expenditure                  119\n",
      "Diphtheria                           9\n",
      "HIV/AIDS                             0\n",
      "GDP                                250\n",
      "Population                         361\n",
      "thinness  1-19 years                15\n",
      "thinness 5-9 years                  15\n",
      "Income composition of resources     83\n",
      "Schooling                           83\n",
      "dtype: int64\n",
      "Country                              0\n",
      "Year                                 0\n",
      "Status                               0\n",
      "Adult Mortality                      0\n",
      "infant deaths                        0\n",
      "Alcohol                             44\n",
      "percentage expenditure               0\n",
      "Hepatitis B                        140\n",
      "Measles                              0\n",
      "BMI                                  0\n",
      "under-five deaths                    0\n",
      "Polio                                7\n",
      "Total expenditure                   50\n",
      "Diphtheria                           7\n",
      "HIV/AIDS                             0\n",
      "GDP                                101\n",
      "Population                         162\n",
      "thinness  1-19 years                 8\n",
      "thinness 5-9 years                   8\n",
      "Income composition of resources     41\n",
      "Schooling                           41\n",
      "dtype: int64\n",
      "Country                             0\n",
      "Year                                0\n",
      "Status                              0\n",
      "Adult Mortality                     0\n",
      "infant deaths                       0\n",
      "Alcohol                            16\n",
      "percentage expenditure              0\n",
      "Hepatitis B                        60\n",
      "Measles                             0\n",
      "BMI                                 0\n",
      "under-five deaths                   0\n",
      "Polio                               2\n",
      "Total expenditure                  20\n",
      "Diphtheria                          2\n",
      "HIV/AIDS                            0\n",
      "GDP                                50\n",
      "Population                         79\n",
      "thinness  1-19 years                3\n",
      "thinness 5-9 years                  3\n",
      "Income composition of resources    18\n",
      "Schooling                          18\n",
      "dtype: int64\n",
      "***\n"
     ]
    }
   ],
   "source": [
    "avg_train = Xtrain.groupby('Status')['BMI'].mean()\n",
    "Xtrain['BMI'] = Xtrain.apply(lambda row :avg_train[row['Status']] if pd.isna(row['BMI']) else row['BMI'],axis =1)\n",
    "avg_val = Xval.groupby('Status')['BMI'].mean()\n",
    "Xval['BMI'] = Xval.apply(lambda row :avg_val[row['Status']] if pd.isna(row['BMI']) else row['BMI'],axis =1)\n",
    "avg_test = Xtest.groupby('Status')['BMI'].mean()\n",
    "Xtest['BMI'] = Xtest.apply(lambda row :avg_test[row['Status']] if pd.isna(row['BMI']) else row['BMI'],axis =1)\n",
    "\n",
    "showMissing(Xtrain,Xval,Xtest)"
   ]
  },
  {
   "cell_type": "markdown",
   "id": "8562d620691a1c1c",
   "metadata": {
    "collapsed": false
   },
   "source": [
    "Dale se zamerime na priznak \"Alcohol\". Vime, ze alkohol je v nekterych zemi zakan ci mene konzumovan kvuli nabozenstvi,zvykum a atd. Pokud pro danou zemi nevime nic ohledne \"Alcohol:, tak doplnime 0."
   ]
  },
  {
   "cell_type": "code",
   "execution_count": 22,
   "id": "df19b181846cd13a",
   "metadata": {
    "collapsed": false,
    "ExecuteTime": {
     "end_time": "2023-12-22T16:13:17.878993100Z",
     "start_time": "2023-12-22T16:13:17.841593100Z"
    }
   },
   "outputs": [
    {
     "name": "stdout",
     "output_type": "stream",
     "text": [
      "Country                              0\n",
      "Year                                 0\n",
      "Status                               0\n",
      "Adult Mortality                      0\n",
      "infant deaths                        0\n",
      "Alcohol                              0\n",
      "percentage expenditure               0\n",
      "Hepatitis B                        330\n",
      "Measles                              0\n",
      "BMI                                  0\n",
      "under-five deaths                    0\n",
      "Polio                                9\n",
      "Total expenditure                  119\n",
      "Diphtheria                           9\n",
      "HIV/AIDS                             0\n",
      "GDP                                250\n",
      "Population                         361\n",
      "thinness  1-19 years                15\n",
      "thinness 5-9 years                  15\n",
      "Income composition of resources     83\n",
      "Schooling                           83\n",
      "dtype: int64\n",
      "Country                              0\n",
      "Year                                 0\n",
      "Status                               0\n",
      "Adult Mortality                      0\n",
      "infant deaths                        0\n",
      "Alcohol                              0\n",
      "percentage expenditure               0\n",
      "Hepatitis B                        140\n",
      "Measles                              0\n",
      "BMI                                  0\n",
      "under-five deaths                    0\n",
      "Polio                                7\n",
      "Total expenditure                   50\n",
      "Diphtheria                           7\n",
      "HIV/AIDS                             0\n",
      "GDP                                101\n",
      "Population                         162\n",
      "thinness  1-19 years                 8\n",
      "thinness 5-9 years                   8\n",
      "Income composition of resources     41\n",
      "Schooling                           41\n",
      "dtype: int64\n",
      "Country                             0\n",
      "Year                                0\n",
      "Status                              0\n",
      "Adult Mortality                     0\n",
      "infant deaths                       0\n",
      "Alcohol                             0\n",
      "percentage expenditure              0\n",
      "Hepatitis B                        60\n",
      "Measles                             0\n",
      "BMI                                 0\n",
      "under-five deaths                   0\n",
      "Polio                               2\n",
      "Total expenditure                  20\n",
      "Diphtheria                          2\n",
      "HIV/AIDS                            0\n",
      "GDP                                50\n",
      "Population                         79\n",
      "thinness  1-19 years                3\n",
      "thinness 5-9 years                  3\n",
      "Income composition of resources    18\n",
      "Schooling                          18\n",
      "dtype: int64\n",
      "***\n"
     ]
    }
   ],
   "source": [
    "median_alcohol_country = Xtrain.groupby(['Country'])['Alcohol'].transform('median')\n",
    "Xtrain['Alcohol'].fillna(median_alcohol_country,inplace = True)\n",
    "Xtrain['Alcohol'] = Xtrain['Alcohol'].fillna(0)\n",
    "median_alcohol_country = Xval.groupby(['Country'])['Alcohol'].transform('median')\n",
    "Xval['Alcohol'].fillna(median_alcohol_country,inplace = True)\n",
    "Xval['Alcohol'] = Xval['Alcohol'].fillna(0)\n",
    "median_alcohol_country = Xtest.groupby(['Country'])['Alcohol'].transform('median')\n",
    "Xtest['Alcohol'].fillna(median_alcohol_country,inplace = True)\n",
    "Xtest['Alcohol'] = Xtest['Alcohol'].fillna(0)\n",
    "\n",
    "showMissing(Xtrain,Xval,Xtest)"
   ]
  },
  {
   "cell_type": "markdown",
   "id": "c75b33bf8b6655c",
   "metadata": {
    "collapsed": false
   },
   "source": [
    "Podivame se na chybejici hodnoty u ockovani na zloutenku, poli viru a zaskrtu. Budu uvazovat, ze ockovani je vice rozsireno v rozvinutych zemich. Doplnim tedy prumereme vytvorenym ze Status."
   ]
  },
  {
   "cell_type": "code",
   "execution_count": 23,
   "id": "e2e1cfff16b35f93",
   "metadata": {
    "collapsed": false,
    "ExecuteTime": {
     "end_time": "2023-12-22T16:13:18.015510600Z",
     "start_time": "2023-12-22T16:13:17.854514800Z"
    }
   },
   "outputs": [
    {
     "name": "stdout",
     "output_type": "stream",
     "text": [
      "Status\n",
      "Developed     87.339683\n",
      "Developing    79.799253\n",
      "Name: Hepatitis B, dtype: float64\n",
      "Status\n",
      "Developed     93.480851\n",
      "Developing    80.219731\n",
      "Name: Polio, dtype: float64\n",
      "Status\n",
      "Developed     93.227660\n",
      "Developing    79.798206\n",
      "Name: Diphtheria, dtype: float64\n",
      "Country                              0\n",
      "Year                                 0\n",
      "Status                               0\n",
      "Adult Mortality                      0\n",
      "infant deaths                        0\n",
      "Alcohol                              0\n",
      "percentage expenditure               0\n",
      "Hepatitis B                          0\n",
      "Measles                              0\n",
      "BMI                                  0\n",
      "under-five deaths                    0\n",
      "Polio                                0\n",
      "Total expenditure                  119\n",
      "Diphtheria                           0\n",
      "HIV/AIDS                             0\n",
      "GDP                                250\n",
      "Population                         361\n",
      "thinness  1-19 years                15\n",
      "thinness 5-9 years                  15\n",
      "Income composition of resources     83\n",
      "Schooling                           83\n",
      "dtype: int64\n",
      "Country                              0\n",
      "Year                                 0\n",
      "Status                               0\n",
      "Adult Mortality                      0\n",
      "infant deaths                        0\n",
      "Alcohol                              0\n",
      "percentage expenditure               0\n",
      "Hepatitis B                          0\n",
      "Measles                              0\n",
      "BMI                                  0\n",
      "under-five deaths                    0\n",
      "Polio                                0\n",
      "Total expenditure                   50\n",
      "Diphtheria                           0\n",
      "HIV/AIDS                             0\n",
      "GDP                                101\n",
      "Population                         162\n",
      "thinness  1-19 years                 8\n",
      "thinness 5-9 years                   8\n",
      "Income composition of resources     41\n",
      "Schooling                           41\n",
      "dtype: int64\n",
      "Country                             0\n",
      "Year                                0\n",
      "Status                              0\n",
      "Adult Mortality                     0\n",
      "infant deaths                       0\n",
      "Alcohol                             0\n",
      "percentage expenditure              0\n",
      "Hepatitis B                         0\n",
      "Measles                             0\n",
      "BMI                                 0\n",
      "under-five deaths                   0\n",
      "Polio                               0\n",
      "Total expenditure                  20\n",
      "Diphtheria                          0\n",
      "HIV/AIDS                            0\n",
      "GDP                                50\n",
      "Population                         79\n",
      "thinness  1-19 years                3\n",
      "thinness 5-9 years                  3\n",
      "Income composition of resources    18\n",
      "Schooling                          18\n",
      "dtype: int64\n",
      "***\n"
     ]
    }
   ],
   "source": [
    "avg_HB = data_frame.groupby('Status')['Hepatitis B'].mean()\n",
    "print(avg_HB)\n",
    "\n",
    "avg_Poli = data_frame.groupby('Status')['Polio'].mean()\n",
    "print(avg_Poli)\n",
    "\n",
    "avg_Dip = data_frame.groupby('Status')['Diphtheria'].mean()\n",
    "print(avg_Dip)\n",
    "\n",
    "Xtrain['Hepatitis B'] = Xtrain.apply(lambda row :avg_HB[row['Status']] if pd.isna(row['Hepatitis B']) else row['Hepatitis B'],axis =1)\n",
    "Xval['Hepatitis B'] = Xval.apply(lambda row :avg_HB[row['Status']] if pd.isna(row['Hepatitis B']) else row['Hepatitis B'],axis =1)\n",
    "Xtest['Hepatitis B'] = Xtest.apply(lambda row :avg_HB[row['Status']] if pd.isna(row['Hepatitis B']) else row['Hepatitis B'],axis =1)\n",
    "\n",
    "Xtrain['Polio'] = Xtrain.apply(lambda row :avg_Poli[row['Status']] if pd.isna(row['Polio']) else row['Polio'],axis =1)\n",
    "Xval['Polio'] = Xval.apply(lambda row :avg_Poli[row['Status']] if pd.isna(row['Polio']) else row['Polio'],axis =1)\n",
    "Xtest['Polio'] = Xtest.apply(lambda row :avg_Poli[row['Status']] if pd.isna(row['Polio']) else row['Polio'],axis =1)\n",
    "\n",
    "Xtrain['Diphtheria'] = Xtrain.apply(lambda row :avg_Poli[row['Status']] if pd.isna(row['Diphtheria']) else row['Diphtheria'],axis =1)\n",
    "Xval['Diphtheria'] = Xval.apply(lambda row :avg_Poli[row['Status']] if pd.isna(row['Diphtheria']) else row['Diphtheria'],axis =1)\n",
    "Xtest['Diphtheria'] = Xtest.apply(lambda row :avg_Poli[row['Status']] if pd.isna(row['Diphtheria']) else row['Diphtheria'],axis =1)\n",
    "\n",
    "showMissing(Xtrain,Xval,Xtest)"
   ]
  },
  {
   "cell_type": "markdown",
   "id": "fd4cb227c525e29c",
   "metadata": {
    "collapsed": false
   },
   "source": [
    "Doplnime nyni Total expenditure jako prumer pro danou zemi, pokud nenalezneme prumer pro zemi, tak doplnime prumerem pro status."
   ]
  },
  {
   "cell_type": "code",
   "execution_count": 24,
   "id": "ccb27b8893210ff6",
   "metadata": {
    "collapsed": false,
    "ExecuteTime": {
     "end_time": "2023-12-22T16:13:20.004470600Z",
     "start_time": "2023-12-22T16:13:17.916779900Z"
    }
   },
   "outputs": [
    {
     "name": "stdout",
     "output_type": "stream",
     "text": [
      "Country                              0\n",
      "Year                                 0\n",
      "Status                               0\n",
      "Adult Mortality                      0\n",
      "infant deaths                        0\n",
      "Alcohol                              0\n",
      "percentage expenditure               0\n",
      "Hepatitis B                          0\n",
      "Measles                              0\n",
      "BMI                                  0\n",
      "under-five deaths                    0\n",
      "Polio                                0\n",
      "Total expenditure                    0\n",
      "Diphtheria                           0\n",
      "HIV/AIDS                             0\n",
      "GDP                                250\n",
      "Population                         361\n",
      "thinness  1-19 years                15\n",
      "thinness 5-9 years                  15\n",
      "Income composition of resources     83\n",
      "Schooling                           83\n",
      "dtype: int64\n",
      "Country                              0\n",
      "Year                                 0\n",
      "Status                               0\n",
      "Adult Mortality                      0\n",
      "infant deaths                        0\n",
      "Alcohol                              0\n",
      "percentage expenditure               0\n",
      "Hepatitis B                          0\n",
      "Measles                              0\n",
      "BMI                                  0\n",
      "under-five deaths                    0\n",
      "Polio                                0\n",
      "Total expenditure                    0\n",
      "Diphtheria                           0\n",
      "HIV/AIDS                             0\n",
      "GDP                                101\n",
      "Population                         162\n",
      "thinness  1-19 years                 8\n",
      "thinness 5-9 years                   8\n",
      "Income composition of resources     41\n",
      "Schooling                           41\n",
      "dtype: int64\n",
      "Country                             0\n",
      "Year                                0\n",
      "Status                              0\n",
      "Adult Mortality                     0\n",
      "infant deaths                       0\n",
      "Alcohol                             0\n",
      "percentage expenditure              0\n",
      "Hepatitis B                         0\n",
      "Measles                             0\n",
      "BMI                                 0\n",
      "under-five deaths                   0\n",
      "Polio                               0\n",
      "Total expenditure                   0\n",
      "Diphtheria                          0\n",
      "HIV/AIDS                            0\n",
      "GDP                                50\n",
      "Population                         79\n",
      "thinness  1-19 years                3\n",
      "thinness 5-9 years                  3\n",
      "Income composition of resources    18\n",
      "Schooling                          18\n",
      "dtype: int64\n",
      "***\n"
     ]
    }
   ],
   "source": [
    "def fillna_feature(row):\n",
    "    avg_TE = data_frame.groupby('Country')['Total expenditure'].mean()\n",
    "    avg_TE_Status = data_frame.groupby('Status')['Total expenditure'].mean()\n",
    "    country_mean = avg_TE.get(row['Country'])\n",
    "    status_mean = avg_TE_Status.get(row['Status'])\n",
    "    if pd.notna(country_mean):\n",
    "        return country_mean\n",
    "    elif pd.notna(status_mean):\n",
    "        return status_mean\n",
    "    else:\n",
    "        return row['Total expenditure']\n",
    "\n",
    "\n",
    "Xtrain['Total expenditure'] = Xtrain.apply(fillna_feature,axis =1)\n",
    "Xval['Total expenditure'] = Xval.apply(fillna_feature,axis =1)\n",
    "Xtest['Total expenditure'] = Xtest.apply(fillna_feature,axis =1)\n",
    "\n",
    "showMissing(Xtrain,Xval,Xtest)"
   ]
  },
  {
   "cell_type": "markdown",
   "id": "26ded08b5e4be768",
   "metadata": {
    "collapsed": false
   },
   "source": [
    "Ted pristoupime na GDP."
   ]
  },
  {
   "cell_type": "code",
   "execution_count": 25,
   "id": "fd299ee7ea19c863",
   "metadata": {
    "collapsed": false,
    "ExecuteTime": {
     "end_time": "2023-12-22T16:13:20.031363Z",
     "start_time": "2023-12-22T16:13:20.005527700Z"
    }
   },
   "outputs": [
    {
     "name": "stdout",
     "output_type": "stream",
     "text": [
      "Status\n",
      "Developed     22675.139269\n",
      "Developing     4338.408922\n",
      "Name: GDP, dtype: float64\n",
      "Country                              0\n",
      "Year                                 0\n",
      "Status                               0\n",
      "Adult Mortality                      0\n",
      "infant deaths                        0\n",
      "Alcohol                              0\n",
      "percentage expenditure               0\n",
      "Hepatitis B                          0\n",
      "Measles                              0\n",
      "BMI                                  0\n",
      "under-five deaths                    0\n",
      "Polio                                0\n",
      "Total expenditure                    0\n",
      "Diphtheria                           0\n",
      "HIV/AIDS                             0\n",
      "GDP                                  0\n",
      "Population                         361\n",
      "thinness  1-19 years                15\n",
      "thinness 5-9 years                  15\n",
      "Income composition of resources     83\n",
      "Schooling                           83\n",
      "dtype: int64\n",
      "Country                              0\n",
      "Year                                 0\n",
      "Status                               0\n",
      "Adult Mortality                      0\n",
      "infant deaths                        0\n",
      "Alcohol                              0\n",
      "percentage expenditure               0\n",
      "Hepatitis B                          0\n",
      "Measles                              0\n",
      "BMI                                  0\n",
      "under-five deaths                    0\n",
      "Polio                                0\n",
      "Total expenditure                    0\n",
      "Diphtheria                           0\n",
      "HIV/AIDS                             0\n",
      "GDP                                  0\n",
      "Population                         162\n",
      "thinness  1-19 years                 8\n",
      "thinness 5-9 years                   8\n",
      "Income composition of resources     41\n",
      "Schooling                           41\n",
      "dtype: int64\n",
      "Country                             0\n",
      "Year                                0\n",
      "Status                              0\n",
      "Adult Mortality                     0\n",
      "infant deaths                       0\n",
      "Alcohol                             0\n",
      "percentage expenditure              0\n",
      "Hepatitis B                         0\n",
      "Measles                             0\n",
      "BMI                                 0\n",
      "under-five deaths                   0\n",
      "Polio                               0\n",
      "Total expenditure                   0\n",
      "Diphtheria                          0\n",
      "HIV/AIDS                            0\n",
      "GDP                                 0\n",
      "Population                         79\n",
      "thinness  1-19 years                3\n",
      "thinness 5-9 years                  3\n",
      "Income composition of resources    18\n",
      "Schooling                          18\n",
      "dtype: int64\n",
      "***\n"
     ]
    }
   ],
   "source": [
    "avg_GDP = data_frame.groupby('Status')['GDP'].mean()\n",
    "print(avg_GDP)\n",
    "\n",
    "Xtrain['GDP'] = Xtrain.apply(lambda row :avg_GDP[row['Status']] if pd.isna(row['GDP']) else row['GDP'],axis =1)\n",
    "Xval['GDP'] = Xval.apply(lambda row :avg_GDP[row['Status']] if pd.isna(row['GDP']) else row['GDP'],axis =1)\n",
    "Xtest['GDP'] = Xtest.apply(lambda row :avg_GDP[row['Status']] if pd.isna(row['GDP']) else row['GDP'],axis =1)\n",
    "showMissing(Xtrain,Xval,Xtest)"
   ]
  },
  {
   "cell_type": "markdown",
   "id": "b82faa01f6023a7b",
   "metadata": {
    "collapsed": false
   },
   "source": [
    "Ted doplnime  thinness  1-19 years a thinness 5-9 years"
   ]
  },
  {
   "cell_type": "code",
   "execution_count": 26,
   "id": "e81d8c316660d462",
   "metadata": {
    "collapsed": false,
    "ExecuteTime": {
     "end_time": "2023-12-22T16:13:20.105867500Z",
     "start_time": "2023-12-22T16:13:20.031363Z"
    }
   },
   "outputs": [
    {
     "name": "stdout",
     "output_type": "stream",
     "text": [
      "Status\n",
      "Developed     1.286596\n",
      "Developing    5.694779\n",
      "Name: thinness 5-9 years, dtype: float64\n",
      "Status\n",
      "Developed     1.309362\n",
      "Developing    5.650090\n",
      "Name: thinness  1-19 years, dtype: float64\n",
      "Country                              0\n",
      "Year                                 0\n",
      "Status                               0\n",
      "Adult Mortality                      0\n",
      "infant deaths                        0\n",
      "Alcohol                              0\n",
      "percentage expenditure               0\n",
      "Hepatitis B                          0\n",
      "Measles                              0\n",
      "BMI                                  0\n",
      "under-five deaths                    0\n",
      "Polio                                0\n",
      "Total expenditure                    0\n",
      "Diphtheria                           0\n",
      "HIV/AIDS                             0\n",
      "GDP                                  0\n",
      "Population                         361\n",
      "thinness  1-19 years                 0\n",
      "thinness 5-9 years                   0\n",
      "Income composition of resources     83\n",
      "Schooling                           83\n",
      "dtype: int64\n",
      "Country                              0\n",
      "Year                                 0\n",
      "Status                               0\n",
      "Adult Mortality                      0\n",
      "infant deaths                        0\n",
      "Alcohol                              0\n",
      "percentage expenditure               0\n",
      "Hepatitis B                          0\n",
      "Measles                              0\n",
      "BMI                                  0\n",
      "under-five deaths                    0\n",
      "Polio                                0\n",
      "Total expenditure                    0\n",
      "Diphtheria                           0\n",
      "HIV/AIDS                             0\n",
      "GDP                                  0\n",
      "Population                         162\n",
      "thinness  1-19 years                 0\n",
      "thinness 5-9 years                   0\n",
      "Income composition of resources     41\n",
      "Schooling                           41\n",
      "dtype: int64\n",
      "Country                             0\n",
      "Year                                0\n",
      "Status                              0\n",
      "Adult Mortality                     0\n",
      "infant deaths                       0\n",
      "Alcohol                             0\n",
      "percentage expenditure              0\n",
      "Hepatitis B                         0\n",
      "Measles                             0\n",
      "BMI                                 0\n",
      "under-five deaths                   0\n",
      "Polio                               0\n",
      "Total expenditure                   0\n",
      "Diphtheria                          0\n",
      "HIV/AIDS                            0\n",
      "GDP                                 0\n",
      "Population                         79\n",
      "thinness  1-19 years                0\n",
      "thinness 5-9 years                  0\n",
      "Income composition of resources    18\n",
      "Schooling                          18\n",
      "dtype: int64\n",
      "***\n"
     ]
    }
   ],
   "source": [
    "avg_ThinSmall = data_frame.groupby('Status')['thinness 5-9 years'].mean()\n",
    "print(avg_ThinSmall)\n",
    "\n",
    "Xtrain['thinness 5-9 years'] = Xtrain.apply(lambda row :avg_ThinSmall[row['Status']] if pd.isna(row['thinness 5-9 years']) else row['thinness 5-9 years'],axis =1)\n",
    "Xval['thinness 5-9 years'] = Xval.apply(lambda row :avg_ThinSmall[row['Status']] if pd.isna(row['thinness 5-9 years']) else row['thinness 5-9 years'],axis =1)\n",
    "Xtest['thinness 5-9 years'] = Xtest.apply(lambda row :avg_ThinSmall[row['Status']] if pd.isna(row['thinness 5-9 years']) else row['thinness 5-9 years'],axis =1)\n",
    "\n",
    "avg_ThinBig = data_frame.groupby('Status')['thinness  1-19 years'].mean()\n",
    "print(avg_ThinBig)\n",
    "\n",
    "Xtrain['thinness  1-19 years'] = Xtrain.apply(lambda row :avg_ThinBig[row['Status']] if pd.isna(row['thinness  1-19 years']) else row['thinness  1-19 years'],axis =1)\n",
    "Xval['thinness  1-19 years'] = Xval.apply(lambda row :avg_ThinBig[row['Status']] if pd.isna(row['thinness  1-19 years']) else row['thinness  1-19 years'],axis =1)\n",
    "Xtest['thinness  1-19 years'] = Xtest.apply(lambda row :avg_ThinBig[row['Status']] if pd.isna(row['thinness  1-19 years']) else row['thinness  1-19 years'],axis =1)\n",
    "showMissing(Xtrain,Xval,Xtest)"
   ]
  },
  {
   "cell_type": "markdown",
   "id": "2de90bb9a90fec3f",
   "metadata": {
    "collapsed": false
   },
   "source": [
    "Zamerime se ted na populaci."
   ]
  },
  {
   "cell_type": "code",
   "execution_count": 27,
   "id": "cee4ecd1bb3cc3cb",
   "metadata": {
    "collapsed": false,
    "ExecuteTime": {
     "end_time": "2023-12-22T16:13:20.106868700Z",
     "start_time": "2023-12-22T16:13:20.076749800Z"
    }
   },
   "outputs": [
    {
     "name": "stdout",
     "output_type": "stream",
     "text": [
      "Country                             0\n",
      "Year                                0\n",
      "Status                              0\n",
      "Adult Mortality                     0\n",
      "infant deaths                       0\n",
      "Alcohol                             0\n",
      "percentage expenditure              0\n",
      "Hepatitis B                         0\n",
      "Measles                             0\n",
      "BMI                                 0\n",
      "under-five deaths                   0\n",
      "Polio                               0\n",
      "Total expenditure                   0\n",
      "Diphtheria                          0\n",
      "HIV/AIDS                            0\n",
      "GDP                                 0\n",
      "thinness  1-19 years                0\n",
      "thinness 5-9 years                  0\n",
      "Income composition of resources    83\n",
      "Schooling                          83\n",
      "Population_cat                      0\n",
      "dtype: int64\n",
      "Country                             0\n",
      "Year                                0\n",
      "Status                              0\n",
      "Adult Mortality                     0\n",
      "infant deaths                       0\n",
      "Alcohol                             0\n",
      "percentage expenditure              0\n",
      "Hepatitis B                         0\n",
      "Measles                             0\n",
      "BMI                                 0\n",
      "under-five deaths                   0\n",
      "Polio                               0\n",
      "Total expenditure                   0\n",
      "Diphtheria                          0\n",
      "HIV/AIDS                            0\n",
      "GDP                                 0\n",
      "thinness  1-19 years                0\n",
      "thinness 5-9 years                  0\n",
      "Income composition of resources    41\n",
      "Schooling                          41\n",
      "Population_cat                      0\n",
      "dtype: int64\n",
      "Country                             0\n",
      "Year                                0\n",
      "Status                              0\n",
      "Adult Mortality                     0\n",
      "infant deaths                       0\n",
      "Alcohol                             0\n",
      "percentage expenditure              0\n",
      "Hepatitis B                         0\n",
      "Measles                             0\n",
      "BMI                                 0\n",
      "under-five deaths                   0\n",
      "Polio                               0\n",
      "Total expenditure                   0\n",
      "Diphtheria                          0\n",
      "HIV/AIDS                            0\n",
      "GDP                                 0\n",
      "thinness  1-19 years                0\n",
      "thinness 5-9 years                  0\n",
      "Income composition of resources    18\n",
      "Schooling                          18\n",
      "Population_cat                      0\n",
      "dtype: int64\n",
      "***\n"
     ]
    }
   ],
   "source": [
    "bins_pop = [0,1000000,10000000,float('inf')]\n",
    "bins_label =['small_pop','middle_pop','big_pop']\n",
    "\n",
    "Xtrain['Population_cat'] = pd.cut(Xtrain['Population'], bins=bins_pop, labels=bins_label, right=False, include_lowest=True)\n",
    "Xtrain['Population_cat'] = pd.Categorical(Xtrain['Population_cat'], categories=bins_label + ['DUNNO'])\n",
    "Xtrain['Population_cat'].fillna('DUNNO', inplace=True)\n",
    "Xtrain = Xtrain.drop('Population',axis=1)\n",
    "\n",
    "Xval['Population_cat'] = pd.cut(Xval['Population'], bins=bins_pop, labels=bins_label, right=False, include_lowest=True)\n",
    "Xval['Population_cat'] = pd.Categorical(Xval['Population_cat'], categories=bins_label + ['DUNNO'])\n",
    "Xval['Population_cat'].fillna('DUNNO', inplace=True)\n",
    "Xval = Xval.drop('Population',axis=1)\n",
    "\n",
    "Xtest['Population_cat'] = pd.cut(Xtest['Population'], bins=bins_pop, labels=bins_label, right=False, include_lowest=True)\n",
    "Xtest['Population_cat'] = pd.Categorical(Xtest['Population_cat'], categories=bins_label + ['DUNNO'])\n",
    "Xtest['Population_cat'].fillna('DUNNO', inplace=True)\n",
    "Xtest = Xtest.drop('Population',axis=1)\n",
    "\n",
    "showMissing(Xtrain,Xval,Xtest)"
   ]
  },
  {
   "cell_type": "markdown",
   "id": "f51daff29e4596f0",
   "metadata": {
    "collapsed": false
   },
   "source": [
    "Dale doplnim v podobne styl Income Resources"
   ]
  },
  {
   "cell_type": "code",
   "execution_count": 28,
   "id": "53ab1bab765e3665",
   "metadata": {
    "collapsed": false,
    "ExecuteTime": {
     "end_time": "2023-12-22T16:13:20.108869400Z",
     "start_time": "2023-12-22T16:13:20.092440700Z"
    }
   },
   "outputs": [
    {
     "name": "stdout",
     "output_type": "stream",
     "text": [
      "Country                    0\n",
      "Year                       0\n",
      "Status                     0\n",
      "Adult Mortality            0\n",
      "infant deaths              0\n",
      "Alcohol                    0\n",
      "percentage expenditure     0\n",
      "Hepatitis B                0\n",
      "Measles                    0\n",
      "BMI                        0\n",
      "under-five deaths          0\n",
      "Polio                      0\n",
      "Total expenditure          0\n",
      "Diphtheria                 0\n",
      "HIV/AIDS                   0\n",
      "GDP                        0\n",
      "thinness  1-19 years       0\n",
      "thinness 5-9 years         0\n",
      "Schooling                 83\n",
      "Population_cat             0\n",
      "Income_cat                 0\n",
      "dtype: int64\n",
      "Country                    0\n",
      "Year                       0\n",
      "Status                     0\n",
      "Adult Mortality            0\n",
      "infant deaths              0\n",
      "Alcohol                    0\n",
      "percentage expenditure     0\n",
      "Hepatitis B                0\n",
      "Measles                    0\n",
      "BMI                        0\n",
      "under-five deaths          0\n",
      "Polio                      0\n",
      "Total expenditure          0\n",
      "Diphtheria                 0\n",
      "HIV/AIDS                   0\n",
      "GDP                        0\n",
      "thinness  1-19 years       0\n",
      "thinness 5-9 years         0\n",
      "Schooling                 41\n",
      "Population_cat             0\n",
      "Income_cat                 0\n",
      "dtype: int64\n",
      "Country                    0\n",
      "Year                       0\n",
      "Status                     0\n",
      "Adult Mortality            0\n",
      "infant deaths              0\n",
      "Alcohol                    0\n",
      "percentage expenditure     0\n",
      "Hepatitis B                0\n",
      "Measles                    0\n",
      "BMI                        0\n",
      "under-five deaths          0\n",
      "Polio                      0\n",
      "Total expenditure          0\n",
      "Diphtheria                 0\n",
      "HIV/AIDS                   0\n",
      "GDP                        0\n",
      "thinness  1-19 years       0\n",
      "thinness 5-9 years         0\n",
      "Schooling                 18\n",
      "Population_cat             0\n",
      "Income_cat                 0\n",
      "dtype: int64\n",
      "***\n"
     ]
    }
   ],
   "source": [
    "bins_res = [0,0.2,0.4,0.6,0.8,1]\n",
    "bins_label =['small','smallish','middle','bigger','top']\n",
    "\n",
    "Xtrain['Income_cat'] = pd.cut(Xtrain['Income composition of resources'], bins=bins_res, labels=bins_label, right=False, include_lowest=True)\n",
    "Xtrain['Income_cat'] = pd.Categorical(Xtrain['Income_cat'], categories=bins_label + ['DUNNO'])\n",
    "Xtrain['Income_cat'].fillna('DUNNO', inplace=True)\n",
    "Xtrain = Xtrain.drop('Income composition of resources',axis=1)\n",
    "\n",
    "Xval['Income_cat'] = pd.cut(Xval['Income composition of resources'], bins=bins_res, labels=bins_label, right=False, include_lowest=True)\n",
    "Xval['Income_cat'] = pd.Categorical(Xval['Income_cat'], categories=bins_label + ['DUNNO'])\n",
    "Xval['Income_cat'].fillna('DUNNO', inplace=True)\n",
    "Xval = Xval.drop('Income composition of resources',axis=1)\n",
    "\n",
    "Xtest['Income_cat'] = pd.cut(Xtest['Income composition of resources'], bins=bins_res, labels=bins_label, right=False, include_lowest=True)\n",
    "Xtest['Income_cat'] = pd.Categorical(Xtest['Income_cat'], categories=bins_label + ['DUNNO'])\n",
    "Xtest['Income_cat'].fillna('DUNNO', inplace=True)\n",
    "Xtest = Xtest.drop('Income composition of resources',axis=1)\n",
    "\n",
    "showMissing(Xtrain,Xval,Xtest)"
   ]
  },
  {
   "cell_type": "markdown",
   "id": "16850f130a0e7c1a",
   "metadata": {
    "collapsed": false
   },
   "source": [
    "Nakonec i stejnym zpusobem doplnime Schooling"
   ]
  },
  {
   "cell_type": "code",
   "execution_count": 29,
   "id": "91ced8f5b6fb20a9",
   "metadata": {
    "collapsed": false,
    "ExecuteTime": {
     "end_time": "2023-12-22T16:13:20.130634200Z",
     "start_time": "2023-12-22T16:13:20.107868300Z"
    }
   },
   "outputs": [
    {
     "name": "stdout",
     "output_type": "stream",
     "text": [
      "Country                   0\n",
      "Year                      0\n",
      "Status                    0\n",
      "Adult Mortality           0\n",
      "infant deaths             0\n",
      "Alcohol                   0\n",
      "percentage expenditure    0\n",
      "Hepatitis B               0\n",
      "Measles                   0\n",
      "BMI                       0\n",
      "under-five deaths         0\n",
      "Polio                     0\n",
      "Total expenditure         0\n",
      "Diphtheria                0\n",
      "HIV/AIDS                  0\n",
      "GDP                       0\n",
      "thinness  1-19 years      0\n",
      "thinness 5-9 years        0\n",
      "Population_cat            0\n",
      "Income_cat                0\n",
      "School_cat                0\n",
      "dtype: int64\n",
      "Country                   0\n",
      "Year                      0\n",
      "Status                    0\n",
      "Adult Mortality           0\n",
      "infant deaths             0\n",
      "Alcohol                   0\n",
      "percentage expenditure    0\n",
      "Hepatitis B               0\n",
      "Measles                   0\n",
      "BMI                       0\n",
      "under-five deaths         0\n",
      "Polio                     0\n",
      "Total expenditure         0\n",
      "Diphtheria                0\n",
      "HIV/AIDS                  0\n",
      "GDP                       0\n",
      "thinness  1-19 years      0\n",
      "thinness 5-9 years        0\n",
      "Population_cat            0\n",
      "Income_cat                0\n",
      "School_cat                0\n",
      "dtype: int64\n",
      "Country                   0\n",
      "Year                      0\n",
      "Status                    0\n",
      "Adult Mortality           0\n",
      "infant deaths             0\n",
      "Alcohol                   0\n",
      "percentage expenditure    0\n",
      "Hepatitis B               0\n",
      "Measles                   0\n",
      "BMI                       0\n",
      "under-five deaths         0\n",
      "Polio                     0\n",
      "Total expenditure         0\n",
      "Diphtheria                0\n",
      "HIV/AIDS                  0\n",
      "GDP                       0\n",
      "thinness  1-19 years      0\n",
      "thinness 5-9 years        0\n",
      "Population_cat            0\n",
      "Income_cat                0\n",
      "School_cat                0\n",
      "dtype: int64\n",
      "***\n"
     ]
    }
   ],
   "source": [
    "bins_school = [0,2,5,8,10]\n",
    "bins_label =['low_ed','small_ed','middle_ed','high_ed']\n",
    "\n",
    "Xtrain['School_cat'] = pd.cut(Xtrain['Schooling'], bins=bins_school, labels=bins_label, right=False, include_lowest=True)\n",
    "Xtrain['School_cat'] = pd.Categorical(Xtrain['School_cat'], categories=bins_label + ['DUNNO'])\n",
    "Xtrain['School_cat'].fillna('DUNNO', inplace=True)\n",
    "Xtrain = Xtrain.drop('Schooling',axis=1)\n",
    "\n",
    "Xval['School_cat'] = pd.cut(Xval['Schooling'], bins=bins_school, labels=bins_label, right=False, include_lowest=True)\n",
    "Xval['School_cat'] = pd.Categorical(Xval['School_cat'], categories=bins_label + ['DUNNO'])\n",
    "Xval['School_cat'].fillna('DUNNO', inplace=True)\n",
    "Xval = Xval.drop('Schooling',axis=1)\n",
    "\n",
    "Xtest['School_cat'] = pd.cut(Xtest['Schooling'], bins=bins_school, labels=bins_label, right=False, include_lowest=True)\n",
    "Xtest['School_cat'] = pd.Categorical(Xtest['School_cat'], categories=bins_label + ['DUNNO'])\n",
    "Xtest['School_cat'].fillna('DUNNO', inplace=True)\n",
    "Xtest = Xtest.drop('Schooling',axis=1)\n",
    "\n",
    "showMissing(Xtrain,Xval,Xtest)"
   ]
  },
  {
   "cell_type": "markdown",
   "id": "5d6ad61e867de40e",
   "metadata": {
    "collapsed": false
   },
   "source": [
    "# Predzpracovani dat #\n",
    "!! Uz hned na zacatku jsem se rozhodl prevest priznaky na cislene typy, jsem tak nauceny a je to pro mne prehlednejsi si to udelat hned.\n",
    "Vsechny neciselne priznaky si budu muset prevest na nejaky cieslny datovy typ. Pro Country pouziji prevod na Category a pomoci cat.codes prevedu na ciselny typ.\n",
    "U Status muzu binarne prevest jako Developed = 1, Developing = 0."
   ]
  },
  {
   "cell_type": "code",
   "execution_count": 30,
   "id": "a38f0484de8ab250",
   "metadata": {
    "collapsed": false,
    "ExecuteTime": {
     "end_time": "2023-12-22T16:13:20.130634200Z",
     "start_time": "2023-12-22T16:13:20.122638700Z"
    }
   },
   "outputs": [],
   "source": [
    "def showSets(train,val,test):\n",
    "    list = []\n",
    "    list.append(train)\n",
    "    list.append(val)\n",
    "    list.append(test)\n",
    "    for set in list:\n",
    "        print(set.info())\n",
    "    print(\"***\")"
   ]
  },
  {
   "cell_type": "code",
   "execution_count": 31,
   "id": "bd97b15efeacac7f",
   "metadata": {
    "collapsed": false,
    "ExecuteTime": {
     "end_time": "2023-12-22T16:13:20.269582100Z",
     "start_time": "2023-12-22T16:13:20.126616200Z"
    }
   },
   "outputs": [
    {
     "name": "stdout",
     "output_type": "stream",
     "text": [
      "<class 'pandas.core.frame.DataFrame'>\n",
      "Index: 1630 entries, 207 to 860\n",
      "Data columns (total 21 columns):\n",
      " #   Column                  Non-Null Count  Dtype   \n",
      "---  ------                  --------------  -----   \n",
      " 0   Country                 1630 non-null   int16   \n",
      " 1   Year                    1630 non-null   int64   \n",
      " 2   Status                  1630 non-null   object  \n",
      " 3   Adult Mortality         1630 non-null   float64 \n",
      " 4   infant deaths           1630 non-null   int64   \n",
      " 5   Alcohol                 1630 non-null   float64 \n",
      " 6   percentage expenditure  1630 non-null   float64 \n",
      " 7   Hepatitis B             1630 non-null   float64 \n",
      " 8   Measles                 1630 non-null   int64   \n",
      " 9   BMI                     1630 non-null   float64 \n",
      " 10  under-five deaths       1630 non-null   int64   \n",
      " 11  Polio                   1630 non-null   float64 \n",
      " 12  Total expenditure       1630 non-null   float64 \n",
      " 13  Diphtheria              1630 non-null   float64 \n",
      " 14  HIV/AIDS                1630 non-null   float64 \n",
      " 15  GDP                     1630 non-null   float64 \n",
      " 16  thinness  1-19 years    1630 non-null   float64 \n",
      " 17  thinness 5-9 years      1630 non-null   float64 \n",
      " 18  Population_cat          1630 non-null   category\n",
      " 19  Income_cat              1630 non-null   category\n",
      " 20  School_cat              1630 non-null   category\n",
      "dtypes: category(3), float64(12), int16(1), int64(4), object(1)\n",
      "memory usage: 237.8+ KB\n",
      "None\n",
      "<class 'pandas.core.frame.DataFrame'>\n",
      "Index: 761 entries, 115 to 1211\n",
      "Data columns (total 21 columns):\n",
      " #   Column                  Non-Null Count  Dtype   \n",
      "---  ------                  --------------  -----   \n",
      " 0   Country                 761 non-null    int16   \n",
      " 1   Year                    761 non-null    int64   \n",
      " 2   Status                  761 non-null    object  \n",
      " 3   Adult Mortality         761 non-null    float64 \n",
      " 4   infant deaths           761 non-null    int64   \n",
      " 5   Alcohol                 761 non-null    float64 \n",
      " 6   percentage expenditure  761 non-null    float64 \n",
      " 7   Hepatitis B             761 non-null    float64 \n",
      " 8   Measles                 761 non-null    int64   \n",
      " 9   BMI                     761 non-null    float64 \n",
      " 10  under-five deaths       761 non-null    int64   \n",
      " 11  Polio                   761 non-null    float64 \n",
      " 12  Total expenditure       761 non-null    float64 \n",
      " 13  Diphtheria              761 non-null    float64 \n",
      " 14  HIV/AIDS                761 non-null    float64 \n",
      " 15  GDP                     761 non-null    float64 \n",
      " 16  thinness  1-19 years    761 non-null    float64 \n",
      " 17  thinness 5-9 years      761 non-null    float64 \n",
      " 18  Population_cat          761 non-null    category\n",
      " 19  Income_cat              761 non-null    category\n",
      " 20  School_cat              761 non-null    category\n",
      "dtypes: category(3), float64(12), int16(1), int64(4), object(1)\n",
      "memory usage: 111.4+ KB\n",
      "None\n",
      "<class 'pandas.core.frame.DataFrame'>\n",
      "Index: 327 entries, 1804 to 1655\n",
      "Data columns (total 21 columns):\n",
      " #   Column                  Non-Null Count  Dtype   \n",
      "---  ------                  --------------  -----   \n",
      " 0   Country                 327 non-null    int16   \n",
      " 1   Year                    327 non-null    int64   \n",
      " 2   Status                  327 non-null    object  \n",
      " 3   Adult Mortality         327 non-null    float64 \n",
      " 4   infant deaths           327 non-null    int64   \n",
      " 5   Alcohol                 327 non-null    float64 \n",
      " 6   percentage expenditure  327 non-null    float64 \n",
      " 7   Hepatitis B             327 non-null    float64 \n",
      " 8   Measles                 327 non-null    int64   \n",
      " 9   BMI                     327 non-null    float64 \n",
      " 10  under-five deaths       327 non-null    int64   \n",
      " 11  Polio                   327 non-null    float64 \n",
      " 12  Total expenditure       327 non-null    float64 \n",
      " 13  Diphtheria              327 non-null    float64 \n",
      " 14  HIV/AIDS                327 non-null    float64 \n",
      " 15  GDP                     327 non-null    float64 \n",
      " 16  thinness  1-19 years    327 non-null    float64 \n",
      " 17  thinness 5-9 years      327 non-null    float64 \n",
      " 18  Population_cat          327 non-null    category\n",
      " 19  Income_cat              327 non-null    category\n",
      " 20  School_cat              327 non-null    category\n",
      "dtypes: category(3), float64(12), int16(1), int64(4), object(1)\n",
      "memory usage: 48.2+ KB\n",
      "None\n",
      "***\n"
     ]
    }
   ],
   "source": [
    "Xtrain['Country'] = Xtrain['Country'].astype('category')\n",
    "Xtrain['Country'] = Xtrain['Country'].cat.codes\n",
    "\n",
    "Xval['Country'] = Xval['Country'].astype('category')\n",
    "Xval['Country'] = Xval['Country'].cat.codes\n",
    "\n",
    "Xtest['Country'] = Xtest['Country'].astype('category')\n",
    "Xtest['Country'] = Xtest['Country'].cat.codes\n",
    "\n",
    "showSets(Xtrain,Xval,Xtest)"
   ]
  },
  {
   "cell_type": "code",
   "execution_count": 32,
   "id": "67fd193c6d9effb4",
   "metadata": {
    "collapsed": false,
    "ExecuteTime": {
     "end_time": "2023-12-22T16:13:20.272091900Z",
     "start_time": "2023-12-22T16:13:20.155026800Z"
    }
   },
   "outputs": [
    {
     "name": "stdout",
     "output_type": "stream",
     "text": [
      "<class 'pandas.core.frame.DataFrame'>\n",
      "Index: 1630 entries, 207 to 860\n",
      "Data columns (total 22 columns):\n",
      " #   Column                  Non-Null Count  Dtype   \n",
      "---  ------                  --------------  -----   \n",
      " 0   Country                 1630 non-null   int16   \n",
      " 1   Year                    1630 non-null   int64   \n",
      " 2   Adult Mortality         1630 non-null   float64 \n",
      " 3   infant deaths           1630 non-null   int64   \n",
      " 4   Alcohol                 1630 non-null   float64 \n",
      " 5   percentage expenditure  1630 non-null   float64 \n",
      " 6   Hepatitis B             1630 non-null   float64 \n",
      " 7   Measles                 1630 non-null   int64   \n",
      " 8   BMI                     1630 non-null   float64 \n",
      " 9   under-five deaths       1630 non-null   int64   \n",
      " 10  Polio                   1630 non-null   float64 \n",
      " 11  Total expenditure       1630 non-null   float64 \n",
      " 12  Diphtheria              1630 non-null   float64 \n",
      " 13  HIV/AIDS                1630 non-null   float64 \n",
      " 14  GDP                     1630 non-null   float64 \n",
      " 15  thinness  1-19 years    1630 non-null   float64 \n",
      " 16  thinness 5-9 years      1630 non-null   float64 \n",
      " 17  Population_cat          1630 non-null   category\n",
      " 18  Income_cat              1630 non-null   category\n",
      " 19  School_cat              1630 non-null   category\n",
      " 20  Status_Developed        1630 non-null   int64   \n",
      " 21  Status_Developing       1630 non-null   int64   \n",
      "dtypes: category(3), float64(12), int16(1), int64(6)\n",
      "memory usage: 250.5 KB\n",
      "None\n",
      "<class 'pandas.core.frame.DataFrame'>\n",
      "Index: 761 entries, 115 to 1211\n",
      "Data columns (total 22 columns):\n",
      " #   Column                  Non-Null Count  Dtype   \n",
      "---  ------                  --------------  -----   \n",
      " 0   Country                 761 non-null    int16   \n",
      " 1   Year                    761 non-null    int64   \n",
      " 2   Adult Mortality         761 non-null    float64 \n",
      " 3   infant deaths           761 non-null    int64   \n",
      " 4   Alcohol                 761 non-null    float64 \n",
      " 5   percentage expenditure  761 non-null    float64 \n",
      " 6   Hepatitis B             761 non-null    float64 \n",
      " 7   Measles                 761 non-null    int64   \n",
      " 8   BMI                     761 non-null    float64 \n",
      " 9   under-five deaths       761 non-null    int64   \n",
      " 10  Polio                   761 non-null    float64 \n",
      " 11  Total expenditure       761 non-null    float64 \n",
      " 12  Diphtheria              761 non-null    float64 \n",
      " 13  HIV/AIDS                761 non-null    float64 \n",
      " 14  GDP                     761 non-null    float64 \n",
      " 15  thinness  1-19 years    761 non-null    float64 \n",
      " 16  thinness 5-9 years      761 non-null    float64 \n",
      " 17  Population_cat          761 non-null    category\n",
      " 18  Income_cat              761 non-null    category\n",
      " 19  School_cat              761 non-null    category\n",
      " 20  Status_Developed        761 non-null    int64   \n",
      " 21  Status_Developing       761 non-null    int64   \n",
      "dtypes: category(3), float64(12), int16(1), int64(6)\n",
      "memory usage: 117.3 KB\n",
      "None\n",
      "<class 'pandas.core.frame.DataFrame'>\n",
      "Index: 327 entries, 1804 to 1655\n",
      "Data columns (total 22 columns):\n",
      " #   Column                  Non-Null Count  Dtype   \n",
      "---  ------                  --------------  -----   \n",
      " 0   Country                 327 non-null    int16   \n",
      " 1   Year                    327 non-null    int64   \n",
      " 2   Adult Mortality         327 non-null    float64 \n",
      " 3   infant deaths           327 non-null    int64   \n",
      " 4   Alcohol                 327 non-null    float64 \n",
      " 5   percentage expenditure  327 non-null    float64 \n",
      " 6   Hepatitis B             327 non-null    float64 \n",
      " 7   Measles                 327 non-null    int64   \n",
      " 8   BMI                     327 non-null    float64 \n",
      " 9   under-five deaths       327 non-null    int64   \n",
      " 10  Polio                   327 non-null    float64 \n",
      " 11  Total expenditure       327 non-null    float64 \n",
      " 12  Diphtheria              327 non-null    float64 \n",
      " 13  HIV/AIDS                327 non-null    float64 \n",
      " 14  GDP                     327 non-null    float64 \n",
      " 15  thinness  1-19 years    327 non-null    float64 \n",
      " 16  thinness 5-9 years      327 non-null    float64 \n",
      " 17  Population_cat          327 non-null    category\n",
      " 18  Income_cat              327 non-null    category\n",
      " 19  School_cat              327 non-null    category\n",
      " 20  Status_Developed        327 non-null    int64   \n",
      " 21  Status_Developing       327 non-null    int64   \n",
      "dtypes: category(3), float64(12), int16(1), int64(6)\n",
      "memory usage: 50.8 KB\n",
      "None\n",
      "***\n"
     ]
    }
   ],
   "source": [
    "Xtrain = pd.get_dummies(Xtrain,columns=['Status'],prefix='Status',drop_first=False)\n",
    "Xtrain['Status_Developed'] = Xtrain['Status_Developed'].replace({True: 1, False: 0})\n",
    "Xtrain['Status_Developing'] = Xtrain['Status_Developing'].replace({True: 1, False: 0})\n",
    "\n",
    "Xval = pd.get_dummies(Xval,columns=['Status'],prefix='Status',drop_first=False)\n",
    "Xval['Status_Developed'] = Xval['Status_Developed'].replace({True: 1, False: 0})\n",
    "Xval['Status_Developing'] = Xval['Status_Developing'].replace({True: 1, False: 0})\n",
    "\n",
    "Xtest = pd.get_dummies(Xtest,columns=['Status'],prefix='Status',drop_first=False)\n",
    "Xtest['Status_Developed'] = Xtest['Status_Developed'].replace({True: 1, False: 0})\n",
    "Xtest['Status_Developing'] = Xtest['Status_Developing'].replace({True: 1, False: 0})\n",
    "\n",
    "showSets(Xtrain,Xval,Xtest)"
   ]
  },
  {
   "cell_type": "markdown",
   "id": "62efb94c4881c88f",
   "metadata": {
    "collapsed": false
   },
   "source": [
    "Jeste nam zbyva prevest nase nove vytvorene priznaky typu category na ciselne typu. Pouzijeme cat,codes.\n"
   ]
  },
  {
   "cell_type": "code",
   "execution_count": 33,
   "id": "19633488c774b13",
   "metadata": {
    "collapsed": false,
    "ExecuteTime": {
     "end_time": "2023-12-22T16:13:20.272091900Z",
     "start_time": "2023-12-22T16:13:20.183365700Z"
    }
   },
   "outputs": [
    {
     "name": "stdout",
     "output_type": "stream",
     "text": [
      "<class 'pandas.core.frame.DataFrame'>\n",
      "Index: 1630 entries, 207 to 860\n",
      "Data columns (total 22 columns):\n",
      " #   Column                  Non-Null Count  Dtype  \n",
      "---  ------                  --------------  -----  \n",
      " 0   Country                 1630 non-null   int16  \n",
      " 1   Year                    1630 non-null   int64  \n",
      " 2   Adult Mortality         1630 non-null   float64\n",
      " 3   infant deaths           1630 non-null   int64  \n",
      " 4   Alcohol                 1630 non-null   float64\n",
      " 5   percentage expenditure  1630 non-null   float64\n",
      " 6   Hepatitis B             1630 non-null   float64\n",
      " 7   Measles                 1630 non-null   int64  \n",
      " 8   BMI                     1630 non-null   float64\n",
      " 9   under-five deaths       1630 non-null   int64  \n",
      " 10  Polio                   1630 non-null   float64\n",
      " 11  Total expenditure       1630 non-null   float64\n",
      " 12  Diphtheria              1630 non-null   float64\n",
      " 13  HIV/AIDS                1630 non-null   float64\n",
      " 14  GDP                     1630 non-null   float64\n",
      " 15  thinness  1-19 years    1630 non-null   float64\n",
      " 16  thinness 5-9 years      1630 non-null   float64\n",
      " 17  Population_cat          1630 non-null   int8   \n",
      " 18  Income_cat              1630 non-null   int8   \n",
      " 19  School_cat              1630 non-null   int8   \n",
      " 20  Status_Developed        1630 non-null   int64  \n",
      " 21  Status_Developing       1630 non-null   int64  \n",
      "dtypes: float64(12), int16(1), int64(6), int8(3)\n",
      "memory usage: 249.9 KB\n",
      "None\n",
      "<class 'pandas.core.frame.DataFrame'>\n",
      "Index: 761 entries, 115 to 1211\n",
      "Data columns (total 22 columns):\n",
      " #   Column                  Non-Null Count  Dtype  \n",
      "---  ------                  --------------  -----  \n",
      " 0   Country                 761 non-null    int16  \n",
      " 1   Year                    761 non-null    int64  \n",
      " 2   Adult Mortality         761 non-null    float64\n",
      " 3   infant deaths           761 non-null    int64  \n",
      " 4   Alcohol                 761 non-null    float64\n",
      " 5   percentage expenditure  761 non-null    float64\n",
      " 6   Hepatitis B             761 non-null    float64\n",
      " 7   Measles                 761 non-null    int64  \n",
      " 8   BMI                     761 non-null    float64\n",
      " 9   under-five deaths       761 non-null    int64  \n",
      " 10  Polio                   761 non-null    float64\n",
      " 11  Total expenditure       761 non-null    float64\n",
      " 12  Diphtheria              761 non-null    float64\n",
      " 13  HIV/AIDS                761 non-null    float64\n",
      " 14  GDP                     761 non-null    float64\n",
      " 15  thinness  1-19 years    761 non-null    float64\n",
      " 16  thinness 5-9 years      761 non-null    float64\n",
      " 17  Population_cat          761 non-null    int8   \n",
      " 18  Income_cat              761 non-null    int8   \n",
      " 19  School_cat              761 non-null    int8   \n",
      " 20  Status_Developed        761 non-null    int64  \n",
      " 21  Status_Developing       761 non-null    int64  \n",
      "dtypes: float64(12), int16(1), int64(6), int8(3)\n",
      "memory usage: 116.7 KB\n",
      "None\n",
      "<class 'pandas.core.frame.DataFrame'>\n",
      "Index: 327 entries, 1804 to 1655\n",
      "Data columns (total 22 columns):\n",
      " #   Column                  Non-Null Count  Dtype  \n",
      "---  ------                  --------------  -----  \n",
      " 0   Country                 327 non-null    int16  \n",
      " 1   Year                    327 non-null    int64  \n",
      " 2   Adult Mortality         327 non-null    float64\n",
      " 3   infant deaths           327 non-null    int64  \n",
      " 4   Alcohol                 327 non-null    float64\n",
      " 5   percentage expenditure  327 non-null    float64\n",
      " 6   Hepatitis B             327 non-null    float64\n",
      " 7   Measles                 327 non-null    int64  \n",
      " 8   BMI                     327 non-null    float64\n",
      " 9   under-five deaths       327 non-null    int64  \n",
      " 10  Polio                   327 non-null    float64\n",
      " 11  Total expenditure       327 non-null    float64\n",
      " 12  Diphtheria              327 non-null    float64\n",
      " 13  HIV/AIDS                327 non-null    float64\n",
      " 14  GDP                     327 non-null    float64\n",
      " 15  thinness  1-19 years    327 non-null    float64\n",
      " 16  thinness 5-9 years      327 non-null    float64\n",
      " 17  Population_cat          327 non-null    int8   \n",
      " 18  Income_cat              327 non-null    int8   \n",
      " 19  School_cat              327 non-null    int8   \n",
      " 20  Status_Developed        327 non-null    int64  \n",
      " 21  Status_Developing       327 non-null    int64  \n",
      "dtypes: float64(12), int16(1), int64(6), int8(3)\n",
      "memory usage: 50.1 KB\n",
      "None\n",
      "***\n"
     ]
    }
   ],
   "source": [
    "Xtrain['Population_cat'] = Xtrain['Population_cat'].astype('category')\n",
    "Xtrain['Population_cat'] = Xtrain['Population_cat'].cat.codes\n",
    "\n",
    "Xval['Population_cat'] = Xval['Population_cat'].astype('category')\n",
    "Xval['Population_cat'] = Xval['Population_cat'].cat.codes\n",
    "\n",
    "Xtest['Population_cat'] = Xtest['Population_cat'].astype('category')\n",
    "Xtest['Population_cat'] = Xtest['Population_cat'].cat.codes\n",
    "\n",
    "Xtrain['Income_cat'] = Xtrain['Income_cat'].astype('category')\n",
    "Xtrain['Income_cat'] = Xtrain['Income_cat'].cat.codes\n",
    "\n",
    "Xval['Income_cat'] = Xval['Income_cat'].astype('category')\n",
    "Xval['Income_cat'] = Xval['Income_cat'].cat.codes\n",
    "\n",
    "Xtest['Income_cat'] = Xtest['Income_cat'].astype('category')\n",
    "Xtest['Income_cat'] = Xtest['Income_cat'].cat.codes\n",
    "\n",
    "Xtrain['School_cat'] = Xtrain['School_cat'].astype('category')\n",
    "Xtrain['School_cat'] = Xtrain['School_cat'].cat.codes\n",
    "\n",
    "Xval['School_cat'] = Xval['School_cat'].astype('category')\n",
    "Xval['School_cat'] = Xval['School_cat'].cat.codes\n",
    "\n",
    "Xtest['School_cat'] = Xtest['School_cat'].astype('category')\n",
    "Xtest['School_cat'] = Xtest['School_cat'].cat.codes\n",
    "\n",
    "showSets(Xtrain,Xval,Xtest)"
   ]
  },
  {
   "cell_type": "markdown",
   "id": "6335bc80cd0cf604",
   "metadata": {
    "collapsed": false
   },
   "source": [
    "Nyni prevedeme vsechny priznaku typu float na datovy typ int.\n",
    "(Uprava -- nakonec tuto promenu nebudu vykonavat.\n",
    "Ponechavam, kdybych se nakonec rozhodl tuto promenu pozuit.)"
   ]
  },
  {
   "cell_type": "code",
   "execution_count": 34,
   "id": "10408ba2c746a433",
   "metadata": {
    "collapsed": false,
    "ExecuteTime": {
     "end_time": "2023-12-22T16:13:20.273092Z",
     "start_time": "2023-12-22T16:13:20.208911900Z"
    }
   },
   "outputs": [],
   "source": [
    "#for column in data_frame.columns:\n",
    "#    if data_frame[column].dtype == 'float64':\n",
    "#        data_frame[column] = data_frame[column].astype(int)"
   ]
  },
  {
   "cell_type": "markdown",
   "id": "f4320daba34c7172",
   "metadata": {
    "collapsed": false
   },
   "source": [
    "Nyni mame vsechny priznaky zapsane jako cisleny datovy typ."
   ]
  },
  {
   "cell_type": "markdown",
   "id": "82ca18355a25703",
   "metadata": {
    "collapsed": false
   },
   "source": [
    "Naposled se podivame jak nase data vypadaji, nez je zacneme pouzivat."
   ]
  },
  {
   "cell_type": "code",
   "execution_count": 35,
   "id": "ef378a97b4de20cc",
   "metadata": {
    "collapsed": false,
    "ExecuteTime": {
     "end_time": "2023-12-22T16:13:20.273092Z",
     "start_time": "2023-12-22T16:13:20.210920400Z"
    }
   },
   "outputs": [],
   "source": [
    "def showHead(train,val,test):\n",
    "    list = []\n",
    "    list.append(train)\n",
    "    list.append(val)\n",
    "    list.append(test)\n",
    "    for set in list:\n",
    "        print(set.info())\n",
    "    print(\"***\")"
   ]
  },
  {
   "cell_type": "code",
   "execution_count": 36,
   "id": "69913e547fb2b12c",
   "metadata": {
    "collapsed": false,
    "ExecuteTime": {
     "end_time": "2023-12-22T16:13:20.274092200Z",
     "start_time": "2023-12-22T16:13:20.214488900Z"
    }
   },
   "outputs": [
    {
     "name": "stdout",
     "output_type": "stream",
     "text": [
      "<class 'pandas.core.frame.DataFrame'>\n",
      "Index: 1630 entries, 207 to 860\n",
      "Data columns (total 22 columns):\n",
      " #   Column                  Non-Null Count  Dtype  \n",
      "---  ------                  --------------  -----  \n",
      " 0   Country                 1630 non-null   int16  \n",
      " 1   Year                    1630 non-null   int64  \n",
      " 2   Adult Mortality         1630 non-null   float64\n",
      " 3   infant deaths           1630 non-null   int64  \n",
      " 4   Alcohol                 1630 non-null   float64\n",
      " 5   percentage expenditure  1630 non-null   float64\n",
      " 6   Hepatitis B             1630 non-null   float64\n",
      " 7   Measles                 1630 non-null   int64  \n",
      " 8   BMI                     1630 non-null   float64\n",
      " 9   under-five deaths       1630 non-null   int64  \n",
      " 10  Polio                   1630 non-null   float64\n",
      " 11  Total expenditure       1630 non-null   float64\n",
      " 12  Diphtheria              1630 non-null   float64\n",
      " 13  HIV/AIDS                1630 non-null   float64\n",
      " 14  GDP                     1630 non-null   float64\n",
      " 15  thinness  1-19 years    1630 non-null   float64\n",
      " 16  thinness 5-9 years      1630 non-null   float64\n",
      " 17  Population_cat          1630 non-null   int8   \n",
      " 18  Income_cat              1630 non-null   int8   \n",
      " 19  School_cat              1630 non-null   int8   \n",
      " 20  Status_Developed        1630 non-null   int64  \n",
      " 21  Status_Developing       1630 non-null   int64  \n",
      "dtypes: float64(12), int16(1), int64(6), int8(3)\n",
      "memory usage: 249.9 KB\n",
      "None\n",
      "<class 'pandas.core.frame.DataFrame'>\n",
      "Index: 761 entries, 115 to 1211\n",
      "Data columns (total 22 columns):\n",
      " #   Column                  Non-Null Count  Dtype  \n",
      "---  ------                  --------------  -----  \n",
      " 0   Country                 761 non-null    int16  \n",
      " 1   Year                    761 non-null    int64  \n",
      " 2   Adult Mortality         761 non-null    float64\n",
      " 3   infant deaths           761 non-null    int64  \n",
      " 4   Alcohol                 761 non-null    float64\n",
      " 5   percentage expenditure  761 non-null    float64\n",
      " 6   Hepatitis B             761 non-null    float64\n",
      " 7   Measles                 761 non-null    int64  \n",
      " 8   BMI                     761 non-null    float64\n",
      " 9   under-five deaths       761 non-null    int64  \n",
      " 10  Polio                   761 non-null    float64\n",
      " 11  Total expenditure       761 non-null    float64\n",
      " 12  Diphtheria              761 non-null    float64\n",
      " 13  HIV/AIDS                761 non-null    float64\n",
      " 14  GDP                     761 non-null    float64\n",
      " 15  thinness  1-19 years    761 non-null    float64\n",
      " 16  thinness 5-9 years      761 non-null    float64\n",
      " 17  Population_cat          761 non-null    int8   \n",
      " 18  Income_cat              761 non-null    int8   \n",
      " 19  School_cat              761 non-null    int8   \n",
      " 20  Status_Developed        761 non-null    int64  \n",
      " 21  Status_Developing       761 non-null    int64  \n",
      "dtypes: float64(12), int16(1), int64(6), int8(3)\n",
      "memory usage: 116.7 KB\n",
      "None\n",
      "<class 'pandas.core.frame.DataFrame'>\n",
      "Index: 327 entries, 1804 to 1655\n",
      "Data columns (total 22 columns):\n",
      " #   Column                  Non-Null Count  Dtype  \n",
      "---  ------                  --------------  -----  \n",
      " 0   Country                 327 non-null    int16  \n",
      " 1   Year                    327 non-null    int64  \n",
      " 2   Adult Mortality         327 non-null    float64\n",
      " 3   infant deaths           327 non-null    int64  \n",
      " 4   Alcohol                 327 non-null    float64\n",
      " 5   percentage expenditure  327 non-null    float64\n",
      " 6   Hepatitis B             327 non-null    float64\n",
      " 7   Measles                 327 non-null    int64  \n",
      " 8   BMI                     327 non-null    float64\n",
      " 9   under-five deaths       327 non-null    int64  \n",
      " 10  Polio                   327 non-null    float64\n",
      " 11  Total expenditure       327 non-null    float64\n",
      " 12  Diphtheria              327 non-null    float64\n",
      " 13  HIV/AIDS                327 non-null    float64\n",
      " 14  GDP                     327 non-null    float64\n",
      " 15  thinness  1-19 years    327 non-null    float64\n",
      " 16  thinness 5-9 years      327 non-null    float64\n",
      " 17  Population_cat          327 non-null    int8   \n",
      " 18  Income_cat              327 non-null    int8   \n",
      " 19  School_cat              327 non-null    int8   \n",
      " 20  Status_Developed        327 non-null    int64  \n",
      " 21  Status_Developing       327 non-null    int64  \n",
      "dtypes: float64(12), int16(1), int64(6), int8(3)\n",
      "memory usage: 50.1 KB\n",
      "None\n",
      "***\n"
     ]
    }
   ],
   "source": [
    "showHead(Xtrain,Xval,Xtest)"
   ]
  },
  {
   "cell_type": "markdown",
   "id": "2d794ce6765ee66",
   "metadata": {
    "collapsed": false
   },
   "source": [
    "# Priprava a testovani #\n",
    "Nejprve si implementujeme nasi konstru. Kostru jsem vyplnil tak, jak jsme si ukazovali na cviceni na par prikladech, zaroven jsem vyuzil stack overflow, ale celkove jsem to ponechal na nizsi urovni, protoze jsem se bal, ze vytvorim neco nepouzitelneho a pomaleho."
   ]
  },
  {
   "cell_type": "code",
   "execution_count": 37,
   "id": "280dc5d5-087b-4060-bd0a-c950c91f0533",
   "metadata": {
    "collapsed": false,
    "ExecuteTime": {
     "end_time": "2023-12-22T16:13:20.407691600Z",
     "start_time": "2023-12-22T16:13:20.235282500Z"
    }
   },
   "outputs": [],
   "source": [
    "# Váš kód zde\n",
    "import numpy as np\n",
    "from sklearn.tree import DecisionTreeRegressor\n",
    "from sklearn.metrics import mean_squared_error, mean_absolute_error\n",
    "\n",
    "########################################################\n",
    "# Předpřipravená kostra modelu náhodného lesa\n",
    "class CustomRandomForest:\n",
    "    dtr_list = []\n",
    "    \"\"\"\n",
    "    Třída Vašeho modelu\n",
    "    Bude se jednat o model náhodného lesa, kde podmodely tvoří rozhodovací stromy pro regresi.\n",
    "    Pro podmodely můžete použít implementaci DecisionTreeRegressor ze sklearn.\n",
    "    \"\"\"\n",
    "    def __init__(self, n_estimators, max_samples, max_depth ,**kwargs):\n",
    "        \"\"\"\n",
    "        Konstruktor modelu\n",
    "        Základní hyperparametery:\n",
    "            n_estimators - počet podmodelů - rozhodovacích stromů.\n",
    "            max_samples - vyberte si, zda tento parametr bude označovat relativní počet bodů (tj. číslo mezi 0 a 1) \n",
    "                          nebo absolutní počet bodů (tj. číslo mezi 1 a velikostí trénovací množiny), \n",
    "                          které budou pro každý podmodel rozhodovacího stromu náhodně vybrány z trénovací množiny (bootstrap) a použity k jeho trénování.\n",
    "            max_depth - maximální hloubka každého z podmodelů rozhodovacího stromu.\n",
    "            kwargs - (volitelně) případné další hyperparametry, které pošlete do podmodelů rozhodovacího stromu\n",
    "        \"\"\"\n",
    "        self.n_estimators = n_estimators\n",
    "        self.max_samples = max_samples\n",
    "        self.max_depth = max_depth\n",
    "        \n",
    "        pass\n",
    "    def addToDtr(self,tree):\n",
    "        self.dtr_list.append(tree)\n",
    "        \n",
    "    def fit(self, X, y):\n",
    "        \"\"\"\n",
    "        Natrénování modelu. Trénovací data jsou v argumentech X a y.\n",
    "        Pro trénování podmodelů používejte bootstraping a velikost samplovaného vzorku vezměte z hyperparametru max_samples_fraction\n",
    "        \"\"\"\n",
    "        \n",
    "        for _ in range(self.n_estimators):\n",
    "            if self.max_samples != None:\n",
    "                parts = np.random.choice(len(X),size=self.max_samples,replace=True)\n",
    "                sub_parts = parts[:self.max_samples]\n",
    "                X_part,y_part = X.iloc[sub_parts],y.iloc[sub_parts]\n",
    "            else:\n",
    "                X_part,y_part = X,y\n",
    "                \n",
    "            dtr = DecisionTreeRegressor(max_depth=self.max_depth)\n",
    "            dtr.fit(X_part,y_part)\n",
    "            \n",
    "            self.addToDtr(dtr)\n",
    "        pass\n",
    "        \n",
    "    def predict(self, X):\n",
    "        \"\"\"\n",
    "        Predikce y v zadaných bodech X\n",
    "        \"\"\"\n",
    "        ypredicted = np.zeros((X.shape[0],))\n",
    "        for dtr in self.dtr_list:\n",
    "            ypredicted += dtr.predict(X)\n",
    "       \n",
    "        y_predict = ypredicted / len(self.dtr_list)\n",
    "        return y_predict\n"
   ]
  },
  {
   "cell_type": "markdown",
   "id": "146567c5ecc2f199",
   "metadata": {
    "collapsed": false
   },
   "source": [
    "Po implementaci tridy, si ji vyzkousime a vyvodime zavery, ze kterych budeme moci vyvodit nejake vyslekdy"
   ]
  },
  {
   "cell_type": "code",
   "execution_count": 38,
   "id": "c6443f4b7e98534a",
   "metadata": {
    "collapsed": false,
    "ExecuteTime": {
     "end_time": "2023-12-22T16:13:20.408693300Z",
     "start_time": "2023-12-22T16:13:20.317268600Z"
    }
   },
   "outputs": [],
   "source": [
    "param_values = {\n",
    "    'n_estimators': [4,8,12],\n",
    "    'max_samples': [None, 8, 6],\n",
    "    'max_depth': [None,2,5,8, 10, 20],\n",
    "}"
   ]
  },
  {
   "cell_type": "code",
   "execution_count": 39,
   "id": "48e216690d48c021",
   "metadata": {
    "collapsed": false,
    "ExecuteTime": {
     "end_time": "2023-12-22T16:13:20.408693300Z",
     "start_time": "2023-12-22T16:13:20.320645100Z"
    }
   },
   "outputs": [],
   "source": [
    "from itertools import product\n",
    "import warnings\n",
    "\n",
    "from sklearn.preprocessing import MinMaxScaler, StandardScaler"
   ]
  },
  {
   "cell_type": "code",
   "execution_count": 40,
   "id": "1bc959d8e02aeef9",
   "metadata": {
    "collapsed": false,
    "ExecuteTime": {
     "end_time": "2023-12-22T16:13:20.408693300Z",
     "start_time": "2023-12-22T16:13:20.323261700Z"
    }
   },
   "outputs": [],
   "source": [
    "param_combinations = [comb for comb in product(*param_values.values())]\n",
    "best_parameters_RANDOM_FOREST_REG = None\n",
    "best_rmse = float('inf')\n",
    "warnings.filterwarnings('ignore')"
   ]
  },
  {
   "cell_type": "code",
   "execution_count": 41,
   "id": "1a96033218ef15dd",
   "metadata": {
    "collapsed": false,
    "ExecuteTime": {
     "end_time": "2023-12-22T16:13:33.322951400Z",
     "start_time": "2023-12-22T16:13:20.328930800Z"
    }
   },
   "outputs": [
    {
     "name": "stdout",
     "output_type": "stream",
     "text": [
      "Results on the test set:\n",
      "RMSE on test set: 2.045500858181747\n",
      "MAE on test set: 3.05256218084921\n",
      "Results on the valid set:\n",
      "RMSE on validation set: 2.1188873868215845\n",
      "MAE on validation set: 3.2951855171441724\n",
      "Results on the normalized test set:\n",
      "RMSE on test set: 2.957016790359332\n",
      "MAE on test set: 7.242303811782274\n",
      "Results on the normalized validation set:\n",
      "RMSE on validation set: 2.970532673005716\n",
      "MAE on validation set: 7.188634621095675\n"
     ]
    }
   ],
   "source": [
    "for params in param_combinations:\n",
    "    \n",
    "    random_forest_regressor = CustomRandomForest(\n",
    "        n_estimators=params[0],\n",
    "        max_samples=params[1],\n",
    "        max_depth=params[2],\n",
    "    )\n",
    "    random_forest_regressor.fit(Xtrain,ytrain)\n",
    "    \n",
    "    yval_predict = random_forest_regressor.predict(Xval)\n",
    "    rmse_valid = np.sqrt(mean_squared_error(yval, yval_predict,squared=False))\n",
    "    mse_valid =  mean_absolute_error(yval, yval_predict)\n",
    "    \n",
    "    if best_rmse > rmse_valid:\n",
    "        best_rmse = rmse_valid\n",
    "        best_parameters_RANDOM_FOREST_REG = params\n",
    "    \n",
    "random_forest_regressor_best = CustomRandomForest(best_parameters_RANDOM_FOREST_REG[0],best_parameters_RANDOM_FOREST_REG[1],best_parameters_RANDOM_FOREST_REG[2])\n",
    "random_forest_regressor_best.fit(Xtrain,ytrain)\n",
    "\n",
    "yval_predict = random_forest_regressor_best.predict(Xval)\n",
    "rmse_valid = np.sqrt(mean_squared_error(yval, yval_predict,squared=False))\n",
    "mse_valid =  mean_absolute_error(yval, yval_predict)\n",
    "\n",
    "ytest_predict = random_forest_regressor_best.predict(Xtest)\n",
    "rmse_test = np.sqrt(mean_squared_error(ytest, ytest_predict,squared=False))\n",
    "mse_test =  mean_absolute_error(ytest, ytest_predict)\n",
    "\n",
    "print(\"Results on the test set:\")\n",
    "print(f\"RMSE on test set: {rmse_test}\")\n",
    "print(f\"MAE on test set: {mse_test}\")\n",
    "\n",
    "print(\"Results on the valid set:\")\n",
    "print(f\"RMSE on validation set: {rmse_valid}\")\n",
    "print(f\"MAE on validation set: {mse_valid}\")\n",
    "\n",
    "scaler = StandardScaler()\n",
    "Xtrain_scaled = scaler.fit_transform(Xtrain)\n",
    "Xtest_scaled = scaler.fit_transform(Xtest)\n",
    "Xval_scaled = scaler.fit_transform(Xval)\n",
    "\n",
    "## Ted si to udelam s normalizovanymi daty\n",
    "random_forest_regressor_best.fit(Xtrain_scaled,ytrain)\n",
    "\n",
    "yval_predict = random_forest_regressor_best.predict(Xval_scaled)\n",
    "rmse_valid = np.sqrt(mean_squared_error(yval, yval_predict,squared=False))\n",
    "mse_valid =  mean_absolute_error(yval, yval_predict)\n",
    "\n",
    "ytest_predict = random_forest_regressor_best.predict(Xtest_scaled)\n",
    "rmse_test = np.sqrt(mean_squared_error(ytest, ytest_predict,squared=False))\n",
    "mse_test =  mean_absolute_error(ytest, ytest_predict)\n",
    "\n",
    "print(\"Results on the normalized test set:\")\n",
    "print(f\"RMSE on test set: {rmse_test}\")\n",
    "print(f\"MAE on test set: {mse_test}\")\n",
    "\n",
    "print(\"Results on the normalized validation set:\")\n",
    "print(f\"RMSE on validation set: {rmse_valid}\")\n",
    "print(f\"MAE on validation set: {mse_valid}\")\n"
   ]
  },
  {
   "cell_type": "markdown",
   "id": "dff9b6825eb0b50",
   "metadata": {
    "collapsed": false
   },
   "source": [
    "Dostavame RMSE validaci 2.122 a testovaci 2.04105. Zatim mi to pripada dobre.\n",
    "RandomForestRegression je vhodny, kdzy mame nejake odlehlejsi hodnoty a lepe zachyti nelinearni vzathy. Z toho vyvozuji, ze model pro Linearni Regresi by nam mel ukazat jak jsou moc vztahy linearni, proto si to otestuji."
   ]
  },
  {
   "cell_type": "markdown",
   "id": "86b2e399b7058c2d",
   "metadata": {
    "collapsed": false
   },
   "source": [
    "# Linearni Regrese #"
   ]
  },
  {
   "cell_type": "markdown",
   "id": "1c4afffaa527330d",
   "metadata": {
    "collapsed": false
   },
   "source": [
    "Proc Linearni Regrese (dale LR). Je dobra jako vychozi model pro moho uloh. Pouziva se zejmena pri vyskytu linearnich vztahu jednotlivych priznaku a predikovaneho cile. Zacal jsem s LR, protoze je lehka na implementaci a na cviceni jsme si ji hodne venovali."
   ]
  },
  {
   "cell_type": "code",
   "execution_count": 42,
   "id": "9bbe8b632481288e",
   "metadata": {
    "collapsed": false,
    "ExecuteTime": {
     "end_time": "2023-12-22T16:13:33.322951400Z",
     "start_time": "2023-12-22T16:13:33.318210600Z"
    }
   },
   "outputs": [],
   "source": [
    "from sklearn.linear_model import LinearRegression\n",
    "from sklearn.preprocessing import StandardScaler, MinMaxScaler\n",
    "from sklearn.model_selection import GridSearchCV\n"
   ]
  },
  {
   "cell_type": "code",
   "execution_count": 43,
   "id": "a06231afe5f8c7fc",
   "metadata": {
    "collapsed": false,
    "ExecuteTime": {
     "end_time": "2023-12-22T16:13:33.349488300Z",
     "start_time": "2023-12-22T16:13:33.322562100Z"
    }
   },
   "outputs": [],
   "source": [
    "scaling_data = {\n",
    "    'StandardScaler': StandardScaler(),\n",
    "    'MinMaxScaler': MinMaxScaler()\n",
    "}\n",
    "parameter_grid = {\n",
    "    'fit_intercept': [True, False],\n",
    "    'copy_X': [True, False],\n",
    "    'n_jobs': [None, 5],\n",
    "    'positive': [True, False],\n",
    "}\n",
    "rmse_best = float('inf')\n",
    "best_scaler = None\n",
    "best_parameters_LINEAR_REGRES = None\n",
    "best_model = None"
   ]
  },
  {
   "cell_type": "code",
   "execution_count": 44,
   "id": "e3bf30a9304112c1",
   "metadata": {
    "collapsed": false,
    "ExecuteTime": {
     "end_time": "2023-12-22T16:13:34.220383900Z",
     "start_time": "2023-12-22T16:13:33.332452100Z"
    }
   },
   "outputs": [
    {
     "name": "stdout",
     "output_type": "stream",
     "text": [
      "Results on the valid set:\n",
      "RMSE on validation set: 2.1162498121314335\n",
      "MAE on validation set: 3.3771796392300617\n",
      "Results on the test set:\n",
      "RMSE on test set: 2.0221417966090027\n",
      "MAE on test set: 3.0477251990586223\n"
     ]
    },
    {
     "data": {
      "text/plain": "<Figure size 640x480 with 1 Axes>",
      "image/png": "[encoded data removed]"
     },
     "metadata": {},
     "output_type": "display_data"
    }
   ],
   "source": [
    "for scaler_name, scaler in scaling_data.items():  \n",
    "    Xtrain_scale = scaler.fit_transform(Xtrain)\n",
    "    Xtest_scale = scaler.fit_transform(Xtest)\n",
    "    Xval_scale = scaler.fit_transform(Xval)\n",
    "\n",
    "    search_grid = GridSearchCV(LinearRegression(),parameter_grid,scoring='neg_mean_squared_error',cv=10)\n",
    "    search_grid.fit(Xtrain_scale,ytrain)\n",
    "    \n",
    "    best_model = search_grid.best_estimator_\n",
    "    best_parameters_LINEAR_REGRES = search_grid.best_params_\n",
    "    \n",
    "    yval_predicton = best_model.predict(Xval_scale)   \n",
    "    rmse_valid = np.sqrt(mean_squared_error(yval,yval_predicton,squared = False))\n",
    "    mae_valid = mean_absolute_error(yval, yval_predicton)\n",
    "    \n",
    "    if rmse_valid < rmse_best:\n",
    "        rmse_best = rmse_valid\n",
    "        best_scaler = scaler\n",
    "        best_model = best_model\n",
    "     \n",
    " \n",
    "X_train_scaled = best_scaler.fit_transform(Xtrain)\n",
    "X_test_scaled = best_scaler.transform(Xtest)\n",
    "X_val_scaled = best_scaler.fit_transform(Xval)\n",
    "\n",
    "\n",
    "ytest_pred = best_model.predict(X_test_scaled)\n",
    "rmse_test = np.sqrt(mean_squared_error(ytest, ytest_pred,squared = False))\n",
    "mae_test = mean_absolute_error(ytest, ytest_pred)\n",
    "\n",
    "yval_predicton = best_model.predict(X_val_scaled)\n",
    "rmse_valid = np.sqrt(mean_squared_error(yval, yval_predicton,squared = False))\n",
    "mae_valid = mean_absolute_error(yval, yval_predicton)\n",
    "\n",
    "print(\"Results on the valid set:\")\n",
    "print(f\"RMSE on validation set: {rmse_valid}\")\n",
    "print(f\"MAE on validation set: {mae_valid}\")\n",
    "\n",
    "print(\"Results on the test set:\")\n",
    "print(f\"RMSE on test set: {rmse_test}\")\n",
    "print(f\"MAE on test set: {mae_test}\")\n",
    "\n",
    "plt.scatter(yval,yval_predicton)\n",
    "plt.plot([0,50], [0,50], 'r')\n",
    "plt.show()"
   ]
  },
  {
   "cell_type": "markdown",
   "id": "8b5d216c1c4ee3b",
   "metadata": {
    "collapsed": false
   },
   "source": [
    "Podobne provedu jeste jednou ale bez normalizace dat"
   ]
  },
  {
   "cell_type": "code",
   "execution_count": 45,
   "id": "c3298d0176286a6",
   "metadata": {
    "collapsed": false,
    "ExecuteTime": {
     "end_time": "2023-12-22T16:13:35.191807500Z",
     "start_time": "2023-12-22T16:13:34.205362800Z"
    }
   },
   "outputs": [
    {
     "data": {
      "text/plain": "<Figure size 640x480 with 1 Axes>",
      "image/png": "[encoded data removed]"
     },
     "metadata": {},
     "output_type": "display_data"
    },
    {
     "name": "stdout",
     "output_type": "stream",
     "text": [
      "Results on the test set:\n",
      "RMSE on test set: 2.022141796608997\n",
      "MAE on test set: 3.0477251990586067\n",
      "Results on the valid set:\n",
      "RMSE on test set: 2.1127835265270507\n",
      "MAE on test set: 3.343307823547868\n"
     ]
    }
   ],
   "source": [
    "parameter_grid = {\n",
    "    'fit_intercept': [True, False],\n",
    "    'copy_X': [True, False],\n",
    "    'n_jobs': [None, 5],\n",
    "    'positive': [True, False],\n",
    "}\n",
    "search_grid = GridSearchCV(LinearRegression(),parameter_grid,scoring='neg_mean_squared_error',cv=10)\n",
    "search_grid.fit(Xtrain,ytrain)\n",
    "\n",
    "best_model_LR = search_grid.best_estimator_\n",
    "best_params = search_grid.best_params_\n",
    "\n",
    "yval_predicton = best_model_LR.predict(Xval)\n",
    "rmse_valid = np.sqrt(mean_squared_error(yval, yval_predicton,squared = False))\n",
    "mae_valid = mean_absolute_error(yval, yval_predicton)\n",
    "\n",
    "ytest_pred = best_model_LR.predict(Xtest)\n",
    "rmse_test = np.sqrt(mean_squared_error(ytest, ytest_pred,squared = False))\n",
    "mae_test = mean_absolute_error(ytest, ytest_pred)\n",
    "\n",
    "plt.scatter(yval,yval_predicton)\n",
    "plt.plot([0,50], [0,50], 'r')\n",
    "plt.show()\n",
    "\n",
    "print(\"Results on the test set:\")\n",
    "print(f\"RMSE on test set: {rmse_test}\")\n",
    "print(f\"MAE on test set: {mae_test}\")\n",
    "\n",
    "print(\"Results on the valid set:\")\n",
    "print(f\"RMSE on test set: {rmse_valid}\")\n",
    "print(f\"MAE on test set: {mae_valid}\")\n"
   ]
  },
  {
   "cell_type": "markdown",
   "id": "27199b0ff91e1d69",
   "metadata": {
    "collapsed": false
   },
   "source": [
    "Co si ted z toho vzit ? Vidim, ze normalizce dat nam v tomto modelu Linearni regrese neprinesla zadne hodnoty. RMSE a MSE je mensi v nasem pripade pro nenormalizaci dat. RMSE vladiacni nam vyslo lepsi nez u meho Random Forest Regresion, ale pouze jen o necele 2 setiny."
   ]
  },
  {
   "cell_type": "markdown",
   "id": "4cb3fc8e5dd01f85",
   "metadata": {
    "collapsed": false
   },
   "source": [
    "# Hrebenova Regrese #\n",
    "!!! Provedl jsem LINEARNI I HREBENOVOU. Proc ? Zajimalo me, jak to dopadne, hlavne jsem se bal, ze ma implementace nebude 100% a chtel jsem timto \"double chekcnout\", jak vysledky vypadaji.\n",
    "Podivame se nejdrive na vysledky Hrebenove Regrese bez ladeni hyper parametru."
   ]
  },
  {
   "cell_type": "code",
   "execution_count": 46,
   "id": "d324375cdd7ce6c2",
   "metadata": {
    "collapsed": false,
    "ExecuteTime": {
     "end_time": "2023-12-22T16:13:35.193810100Z",
     "start_time": "2023-12-22T16:13:35.189302600Z"
    }
   },
   "outputs": [],
   "source": [
    "from sklearn.linear_model import Ridge\n",
    "from scipy import optimize"
   ]
  },
  {
   "cell_type": "code",
   "execution_count": 47,
   "id": "e80491bb5d599e8",
   "metadata": {
    "collapsed": false,
    "ExecuteTime": {
     "end_time": "2023-12-22T16:13:35.339163Z",
     "start_time": "2023-12-22T16:13:35.193810100Z"
    }
   },
   "outputs": [
    {
     "name": "stdout",
     "output_type": "stream",
     "text": [
      "Validation RMSE: 4.463757593805609\n",
      "Test RMSE: 4.089035076333405\n"
     ]
    },
    {
     "data": {
      "text/plain": "<Figure size 640x480 with 1 Axes>",
      "image/png": "[encoded data removed]"
     },
     "metadata": {},
     "output_type": "display_data"
    }
   ],
   "source": [
    "clf_ridge = Ridge(1)\n",
    "clf_ridge.fit(Xtrain,ytrain)\n",
    "\n",
    "\n",
    "RMSE_val_ridge = mean_squared_error(yval, clf_ridge.predict(Xval),squared = False)\n",
    "print(f'Validation RMSE: {RMSE_val_ridge:}')\n",
    "\n",
    "RMSE_test_ridge = mean_squared_error(ytest, clf_ridge.predict(Xtest),squared = False)\n",
    "print(f'Test RMSE: {RMSE_test_ridge:}')\n",
    "\n",
    "plt.scatter(yval, clf_ridge.predict(Xval))\n",
    "plt.plot([0,50], [0,50], 'r')\n",
    "plt.show()"
   ]
  },
  {
   "cell_type": "markdown",
   "id": "2c03c9341319682c",
   "metadata": {
    "collapsed": false
   },
   "source": [
    "Prejdeme na ladeni parametru, v teto casti jsem se hlavne inspiroval ukazkou ze cviceni."
   ]
  },
  {
   "cell_type": "code",
   "execution_count": 48,
   "id": "82913683425e8afa",
   "metadata": {
    "collapsed": false,
    "ExecuteTime": {
     "end_time": "2023-12-22T16:13:36.148301200Z",
     "start_time": "2023-12-22T16:13:35.339163Z"
    }
   },
   "outputs": [
    {
     "data": {
      "text/plain": "<Figure size 640x480 with 1 Axes>",
      "image/png": "[encoded data removed]"
     },
     "metadata": {},
     "output_type": "display_data"
    },
    {
     "name": "stdout",
     "output_type": "stream",
     "text": [
      " message: Solution found.\n",
      " success: True\n",
      "  status: 0\n",
      "     fun: 4.462459228052347\n",
      "       x: 31.38578787556825\n",
      "     nit: 15\n",
      "    nfev: 15\n",
      "\n",
      "\n",
      "Validační RMSE: 4.46246\n",
      "Validační MSE: 3.34106\n",
      "Testovací RMSE: 4.08958\n",
      "Testovací MSE: 3.04279\n"
     ]
    },
    {
     "data": {
      "text/plain": "<Figure size 640x480 with 1 Axes>",
      "image/png": "[encoded data removed]"
     },
     "metadata": {},
     "output_type": "display_data"
    },
    {
     "name": "stdout",
     "output_type": "stream",
     "text": [
      " message: Solution found.\n",
      " success: True\n",
      "  status: 0\n",
      "     fun: 4.599926656895536\n",
      "       x: 1.3968997419785822\n",
      "     nit: 15\n",
      "    nfev: 15\n",
      "\n",
      "\n",
      "Validační RMSE normalizace: 4.46246\n",
      "Validační MSE normalizace: 3.48418\n",
      "Testovací RMSE normalizace: 4.08958\n",
      "Testovací MSE normalizace: 3.18479\n"
     ]
    }
   ],
   "source": [
    "def get_opt_model(Xtrain,Xval,normalize):\n",
    "    if normalize == 1:\n",
    "        Xtrain_def = scaler.fit_transform(Xtrain)\n",
    "        Xval_def = scaler.fit_transform(Xval)\n",
    "    else:\n",
    "        Xtrain_def = Xtrain\n",
    "        Xval_def = Xval\n",
    "        \n",
    "    def rid_eval(alpha):\n",
    "        clf = Ridge(alpha=alpha)\n",
    "        clf.fit(Xtrain_def,ytrain)\n",
    "        return mean_squared_error(yval, clf.predict(Xval_def),squared = False)\n",
    "    \n",
    "    alphas = np.linspace(1,800,100)\n",
    "    alphas_res = [rid_eval(alpha) for alpha in alphas]\n",
    "    plt.plot(alphas,alphas_res,'.')\n",
    "    plt.show()\n",
    "    \n",
    "    opt_alpha = optimize.minimize_scalar(rid_eval,options={'maxiter':30},method='bounded',bounds=(0.1,100))\n",
    "    print(opt_alpha)\n",
    "    print(\"\\n\")\n",
    "    \n",
    "    clf_opt = Ridge(alpha = opt_alpha.x)\n",
    "    clf_opt.fit(Xtrain_def,ytrain)\n",
    "    return  clf_opt\n",
    "\n",
    "clf_opt_rid = get_opt_model(Xtrain,Xval,0)\n",
    "\n",
    "RMSE_val_opt_ridge = mean_squared_error(yval,clf_opt_rid.predict(Xval),squared = False)\n",
    "MAE_val_opt_ridge = mean_absolute_error(yval,clf_opt_rid.predict(Xval))\n",
    "print(f'Validační RMSE: {RMSE_val_opt_ridge:.5f}')\n",
    "print(f'Validační MSE: {MAE_val_opt_ridge:.5f}')\n",
    "\n",
    "RMSE_test_opt_ridge = mean_squared_error(ytest, clf_opt_rid.predict(Xtest),squared = False)\n",
    "MSE_test_opt_ridge = mean_absolute_error(ytest, clf_opt_rid.predict(Xtest))\n",
    "print(f'Testovací RMSE: {RMSE_test_opt_ridge:.5f}')\n",
    "print(f'Testovací MSE: {MSE_test_opt_ridge:.5f}')\n",
    "\n",
    "\n",
    "clf_opt_rid = get_opt_model(Xtrain,Xval,1)\n",
    "\n",
    "MSE_val_opt_ridge = mean_squared_error(yval,clf_opt_rid.predict(scaler.fit_transform(Xval)),squared = False)\n",
    "MSE_val_opt_ridge = mean_absolute_error(yval,clf_opt_rid.predict(scaler.fit_transform(Xval)))\n",
    "print(f'Validační RMSE normalizace: {RMSE_val_opt_ridge:.5f}')\n",
    "print(f'Validační MSE normalizace: {MSE_val_opt_ridge:.5f}')\n",
    "\n",
    "MSE_test_opt_ridge = mean_squared_error(ytest, clf_opt_rid.predict(scaler.fit_transform(Xtest)),squared = False)\n",
    "MSE_test_opt_ridge = mean_absolute_error(ytest, clf_opt_rid.predict(scaler.fit_transform(Xtest)))\n",
    "print(f'Testovací RMSE normalizace: {RMSE_test_opt_ridge:.5f}')\n",
    "print(f'Testovací MSE normalizace: {MSE_test_opt_ridge:.5f}')\n",
    "\n"
   ]
  },
  {
   "cell_type": "markdown",
   "id": "4634d744ea78b262",
   "metadata": {
    "collapsed": false
   },
   "source": [
    "Vysledky pro Hrebenovou Regresi mi nevysly moc dobre. Prikladam to k tomu, ze tato metoda je citliva na \"sum\" v datech, ktere jsou ve velke mire doplnoval. Zaroven je u teto metody dulezita volba alpha parametru, se kterou se musi \"pohrat\", aby se dosahlo dobrych vysledku."
   ]
  },
  {
   "cell_type": "markdown",
   "id": "4a2afae38195ea6d",
   "metadata": {
    "collapsed": false
   },
   "source": [
    "# KNN Regressor #\n",
    "KNN metoda je velmi prijemna a jednoducha na implementaci. Zaroven je velmi schopna zachytit nelinearni vztahy.\n"
   ]
  },
  {
   "cell_type": "code",
   "execution_count": 49,
   "id": "3d17822905e76559",
   "metadata": {
    "collapsed": false,
    "ExecuteTime": {
     "end_time": "2023-12-22T16:13:36.167309400Z",
     "start_time": "2023-12-22T16:13:36.147043300Z"
    }
   },
   "outputs": [],
   "source": [
    "from sklearn.neighbors import KNeighborsRegressor"
   ]
  },
  {
   "cell_type": "code",
   "execution_count": 50,
   "id": "5b5e7751a9bc1876",
   "metadata": {
    "collapsed": false,
    "ExecuteTime": {
     "end_time": "2023-12-22T16:13:36.168310700Z",
     "start_time": "2023-12-22T16:13:36.150312700Z"
    }
   },
   "outputs": [],
   "source": [
    "parameter_grid_knn = {\n",
    "    'n_neighbors': [3,5,20],\n",
    "    'weights': ['uniform', 'distance'],\n",
    "    'p': [1, 2]\n",
    "}"
   ]
  },
  {
   "cell_type": "code",
   "execution_count": 51,
   "id": "2a947203cb33eb7d",
   "metadata": {
    "collapsed": false,
    "ExecuteTime": {
     "end_time": "2023-12-22T16:13:38.732957400Z",
     "start_time": "2023-12-22T16:13:36.156784800Z"
    }
   },
   "outputs": [
    {
     "name": "stdout",
     "output_type": "stream",
     "text": [
      "RMSE on validation set: 2.34761670908486\n",
      "MAE on validation set: 3.343307823547868\n",
      "RMSE on validation set: 2.34761670908486\n",
      "MAE on validation set: 3.343307823547868\n"
     ]
    }
   ],
   "source": [
    "knn_reg = KNeighborsRegressor()\n",
    "grid_Search = GridSearchCV(knn_reg,parameter_grid_knn,scoring='neg_mean_squared_error', cv=5)\n",
    "grid_Search.fit(Xtrain,ytrain)\n",
    "best_parameters_LINEAR_REGRES = grid_Search.best_params_\n",
    "best_knn_reg = grid_Search.best_estimator_\n",
    "yval_pred = best_knn_reg.predict(Xval)\n",
    "ytest_pred = best_knn_reg.predict(Xtest)\n",
    "\n",
    "rmse_val = np.sqrt(mean_squared_error(yval, yval_pred,squared=False))\n",
    "mae_val = mean_absolute_error(yval,yval_predicton)\n",
    "rmse_test = np.sqrt(mean_squared_error(ytest, ytest_pred,squared=False))\n",
    "mae_test = mean_absolute_error(ytest,ytest_predict)\n",
    "print(f\"RMSE on validation set: {rmse_val}\")\n",
    "print(f\"MAE on validation set: {mae_val}\")\n",
    "print(f\"RMSE on validation set: {rmse_val}\")\n",
    "print(f\"MAE on validation set: {mae_val}\")\n"
   ]
  },
  {
   "cell_type": "markdown",
   "id": "8500faf3a6daf969",
   "metadata": {
    "collapsed": false
   },
   "source": [
    "Vidime, ze vysledky nejsou tak spatne, ale RMSE jsou mensi nez u Linearni Regrese. "
   ]
  },
  {
   "cell_type": "markdown",
   "id": "f0570ebf1485222e",
   "metadata": {
    "collapsed": false
   },
   "source": [
    "# Finalni model a vyhodnoceni vysledku #\n",
    "Pro finalni model volim Linearni Regresi a to bez normlizaci dat, RMSE mi vyslo shodne pro normalizaci a nenormalizaci. Tato metoda by nemela by byt citliva na skalu dat. Ocekavam RMSE hondotu okolo 2.2"
   ]
  },
  {
   "cell_type": "code",
   "execution_count": 52,
   "id": "dc4fc728d79f2959",
   "metadata": {
    "collapsed": false,
    "ExecuteTime": {
     "end_time": "2023-12-22T16:13:38.755023700Z",
     "start_time": "2023-12-22T16:13:38.730954100Z"
    }
   },
   "outputs": [
    {
     "data": {
      "text/plain": "      Country  Year      Status  Adult Mortality  infant deaths  Alcohol  \\\n0  Azerbaijan  2015  Developing            118.0              5      NaN   \n1  Azerbaijan  2014  Developing            119.0              5     0.01   \n2  Azerbaijan  2013  Developing            121.0              5     2.14   \n3  Azerbaijan  2012  Developing            123.0              5     0.01   \n4  Azerbaijan  2011  Developing            125.0              5     1.98   \n\n   percentage expenditure  Hepatitis B  Measles   BMI  ...  Polio  \\\n0                0.000000         96.0        0  52.5  ...   98.0   \n1              306.182431         94.0        0  51.5  ...   97.0   \n2              275.651493         93.0      164   5.6  ...   96.0   \n3              285.610391         88.0        0  49.7  ...   92.0   \n4              263.142699         84.0        0  48.8  ...   91.0   \n\n   Total expenditure  Diphtheria  HIV/AIDS          GDP  Population  \\\n0                NaN        96.0       0.1    55.313820   9649341.0   \n1               6.40        94.0       0.1  7891.299776    953579.0   \n2               5.54        93.0       0.1  7875.756953    941681.0   \n3               5.37        89.0       0.1  7496.335728   9295784.0   \n4               5.10        87.0       0.1  7189.691229    917382.0   \n\n   thinness  1-19 years  thinness 5-9 years  Income composition of resources  \\\n0                   2.8                 2.9                            0.758   \n1                   2.8                 2.9                            0.752   \n2                   2.8                 2.8                            0.745   \n3                   2.8                 2.8                            0.742   \n4                   2.8                 2.9                            0.741   \n\n   Schooling  \n0       12.7  \n1       12.2  \n2       11.9  \n3       11.8  \n4       11.7  \n\n[5 rows x 21 columns]",
      "text/html": "<div>\n<style scoped>\n    .dataframe tbody tr th:only-of-type {\n        vertical-align: middle;\n    }\n\n    .dataframe tbody tr th {\n        vertical-align: top;\n    }\n\n    .dataframe thead th {\n        text-align: right;\n    }\n</style>\n<table border=\"1\" class=\"dataframe\">\n  <thead>\n    <tr style=\"text-align: right;\">\n      <th></th>\n      <th>Country</th>\n      <th>Year</th>\n      <th>Status</th>\n      <th>Adult Mortality</th>\n      <th>infant deaths</th>\n      <th>Alcohol</th>\n      <th>percentage expenditure</th>\n      <th>Hepatitis B</th>\n      <th>Measles</th>\n      <th>BMI</th>\n      <th>...</th>\n      <th>Polio</th>\n      <th>Total expenditure</th>\n      <th>Diphtheria</th>\n      <th>HIV/AIDS</th>\n      <th>GDP</th>\n      <th>Population</th>\n      <th>thinness  1-19 years</th>\n      <th>thinness 5-9 years</th>\n      <th>Income composition of resources</th>\n      <th>Schooling</th>\n    </tr>\n  </thead>\n  <tbody>\n    <tr>\n      <th>0</th>\n      <td>Azerbaijan</td>\n      <td>2015</td>\n      <td>Developing</td>\n      <td>118.0</td>\n      <td>5</td>\n      <td>NaN</td>\n      <td>0.000000</td>\n      <td>96.0</td>\n      <td>0</td>\n      <td>52.5</td>\n      <td>...</td>\n      <td>98.0</td>\n      <td>NaN</td>\n      <td>96.0</td>\n      <td>0.1</td>\n      <td>55.313820</td>\n      <td>9649341.0</td>\n      <td>2.8</td>\n      <td>2.9</td>\n      <td>0.758</td>\n      <td>12.7</td>\n    </tr>\n    <tr>\n      <th>1</th>\n      <td>Azerbaijan</td>\n      <td>2014</td>\n      <td>Developing</td>\n      <td>119.0</td>\n      <td>5</td>\n      <td>0.01</td>\n      <td>306.182431</td>\n      <td>94.0</td>\n      <td>0</td>\n      <td>51.5</td>\n      <td>...</td>\n      <td>97.0</td>\n      <td>6.40</td>\n      <td>94.0</td>\n      <td>0.1</td>\n      <td>7891.299776</td>\n      <td>953579.0</td>\n      <td>2.8</td>\n      <td>2.9</td>\n      <td>0.752</td>\n      <td>12.2</td>\n    </tr>\n    <tr>\n      <th>2</th>\n      <td>Azerbaijan</td>\n      <td>2013</td>\n      <td>Developing</td>\n      <td>121.0</td>\n      <td>5</td>\n      <td>2.14</td>\n      <td>275.651493</td>\n      <td>93.0</td>\n      <td>164</td>\n      <td>5.6</td>\n      <td>...</td>\n      <td>96.0</td>\n      <td>5.54</td>\n      <td>93.0</td>\n      <td>0.1</td>\n      <td>7875.756953</td>\n      <td>941681.0</td>\n      <td>2.8</td>\n      <td>2.8</td>\n      <td>0.745</td>\n      <td>11.9</td>\n    </tr>\n    <tr>\n      <th>3</th>\n      <td>Azerbaijan</td>\n      <td>2012</td>\n      <td>Developing</td>\n      <td>123.0</td>\n      <td>5</td>\n      <td>0.01</td>\n      <td>285.610391</td>\n      <td>88.0</td>\n      <td>0</td>\n      <td>49.7</td>\n      <td>...</td>\n      <td>92.0</td>\n      <td>5.37</td>\n      <td>89.0</td>\n      <td>0.1</td>\n      <td>7496.335728</td>\n      <td>9295784.0</td>\n      <td>2.8</td>\n      <td>2.8</td>\n      <td>0.742</td>\n      <td>11.8</td>\n    </tr>\n    <tr>\n      <th>4</th>\n      <td>Azerbaijan</td>\n      <td>2011</td>\n      <td>Developing</td>\n      <td>125.0</td>\n      <td>5</td>\n      <td>1.98</td>\n      <td>263.142699</td>\n      <td>84.0</td>\n      <td>0</td>\n      <td>48.8</td>\n      <td>...</td>\n      <td>91.0</td>\n      <td>5.10</td>\n      <td>87.0</td>\n      <td>0.1</td>\n      <td>7189.691229</td>\n      <td>917382.0</td>\n      <td>2.8</td>\n      <td>2.9</td>\n      <td>0.741</td>\n      <td>11.7</td>\n    </tr>\n  </tbody>\n</table>\n<p>5 rows × 21 columns</p>\n</div>"
     },
     "execution_count": 52,
     "metadata": {},
     "output_type": "execute_result"
    }
   ],
   "source": [
    "eval = pd.read_csv('evaluation.csv')\n",
    "eval.head()"
   ]
  },
  {
   "cell_type": "code",
   "execution_count": 53,
   "id": "5cc8e4b4573d3efd",
   "metadata": {
    "collapsed": false,
    "ExecuteTime": {
     "end_time": "2023-12-22T16:13:38.826679800Z",
     "start_time": "2023-12-22T16:13:38.754022800Z"
    }
   },
   "outputs": [
    {
     "name": "stdout",
     "output_type": "stream",
     "text": [
      "<class 'pandas.core.frame.DataFrame'>\n",
      "RangeIndex: 210 entries, 0 to 209\n",
      "Data columns (total 21 columns):\n",
      " #   Column                           Non-Null Count  Dtype  \n",
      "---  ------                           --------------  -----  \n",
      " 0   Country                          210 non-null    object \n",
      " 1   Year                             210 non-null    int64  \n",
      " 2   Status                           210 non-null    object \n",
      " 3   Adult Mortality                  210 non-null    float64\n",
      " 4   infant deaths                    210 non-null    int64  \n",
      " 5   Alcohol                          171 non-null    float64\n",
      " 6   percentage expenditure           210 non-null    float64\n",
      " 7   Hepatitis B                      187 non-null    float64\n",
      " 8   Measles                          210 non-null    int64  \n",
      " 9   BMI                              204 non-null    float64\n",
      " 10  under-five deaths                210 non-null    int64  \n",
      " 11  Polio                            209 non-null    float64\n",
      " 12  Total expenditure                173 non-null    float64\n",
      " 13  Diphtheria                       209 non-null    float64\n",
      " 14  HIV/AIDS                         210 non-null    float64\n",
      " 15  GDP                              168 non-null    float64\n",
      " 16  Population                       168 non-null    float64\n",
      " 17  thinness  1-19 years             204 non-null    float64\n",
      " 18  thinness 5-9 years               204 non-null    float64\n",
      " 19  Income composition of resources  192 non-null    float64\n",
      " 20  Schooling                        192 non-null    float64\n",
      "dtypes: float64(15), int64(4), object(2)\n",
      "memory usage: 34.6+ KB\n"
     ]
    }
   ],
   "source": [
    "eval.info()"
   ]
  },
  {
   "cell_type": "markdown",
   "id": "ccdcff6537244bfe",
   "metadata": {
    "collapsed": false
   },
   "source": [
    "Doplnim chybejici hodnoty tak, jak jsem to delal i u \"data.csv\""
   ]
  },
  {
   "cell_type": "code",
   "execution_count": 54,
   "id": "c8120b4cc93ed323",
   "metadata": {
    "collapsed": false,
    "ExecuteTime": {
     "end_time": "2023-12-22T16:13:38.828681600Z",
     "start_time": "2023-12-22T16:13:38.761538800Z"
    }
   },
   "outputs": [],
   "source": [
    "avg = eval.groupby('Status')['BMI'].mean()\n",
    "eval['BMI'] = eval.apply(lambda row :avg[row['Status']] if pd.isna(row['BMI']) else row['BMI'],axis =1)\n"
   ]
  },
  {
   "cell_type": "code",
   "execution_count": 55,
   "id": "5a0007def57cca42",
   "metadata": {
    "collapsed": false,
    "ExecuteTime": {
     "end_time": "2023-12-22T16:13:38.828681600Z",
     "start_time": "2023-12-22T16:13:38.770178900Z"
    }
   },
   "outputs": [],
   "source": [
    "median_alcohol_country = eval.groupby(['Country'])['Alcohol'].transform('median')\n",
    "eval['Alcohol'].fillna(median_alcohol_country,inplace = True)\n",
    "eval['Alcohol'] = eval['Alcohol'].fillna(0)"
   ]
  },
  {
   "cell_type": "code",
   "execution_count": 56,
   "id": "94b6eec1d56f9f50",
   "metadata": {
    "collapsed": false,
    "ExecuteTime": {
     "end_time": "2023-12-22T16:13:38.863732600Z",
     "start_time": "2023-12-22T16:13:38.778743700Z"
    }
   },
   "outputs": [],
   "source": [
    "avg_HB = eval.groupby('Status')['Hepatitis B'].mean()\n",
    "avg_Poli = eval.groupby('Status')['Polio'].mean()\n",
    "avg_Dip = eval.groupby('Status')['Diphtheria'].mean()\n",
    "eval['Hepatitis B'] = eval.apply(lambda row :avg_HB[row['Status']] if pd.isna(row['Hepatitis B']) else row['Hepatitis B'],axis =1)\n",
    "eval['Polio'] = eval.apply(lambda row :avg_Poli[row['Status']] if pd.isna(row['Polio']) else row['Polio'],axis =1)\n",
    "eval['Diphtheria'] = eval.apply(lambda row :avg_Poli[row['Status']] if pd.isna(row['Diphtheria']) else row['Diphtheria'],axis =1)"
   ]
  },
  {
   "cell_type": "code",
   "execution_count": 57,
   "id": "1e4e85ddf90ba873",
   "metadata": {
    "collapsed": false,
    "ExecuteTime": {
     "end_time": "2023-12-22T16:13:39.021496Z",
     "start_time": "2023-12-22T16:13:38.793107600Z"
    }
   },
   "outputs": [],
   "source": [
    "def fillna_feature(row):\n",
    "    avg_TE = eval.groupby('Country')['Total expenditure'].mean()\n",
    "    avg_TE_Status = eval.groupby('Status')['Total expenditure'].mean()\n",
    "    country_mean = avg_TE.get(row['Country'])\n",
    "    status_mean = avg_TE_Status.get(row['Status'])\n",
    "    if pd.notna(country_mean):\n",
    "        return country_mean\n",
    "    elif pd.notna(status_mean):\n",
    "        return status_mean\n",
    "    else:\n",
    "        return row['Total expenditure']\n",
    "\n",
    "\n",
    "eval['Total expenditure'] = eval.apply(fillna_feature,axis =1)"
   ]
  },
  {
   "cell_type": "code",
   "execution_count": 58,
   "id": "52db9ee959ddfd1b",
   "metadata": {
    "collapsed": false,
    "ExecuteTime": {
     "end_time": "2023-12-22T16:13:39.021496Z",
     "start_time": "2023-12-22T16:13:38.913753900Z"
    }
   },
   "outputs": [],
   "source": [
    "avg_GDP = eval.groupby('Status')['GDP'].mean()\n",
    "eval['GDP'] = eval.apply(lambda row :avg_GDP[row['Status']] if pd.isna(row['GDP']) else row['GDP'],axis =1)"
   ]
  },
  {
   "cell_type": "code",
   "execution_count": 59,
   "id": "ac0f17aa4d69cb33",
   "metadata": {
    "collapsed": false,
    "ExecuteTime": {
     "end_time": "2023-12-22T16:13:39.021496Z",
     "start_time": "2023-12-22T16:13:38.919541100Z"
    }
   },
   "outputs": [],
   "source": [
    "avg_ThinSmall = eval.groupby('Status')['thinness 5-9 years'].mean()\n",
    "eval['thinness 5-9 years'] = eval.apply(lambda row :avg_ThinSmall[row['Status']] if pd.isna(row['thinness 5-9 years']) else row['thinness 5-9 years'],axis =1)\n",
    "\n",
    "avg_ThinBig = eval.groupby('Status')['thinness  1-19 years'].mean()\n",
    "eval['thinness  1-19 years'] = eval.apply(lambda row :avg_ThinBig[row['Status']] if pd.isna(row['thinness  1-19 years']) else row['thinness  1-19 years'],axis =1)"
   ]
  },
  {
   "cell_type": "code",
   "execution_count": 60,
   "id": "48dacfc66a25a6de",
   "metadata": {
    "collapsed": false,
    "ExecuteTime": {
     "end_time": "2023-12-22T16:13:39.021496Z",
     "start_time": "2023-12-22T16:13:38.929220700Z"
    }
   },
   "outputs": [
    {
     "name": "stdout",
     "output_type": "stream",
     "text": [
      "<class 'pandas.core.frame.DataFrame'>\n",
      "RangeIndex: 210 entries, 0 to 209\n",
      "Data columns (total 21 columns):\n",
      " #   Column                           Non-Null Count  Dtype  \n",
      "---  ------                           --------------  -----  \n",
      " 0   Country                          210 non-null    object \n",
      " 1   Year                             210 non-null    int64  \n",
      " 2   Status                           210 non-null    object \n",
      " 3   Adult Mortality                  210 non-null    float64\n",
      " 4   infant deaths                    210 non-null    int64  \n",
      " 5   Alcohol                          210 non-null    float64\n",
      " 6   percentage expenditure           210 non-null    float64\n",
      " 7   Hepatitis B                      210 non-null    float64\n",
      " 8   Measles                          210 non-null    int64  \n",
      " 9   BMI                              210 non-null    float64\n",
      " 10  under-five deaths                210 non-null    int64  \n",
      " 11  Polio                            210 non-null    float64\n",
      " 12  Total expenditure                210 non-null    float64\n",
      " 13  Diphtheria                       210 non-null    float64\n",
      " 14  HIV/AIDS                         210 non-null    float64\n",
      " 15  GDP                              210 non-null    float64\n",
      " 16  Population                       168 non-null    float64\n",
      " 17  thinness  1-19 years             210 non-null    float64\n",
      " 18  thinness 5-9 years               210 non-null    float64\n",
      " 19  Income composition of resources  192 non-null    float64\n",
      " 20  Schooling                        192 non-null    float64\n",
      "dtypes: float64(15), int64(4), object(2)\n",
      "memory usage: 34.6+ KB\n"
     ]
    }
   ],
   "source": [
    "eval.info()"
   ]
  },
  {
   "cell_type": "code",
   "execution_count": 61,
   "id": "ae5d57e208ecd40c",
   "metadata": {
    "collapsed": false,
    "ExecuteTime": {
     "end_time": "2023-12-22T16:13:39.022498500Z",
     "start_time": "2023-12-22T16:13:38.941573400Z"
    }
   },
   "outputs": [],
   "source": [
    "bins_pop = [0,1000000,10000000,float('inf')]\n",
    "bins_label =['small_pop','middle_pop','big_pop']\n",
    "\n",
    "eval['Population_cat'] = pd.cut(eval['Population'], bins=bins_pop, labels=bins_label, right=False, include_lowest=True)\n",
    "eval['Population_cat'] = pd.Categorical(eval['Population_cat'], categories=bins_label + ['DUNNO'])\n",
    "eval['Population_cat'].fillna('DUNNO', inplace=True)\n",
    "eval = eval.drop('Population',axis=1)\n"
   ]
  },
  {
   "cell_type": "code",
   "execution_count": 62,
   "id": "68c35990fb2ce346",
   "metadata": {
    "collapsed": false,
    "ExecuteTime": {
     "end_time": "2023-12-22T16:13:39.022498500Z",
     "start_time": "2023-12-22T16:13:38.943597700Z"
    }
   },
   "outputs": [],
   "source": [
    "bins_res = [0,0.2,0.4,0.6,0.8,1]\n",
    "bins_label =['small','smallish','middle','bigger','top']\n",
    "\n",
    "eval['Income_cat'] = pd.cut(eval['Income composition of resources'], bins=bins_res, labels=bins_label, right=False, include_lowest=True)\n",
    "eval['Income_cat'] = pd.Categorical(eval['Income_cat'], categories=bins_label + ['DUNNO'])\n",
    "eval['Income_cat'].fillna('DUNNO', inplace=True)\n",
    "eval = eval.drop('Income composition of resources',axis=1)"
   ]
  },
  {
   "cell_type": "code",
   "execution_count": 63,
   "id": "7587748ee9efac25",
   "metadata": {
    "collapsed": false,
    "ExecuteTime": {
     "end_time": "2023-12-22T16:13:39.022498500Z",
     "start_time": "2023-12-22T16:13:38.952193Z"
    }
   },
   "outputs": [],
   "source": [
    "bins_school = [0,2,5,8,10]\n",
    "bins_label =['low_ed','small_ed','middle_ed','high_ed']\n",
    "\n",
    "eval['School_cat'] = pd.cut(eval['Schooling'], bins=bins_school, labels=bins_label, right=False, include_lowest=True)\n",
    "eval['School_cat'] = pd.Categorical(eval['School_cat'], categories=bins_label + ['DUNNO'])\n",
    "eval['School_cat'].fillna('DUNNO', inplace=True)\n",
    "eval = eval.drop('Schooling',axis=1)\n"
   ]
  },
  {
   "cell_type": "code",
   "execution_count": 64,
   "id": "914298f93b655c29",
   "metadata": {
    "collapsed": false,
    "ExecuteTime": {
     "end_time": "2023-12-22T16:13:39.022498500Z",
     "start_time": "2023-12-22T16:13:38.958930500Z"
    }
   },
   "outputs": [],
   "source": [
    "country_list = eval['Country']\n",
    "eval['Country'] = eval['Country'].astype('category')\n",
    "eval['Country'] = eval['Country'].cat.codes"
   ]
  },
  {
   "cell_type": "code",
   "execution_count": 65,
   "id": "a5dbdf2fcff2c290",
   "metadata": {
    "collapsed": false,
    "ExecuteTime": {
     "end_time": "2023-12-22T16:13:39.022498500Z",
     "start_time": "2023-12-22T16:13:38.963449900Z"
    }
   },
   "outputs": [],
   "source": [
    "eval = pd.get_dummies(eval,columns=['Status'],prefix='Status',drop_first=False)\n",
    "eval['Status_Developed'] = eval['Status_Developed'].replace({True: 1, False: 0})\n",
    "eval['Status_Developing'] = eval['Status_Developing'].replace({True: 1, False: 0})"
   ]
  },
  {
   "cell_type": "code",
   "execution_count": 66,
   "id": "35d70b3b78bea908",
   "metadata": {
    "collapsed": false,
    "ExecuteTime": {
     "end_time": "2023-12-22T16:13:39.022498500Z",
     "start_time": "2023-12-22T16:13:38.969459700Z"
    }
   },
   "outputs": [],
   "source": [
    "eval['Population_cat'] = eval['Population_cat'].astype('category')\n",
    "eval['Population_cat'] = eval['Population_cat'].cat.codes"
   ]
  },
  {
   "cell_type": "code",
   "execution_count": 67,
   "id": "2c32ac632870b59d",
   "metadata": {
    "collapsed": false,
    "ExecuteTime": {
     "end_time": "2023-12-22T16:13:39.023498700Z",
     "start_time": "2023-12-22T16:13:38.979531800Z"
    }
   },
   "outputs": [
    {
     "name": "stdout",
     "output_type": "stream",
     "text": [
      "<class 'pandas.core.frame.DataFrame'>\n",
      "RangeIndex: 210 entries, 0 to 209\n",
      "Data columns (total 22 columns):\n",
      " #   Column                  Non-Null Count  Dtype   \n",
      "---  ------                  --------------  -----   \n",
      " 0   Country                 210 non-null    int8    \n",
      " 1   Year                    210 non-null    int64   \n",
      " 2   Adult Mortality         210 non-null    float64 \n",
      " 3   infant deaths           210 non-null    int64   \n",
      " 4   Alcohol                 210 non-null    float64 \n",
      " 5   percentage expenditure  210 non-null    float64 \n",
      " 6   Hepatitis B             210 non-null    float64 \n",
      " 7   Measles                 210 non-null    int64   \n",
      " 8   BMI                     210 non-null    float64 \n",
      " 9   under-five deaths       210 non-null    int64   \n",
      " 10  Polio                   210 non-null    float64 \n",
      " 11  Total expenditure       210 non-null    float64 \n",
      " 12  Diphtheria              210 non-null    float64 \n",
      " 13  HIV/AIDS                210 non-null    float64 \n",
      " 14  GDP                     210 non-null    float64 \n",
      " 15  thinness  1-19 years    210 non-null    float64 \n",
      " 16  thinness 5-9 years      210 non-null    float64 \n",
      " 17  Population_cat          210 non-null    int8    \n",
      " 18  Income_cat              210 non-null    category\n",
      " 19  School_cat              210 non-null    category\n",
      " 20  Status_Developed        210 non-null    int64   \n",
      " 21  Status_Developing       210 non-null    int64   \n",
      "dtypes: category(2), float64(12), int64(6), int8(2)\n",
      "memory usage: 30.9 KB\n"
     ]
    }
   ],
   "source": [
    "eval.info()"
   ]
  },
  {
   "cell_type": "code",
   "execution_count": 68,
   "id": "c4225dbac36ef7cd",
   "metadata": {
    "collapsed": false,
    "ExecuteTime": {
     "end_time": "2023-12-22T16:13:39.023498700Z",
     "start_time": "2023-12-22T16:13:38.983835700Z"
    }
   },
   "outputs": [],
   "source": [
    "eval['Income_cat'] = eval['Income_cat'].astype('category')\n",
    "eval['Income_cat'] = eval['Income_cat'].cat.codes"
   ]
  },
  {
   "cell_type": "code",
   "execution_count": 69,
   "id": "462251d1fad69fcd",
   "metadata": {
    "collapsed": false,
    "ExecuteTime": {
     "end_time": "2023-12-22T16:13:39.045767300Z",
     "start_time": "2023-12-22T16:13:38.986346800Z"
    }
   },
   "outputs": [],
   "source": [
    "eval['School_cat'] = eval['School_cat'].astype('category')\n",
    "eval['School_cat'] = eval['School_cat'].cat.codes"
   ]
  },
  {
   "cell_type": "code",
   "execution_count": 70,
   "id": "73d90c8b1926065c",
   "metadata": {
    "collapsed": false,
    "ExecuteTime": {
     "end_time": "2023-12-22T16:13:39.045767300Z",
     "start_time": "2023-12-22T16:13:38.991234900Z"
    }
   },
   "outputs": [
    {
     "name": "stdout",
     "output_type": "stream",
     "text": [
      "<class 'pandas.core.frame.DataFrame'>\n",
      "RangeIndex: 210 entries, 0 to 209\n",
      "Data columns (total 22 columns):\n",
      " #   Column                  Non-Null Count  Dtype  \n",
      "---  ------                  --------------  -----  \n",
      " 0   Country                 210 non-null    int8   \n",
      " 1   Year                    210 non-null    int64  \n",
      " 2   Adult Mortality         210 non-null    float64\n",
      " 3   infant deaths           210 non-null    int64  \n",
      " 4   Alcohol                 210 non-null    float64\n",
      " 5   percentage expenditure  210 non-null    float64\n",
      " 6   Hepatitis B             210 non-null    float64\n",
      " 7   Measles                 210 non-null    int64  \n",
      " 8   BMI                     210 non-null    float64\n",
      " 9   under-five deaths       210 non-null    int64  \n",
      " 10  Polio                   210 non-null    float64\n",
      " 11  Total expenditure       210 non-null    float64\n",
      " 12  Diphtheria              210 non-null    float64\n",
      " 13  HIV/AIDS                210 non-null    float64\n",
      " 14  GDP                     210 non-null    float64\n",
      " 15  thinness  1-19 years    210 non-null    float64\n",
      " 16  thinness 5-9 years      210 non-null    float64\n",
      " 17  Population_cat          210 non-null    int8   \n",
      " 18  Income_cat              210 non-null    int8   \n",
      " 19  School_cat              210 non-null    int8   \n",
      " 20  Status_Developed        210 non-null    int64  \n",
      " 21  Status_Developing       210 non-null    int64  \n",
      "dtypes: float64(12), int64(6), int8(4)\n",
      "memory usage: 30.5 KB\n"
     ]
    }
   ],
   "source": [
    "eval.info()"
   ]
  },
  {
   "cell_type": "code",
   "execution_count": 71,
   "id": "a6e6cc1bc53a6332",
   "metadata": {
    "collapsed": false,
    "ExecuteTime": {
     "end_time": "2023-12-22T16:13:39.045767300Z",
     "start_time": "2023-12-22T16:13:38.998015400Z"
    }
   },
   "outputs": [],
   "source": [
    "predictions = best_model_LR.predict(eval)\n",
    "predictions = [round(value,1) for value in predictions]"
   ]
  },
  {
   "cell_type": "code",
   "execution_count": 72,
   "id": "80431beb9b86194f",
   "metadata": {
    "collapsed": false,
    "ExecuteTime": {
     "end_time": "2023-12-22T16:13:39.046776800Z",
     "start_time": "2023-12-22T16:13:39.008807900Z"
    }
   },
   "outputs": [
    {
     "data": {
      "text/plain": "                         Country  Year  Life expectancy\n0                     Azerbaijan  2015             73.1\n1                     Azerbaijan  2014             73.2\n2                     Azerbaijan  2013             70.6\n3                     Azerbaijan  2012             72.5\n4                     Azerbaijan  2011             72.6\n..                           ...   ...              ...\n205  United Republic of Tanzania  2014             72.6\n206  United Republic of Tanzania  2013             65.7\n207  United Republic of Tanzania  2012             62.1\n208  United Republic of Tanzania  2011             61.9\n209  United Republic of Tanzania  2010             69.5\n\n[210 rows x 3 columns]",
      "text/html": "<div>\n<style scoped>\n    .dataframe tbody tr th:only-of-type {\n        vertical-align: middle;\n    }\n\n    .dataframe tbody tr th {\n        vertical-align: top;\n    }\n\n    .dataframe thead th {\n        text-align: right;\n    }\n</style>\n<table border=\"1\" class=\"dataframe\">\n  <thead>\n    <tr style=\"text-align: right;\">\n      <th></th>\n      <th>Country</th>\n      <th>Year</th>\n      <th>Life expectancy</th>\n    </tr>\n  </thead>\n  <tbody>\n    <tr>\n      <th>0</th>\n      <td>Azerbaijan</td>\n      <td>2015</td>\n      <td>73.1</td>\n    </tr>\n    <tr>\n      <th>1</th>\n      <td>Azerbaijan</td>\n      <td>2014</td>\n      <td>73.2</td>\n    </tr>\n    <tr>\n      <th>2</th>\n      <td>Azerbaijan</td>\n      <td>2013</td>\n      <td>70.6</td>\n    </tr>\n    <tr>\n      <th>3</th>\n      <td>Azerbaijan</td>\n      <td>2012</td>\n      <td>72.5</td>\n    </tr>\n    <tr>\n      <th>4</th>\n      <td>Azerbaijan</td>\n      <td>2011</td>\n      <td>72.6</td>\n    </tr>\n    <tr>\n      <th>...</th>\n      <td>...</td>\n      <td>...</td>\n      <td>...</td>\n    </tr>\n    <tr>\n      <th>205</th>\n      <td>United Republic of Tanzania</td>\n      <td>2014</td>\n      <td>72.6</td>\n    </tr>\n    <tr>\n      <th>206</th>\n      <td>United Republic of Tanzania</td>\n      <td>2013</td>\n      <td>65.7</td>\n    </tr>\n    <tr>\n      <th>207</th>\n      <td>United Republic of Tanzania</td>\n      <td>2012</td>\n      <td>62.1</td>\n    </tr>\n    <tr>\n      <th>208</th>\n      <td>United Republic of Tanzania</td>\n      <td>2011</td>\n      <td>61.9</td>\n    </tr>\n    <tr>\n      <th>209</th>\n      <td>United Republic of Tanzania</td>\n      <td>2010</td>\n      <td>69.5</td>\n    </tr>\n  </tbody>\n</table>\n<p>210 rows × 3 columns</p>\n</div>"
     },
     "execution_count": 72,
     "metadata": {},
     "output_type": "execute_result"
    }
   ],
   "source": [
    "year = eval['Year'].tolist()\n",
    "results = pd.DataFrame({'Country' : country_list, 'Year' : year, 'Life expectancy': predictions})\n",
    "results"
   ]
  },
  {
   "cell_type": "code",
   "execution_count": 73,
   "id": "c1b9819ab9882d16",
   "metadata": {
    "collapsed": false,
    "ExecuteTime": {
     "end_time": "2023-12-22T16:13:39.046776800Z",
     "start_time": "2023-12-22T16:13:39.012580400Z"
    }
   },
   "outputs": [],
   "source": [
    "results.to_csv('results.csv',index=False)"
   ]
  },
  {
   "cell_type": "code",
   "execution_count": 73,
   "id": "726086d2cda5159c",
   "metadata": {
    "collapsed": false,
    "ExecuteTime": {
     "end_time": "2023-12-22T16:13:39.046776800Z",
     "start_time": "2023-12-22T16:13:39.018117300Z"
    }
   },
   "outputs": [],
   "source": []
  }
 ],
 "metadata": {
  "kernelspec": {
   "display_name": "Python 3 (ipykernel)",
   "language": "python",
   "name": "python3"
  },
  "language_info": {
   "codemirror_mode": {
    "name": "ipython",
    "version": 3
   },
   "file_extension": ".py",
   "mimetype": "text/x-python",
   "name": "python",
   "nbconvert_exporter": "python",
   "pygments_lexer": "ipython3",
   "version": "3.11.0"
  }
 },
 "nbformat": 4,
 "nbformat_minor": 5
}
